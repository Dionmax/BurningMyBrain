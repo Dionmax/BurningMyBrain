{
 "cells": [
  {
   "cell_type": "code",
   "execution_count": 5,
   "id": "initial_id",
   "metadata": {
    "collapsed": true,
    "ExecuteTime": {
     "end_time": "2023-09-27T16:40:39.175153400Z",
     "start_time": "2023-09-27T16:40:39.169155800Z"
    }
   },
   "outputs": [
    {
     "data": {
      "text/plain": "'1.21.5'"
     },
     "execution_count": 5,
     "metadata": {},
     "output_type": "execute_result"
    }
   ],
   "source": [
    "import numpy as np\n",
    "\n",
    "np.__version__"
   ]
  },
  {
   "cell_type": "code",
   "execution_count": 27,
   "outputs": [
    {
     "data": {
      "text/plain": "(9,)"
     },
     "execution_count": 27,
     "metadata": {},
     "output_type": "execute_result"
    }
   ],
   "source": [
    "array1 = np.array([1, 2, 3, 4, 5, 6, 7, 8, 9])\n",
    "\n",
    "array1.shape"
   ],
   "metadata": {
    "collapsed": false,
    "ExecuteTime": {
     "end_time": "2023-09-27T18:02:21.085505100Z",
     "start_time": "2023-09-27T18:02:21.069507200Z"
    }
   },
   "id": "caa17b94bbbd8356"
  },
  {
   "cell_type": "code",
   "execution_count": 28,
   "outputs": [
    {
     "data": {
      "text/plain": "array([2, 3, 4])"
     },
     "execution_count": 28,
     "metadata": {},
     "output_type": "execute_result"
    }
   ],
   "source": [
    "array1[1:4]"
   ],
   "metadata": {
    "collapsed": false,
    "ExecuteTime": {
     "end_time": "2023-09-27T18:02:22.805264900Z",
     "start_time": "2023-09-27T18:02:22.794273100Z"
    }
   },
   "id": "213d96f8de2f53f8"
  },
  {
   "cell_type": "code",
   "execution_count": 11,
   "outputs": [
    {
     "data": {
      "text/plain": "array([4, 5, 6])"
     },
     "execution_count": 11,
     "metadata": {},
     "output_type": "execute_result"
    }
   ],
   "source": [
    "indexes = [3, 4, 5]\n",
    "\n",
    "array1[indexes]"
   ],
   "metadata": {
    "collapsed": false,
    "ExecuteTime": {
     "end_time": "2023-09-27T17:10:05.502860Z",
     "start_time": "2023-09-27T17:10:05.481878500Z"
    }
   },
   "id": "fc53c674b9515c0c"
  },
  {
   "cell_type": "code",
   "execution_count": 13,
   "outputs": [
    {
     "data": {
      "text/plain": "array([False,  True, False,  True, False,  True, False,  True, False])"
     },
     "execution_count": 13,
     "metadata": {},
     "output_type": "execute_result"
    }
   ],
   "source": [
    "mask = (array1 % 2 == 0)\n",
    "\n",
    "mask"
   ],
   "metadata": {
    "collapsed": false,
    "ExecuteTime": {
     "end_time": "2023-09-27T17:11:35.079167600Z",
     "start_time": "2023-09-27T17:11:35.055180200Z"
    }
   },
   "id": "4e070d4840d5e66e"
  },
  {
   "cell_type": "code",
   "execution_count": 14,
   "outputs": [
    {
     "data": {
      "text/plain": "array([2, 4, 6, 8])"
     },
     "execution_count": 14,
     "metadata": {},
     "output_type": "execute_result"
    }
   ],
   "source": [
    "array1[mask]"
   ],
   "metadata": {
    "collapsed": false,
    "ExecuteTime": {
     "end_time": "2023-09-27T17:11:46.215891400Z",
     "start_time": "2023-09-27T17:11:46.167014600Z"
    }
   },
   "id": "811017756e6a7d9c"
  },
  {
   "cell_type": "code",
   "execution_count": 15,
   "outputs": [
    {
     "data": {
      "text/plain": "array([ 1,  3,  6, 10, 15, 21, 28, 36, 45], dtype=int32)"
     },
     "execution_count": 15,
     "metadata": {},
     "output_type": "execute_result"
    }
   ],
   "source": [
    "array1.cumsum()"
   ],
   "metadata": {
    "collapsed": false,
    "ExecuteTime": {
     "end_time": "2023-09-27T17:25:43.459973800Z",
     "start_time": "2023-09-27T17:25:43.427975400Z"
    }
   },
   "id": "75c46b148159d5eb"
  },
  {
   "cell_type": "code",
   "execution_count": 16,
   "outputs": [
    {
     "data": {
      "text/plain": "array([     1,      2,      6,     24,    120,    720,   5040,  40320,\n       362880], dtype=int32)"
     },
     "execution_count": 16,
     "metadata": {},
     "output_type": "execute_result"
    }
   ],
   "source": [
    "array1.cumprod()"
   ],
   "metadata": {
    "collapsed": false,
    "ExecuteTime": {
     "end_time": "2023-09-27T17:26:09.465651700Z",
     "start_time": "2023-09-27T17:26:09.423853400Z"
    }
   },
   "id": "6a9200716e61cb96"
  },
  {
   "cell_type": "code",
   "execution_count": 18,
   "outputs": [
    {
     "data": {
      "text/plain": "array([ 0,  5, 10, 15, 20, 25, 30, 35, 40, 45])"
     },
     "execution_count": 18,
     "metadata": {},
     "output_type": "execute_result"
    }
   ],
   "source": [
    "arr2 = np.arange(0, 50, 5)\n",
    "\n",
    "arr2"
   ],
   "metadata": {
    "collapsed": false,
    "ExecuteTime": {
     "end_time": "2023-09-27T17:28:14.823078200Z",
     "start_time": "2023-09-27T17:28:14.807080300Z"
    }
   },
   "id": "3b4d3da465da41dd"
  },
  {
   "cell_type": "code",
   "execution_count": 19,
   "outputs": [
    {
     "data": {
      "text/plain": "dtype('int32')"
     },
     "execution_count": 19,
     "metadata": {},
     "output_type": "execute_result"
    }
   ],
   "source": [
    "arr2.dtype"
   ],
   "metadata": {
    "collapsed": false,
    "ExecuteTime": {
     "end_time": "2023-09-27T17:30:21.320612200Z",
     "start_time": "2023-09-27T17:30:21.294614900Z"
    }
   },
   "id": "90f7e6da57046af3"
  },
  {
   "cell_type": "code",
   "execution_count": 20,
   "outputs": [
    {
     "data": {
      "text/plain": "array([[1., 0., 0.],\n       [0., 1., 0.],\n       [0., 0., 1.]])"
     },
     "execution_count": 20,
     "metadata": {},
     "output_type": "execute_result"
    }
   ],
   "source": [
    "arr3 = np.eye(3)\n",
    "\n",
    "arr3"
   ],
   "metadata": {
    "collapsed": false,
    "ExecuteTime": {
     "end_time": "2023-09-27T17:39:49.082572400Z",
     "start_time": "2023-09-27T17:39:49.061573200Z"
    }
   },
   "id": "184afbe5b530775a"
  },
  {
   "cell_type": "code",
   "execution_count": 21,
   "outputs": [
    {
     "data": {
      "text/plain": "array([[1, 0, 0, 0],\n       [0, 2, 0, 0],\n       [0, 0, 3, 0],\n       [0, 0, 0, 4]])"
     },
     "execution_count": 21,
     "metadata": {},
     "output_type": "execute_result"
    }
   ],
   "source": [
    "arr4 = np.diag(np.arange(1, 5, 1))\n",
    "arr4"
   ],
   "metadata": {
    "collapsed": false,
    "ExecuteTime": {
     "end_time": "2023-09-27T17:40:53.946168900Z",
     "start_time": "2023-09-27T17:40:53.925170500Z"
    }
   },
   "id": "b44a732d361d75ae"
  },
  {
   "cell_type": "code",
   "execution_count": 23,
   "outputs": [
    {
     "name": "stdout",
     "output_type": "stream",
     "text": [
      "[ 0.          0.71428571  1.42857143  2.14285714  2.85714286  3.57142857\n",
      "  4.28571429  5.          5.71428571  6.42857143  7.14285714  7.85714286\n",
      "  8.57142857  9.28571429 10.        ]\n"
     ]
    }
   ],
   "source": [
    "print(np.linspace(0, 10, 15))"
   ],
   "metadata": {
    "collapsed": false,
    "ExecuteTime": {
     "end_time": "2023-09-27T17:43:47.770857500Z",
     "start_time": "2023-09-27T17:43:47.743857900Z"
    }
   },
   "id": "42e5f8e3c7758feb"
  },
  {
   "cell_type": "code",
   "execution_count": 25,
   "outputs": [
    {
     "name": "stdout",
     "output_type": "stream",
     "text": [
      "[1.00000000e+00 3.59381366e+00 1.29154967e+01 4.64158883e+01\n",
      " 1.66810054e+02 5.99484250e+02 2.15443469e+03 7.74263683e+03\n",
      " 2.78255940e+04 1.00000000e+05]\n"
     ]
    }
   ],
   "source": [
    "print(np.logspace(0, 5, 10))"
   ],
   "metadata": {
    "collapsed": false,
    "ExecuteTime": {
     "end_time": "2023-09-27T17:45:18.854631900Z",
     "start_time": "2023-09-27T17:45:18.834633200Z"
    }
   },
   "id": "bc12553994ebc04f"
  },
  {
   "cell_type": "code",
   "execution_count": 39,
   "outputs": [
    {
     "data": {
      "text/plain": "array([[1, 2, 3, 4, 5, 6, 7, 8, 9],\n       [9, 8, 7, 6, 5, 4, 3, 2, 1]])"
     },
     "execution_count": 39,
     "metadata": {},
     "output_type": "execute_result"
    }
   ],
   "source": [
    "array5 = np.array([[1, 2, 3, 4, 5, 6, 7, 8, 9], [9, 8, 7, 6, 5, 4, 3, 2, 1]])\n",
    "\n",
    "array5"
   ],
   "metadata": {
    "collapsed": false,
    "ExecuteTime": {
     "end_time": "2023-09-28T16:31:53.278394200Z",
     "start_time": "2023-09-28T16:31:53.263391900Z"
    }
   },
   "id": "1e05c5ff93f2094a"
  },
  {
   "cell_type": "code",
   "execution_count": 46,
   "outputs": [
    {
     "data": {
      "text/plain": "matrix([[1, 2, 3, 4, 5, 6, 7, 8, 9],\n        [1, 1, 1, 1, 1, 1, 1, 1, 1],\n        [9, 8, 7, 6, 5, 4, 3, 2, 1]])"
     },
     "execution_count": 46,
     "metadata": {},
     "output_type": "execute_result"
    }
   ],
   "source": [
    "arr6 = np.matrix([[1, 2, 3, 4, 5, 6, 7, 8, 9], [1, 1, 1, 1, 1, 1, 1, 1, 1], [9, 8, 7, 6, 5, 4, 3, 2, 1]])\n",
    "# arr6.size\n",
    "# np.shape(arr6)\n",
    "arr6\n"
   ],
   "metadata": {
    "collapsed": false,
    "ExecuteTime": {
     "end_time": "2023-09-28T16:33:28.939446300Z",
     "start_time": "2023-09-28T16:33:28.918516500Z"
    }
   },
   "id": "842b2aef68c37160"
  },
  {
   "cell_type": "code",
   "execution_count": 47,
   "outputs": [
    {
     "data": {
      "text/plain": "dtype('int32')"
     },
     "execution_count": 47,
     "metadata": {},
     "output_type": "execute_result"
    }
   ],
   "source": [
    "arr6.dtype"
   ],
   "metadata": {
    "collapsed": false,
    "ExecuteTime": {
     "end_time": "2023-09-28T16:34:06.279511400Z",
     "start_time": "2023-09-28T16:34:06.254512700Z"
    }
   },
   "id": "1ad79f7b4c1e53a3"
  },
  {
   "cell_type": "code",
   "execution_count": 50,
   "outputs": [
    {
     "data": {
      "text/plain": "matrix([[3, 4, 5],\n        [1, 1, 1],\n        [7, 6, 5]])"
     },
     "execution_count": 50,
     "metadata": {},
     "output_type": "execute_result"
    }
   ],
   "source": [
    "arr6[0:3, 2:5]"
   ],
   "metadata": {
    "collapsed": false,
    "ExecuteTime": {
     "end_time": "2023-09-28T16:35:31.853772500Z",
     "start_time": "2023-09-28T16:35:31.840772900Z"
    }
   },
   "id": "af22a389c642e768"
  },
  {
   "cell_type": "code",
   "execution_count": 52,
   "outputs": [
    {
     "data": {
      "text/plain": "dtype('float64')"
     },
     "execution_count": 52,
     "metadata": {},
     "output_type": "execute_result"
    }
   ],
   "source": [
    "arr_with_type = np.array([2, 3, 4], dtype=float)\n",
    "\n",
    "arr_with_type.dtype"
   ],
   "metadata": {
    "collapsed": false,
    "ExecuteTime": {
     "end_time": "2023-09-28T16:37:20.407946800Z",
     "start_time": "2023-09-28T16:37:20.391948Z"
    }
   },
   "id": "11719f530d9e3398"
  },
  {
   "cell_type": "code",
   "execution_count": 53,
   "outputs": [
    {
     "data": {
      "text/plain": "4"
     },
     "execution_count": 53,
     "metadata": {},
     "output_type": "execute_result"
    }
   ],
   "source": [
    "arr6.itemsize"
   ],
   "metadata": {
    "collapsed": false,
    "ExecuteTime": {
     "end_time": "2023-09-28T16:44:08.281712400Z",
     "start_time": "2023-09-28T16:44:08.249715100Z"
    }
   },
   "id": "249ebac67a1c24c"
  },
  {
   "cell_type": "code",
   "execution_count": 54,
   "outputs": [
    {
     "data": {
      "text/plain": "108"
     },
     "execution_count": 54,
     "metadata": {},
     "output_type": "execute_result"
    }
   ],
   "source": [
    "arr6.nbytes"
   ],
   "metadata": {
    "collapsed": false,
    "ExecuteTime": {
     "end_time": "2023-09-28T16:44:20.398252100Z",
     "start_time": "2023-09-28T16:44:20.335394300Z"
    }
   },
   "id": "e7f1d52b412a1834"
  },
  {
   "cell_type": "code",
   "execution_count": 55,
   "outputs": [
    {
     "data": {
      "text/plain": "2"
     },
     "execution_count": 55,
     "metadata": {},
     "output_type": "execute_result"
    }
   ],
   "source": [
    "arr6.ndim"
   ],
   "metadata": {
    "collapsed": false,
    "ExecuteTime": {
     "end_time": "2023-09-28T16:44:30.203933600Z",
     "start_time": "2023-09-28T16:44:30.167937900Z"
    }
   },
   "id": "ce480dc513fc50a7"
  },
  {
   "cell_type": "code",
   "execution_count": 64,
   "outputs": [
    {
     "data": {
      "text/plain": "array([[[ 6,  7,  8,  9],\n        [ 1,  1,  1,  1],\n        [ 4, 30,  2,  1]],\n\n       [[ 1,  2,  3,  4],\n        [ 1,  1,  1,  1],\n        [ 9,  8,  7,  6]]])"
     },
     "execution_count": 64,
     "metadata": {},
     "output_type": "execute_result"
    }
   ],
   "source": [
    "arr7 = np.array([\n",
    "    [\n",
    "        [6, 7, 8, 9],\n",
    "        [1, 1, 1, 1],\n",
    "        [4, 30, 2, 1]\n",
    "    ],\n",
    "    [\n",
    "        [1, 2, 3, 4],\n",
    "        [1, 1, 1, 1],\n",
    "        [9, 8, 7, 6]\n",
    "    ]\n",
    "])\n",
    "\n",
    "arr7"
   ],
   "metadata": {
    "collapsed": false,
    "ExecuteTime": {
     "end_time": "2023-09-28T16:52:31.490592Z",
     "start_time": "2023-09-28T16:52:31.473593700Z"
    }
   },
   "id": "74f34a6ccaa9878e"
  },
  {
   "cell_type": "code",
   "execution_count": 61,
   "outputs": [
    {
     "data": {
      "text/plain": "3"
     },
     "execution_count": 61,
     "metadata": {},
     "output_type": "execute_result"
    }
   ],
   "source": [
    "arr7.ndim"
   ],
   "metadata": {
    "collapsed": false,
    "ExecuteTime": {
     "end_time": "2023-09-28T16:51:05.234641600Z",
     "start_time": "2023-09-28T16:51:05.210993900Z"
    }
   },
   "id": "a92f2980abb5bbd6"
  },
  {
   "cell_type": "code",
   "execution_count": 62,
   "outputs": [
    {
     "data": {
      "text/plain": "(2, 3, 4)"
     },
     "execution_count": 62,
     "metadata": {},
     "output_type": "execute_result"
    }
   ],
   "source": [
    "arr7.shape"
   ],
   "metadata": {
    "collapsed": false,
    "ExecuteTime": {
     "end_time": "2023-09-28T16:51:11.484063100Z",
     "start_time": "2023-09-28T16:51:11.459661800Z"
    }
   },
   "id": "fb354449b8a8e59"
  },
  {
   "cell_type": "code",
   "execution_count": 65,
   "outputs": [
    {
     "data": {
      "text/plain": "30"
     },
     "execution_count": 65,
     "metadata": {},
     "output_type": "execute_result"
    }
   ],
   "source": [
    "arr7[0, 2, 1]"
   ],
   "metadata": {
    "collapsed": false,
    "ExecuteTime": {
     "end_time": "2023-09-28T16:52:34.786298100Z",
     "start_time": "2023-09-28T16:52:34.782297Z"
    }
   },
   "id": "160e8ff96e0eede4"
  },
  {
   "cell_type": "code",
   "execution_count": 67,
   "outputs": [
    {
     "data": {
      "text/plain": "array([[[[  1,   2,   3,   4,   5],\n         [  6,   7,   8,   9,  10],\n         [ 11,  12,  13,  14,  15],\n         [ 16,  17,  18,  19,  20]],\n\n        [[ 21,  22,  23,  24,  25],\n         [ 26,  27,  28,  29,  30],\n         [ 31,  32,  33,  34,  35],\n         [ 36,  37,  38,  39,  40]],\n\n        [[ 41,  42,  43,  44,  45],\n         [ 46,  47,  48,  49,  50],\n         [ 51,  52,  53,  54,  55],\n         [ 56,  57,  58,  59,  60]]],\n\n\n       [[[ 61,  62,  63,  64,  65],\n         [ 66,  67,  68,  69,  70],\n         [ 71,  72,  73,  74,  75],\n         [ 76,  77,  78,  79,  80]],\n\n        [[ 81,  82,  83,  84,  85],\n         [ 86,  87,  88,  89,  90],\n         [ 91,  92,  93,  94,  95],\n         [ 96,  97,  98,  99, 100]],\n\n        [[101, 102, 103, 104, 105],\n         [106, 107, 108, 109, 110],\n         [111, 112, 113, 114, 115],\n         [116, 117, 118, 119, 120]]]])"
     },
     "execution_count": 67,
     "metadata": {},
     "output_type": "execute_result"
    }
   ],
   "source": [
    "arr8 = np.array([\n",
    "    [\n",
    "        [\n",
    "            [1, 2, 3, 4, 5],\n",
    "            [6, 7, 8, 9, 10],\n",
    "            [11, 12, 13, 14, 15],\n",
    "            [16, 17, 18, 19, 20]\n",
    "        ],\n",
    "        [\n",
    "            [21, 22, 23, 24, 25],\n",
    "            [26, 27, 28, 29, 30],\n",
    "            [31, 32, 33, 34, 35],\n",
    "            [36, 37, 38, 39, 40]\n",
    "        ],\n",
    "        [\n",
    "            [41, 42, 43, 44, 45],\n",
    "            [46, 47, 48, 49, 50],\n",
    "            [51, 52, 53, 54, 55],\n",
    "            [56, 57, 58, 59, 60]\n",
    "        ]\n",
    "    ],\n",
    "    [\n",
    "        [\n",
    "            [61, 62, 63, 64, 65],\n",
    "            [66, 67, 68, 69, 70],\n",
    "            [71, 72, 73, 74, 75],\n",
    "            [76, 77, 78, 79, 80]\n",
    "        ],\n",
    "        [\n",
    "            [81, 82, 83, 84, 85],\n",
    "            [86, 87, 88, 89, 90],\n",
    "            [91, 92, 93, 94, 95],\n",
    "            [96, 97, 98, 99, 100]\n",
    "        ],\n",
    "        [\n",
    "            [101, 102, 103, 104, 105],\n",
    "            [106, 107, 108, 109, 110],\n",
    "            [111, 112, 113, 114, 115],\n",
    "            [116, 117, 118, 119, 120]\n",
    "        ]\n",
    "    ]\n",
    "])\n",
    "\n",
    "arr8"
   ],
   "metadata": {
    "collapsed": false,
    "ExecuteTime": {
     "end_time": "2023-09-28T17:02:46.616037700Z",
     "start_time": "2023-09-28T17:02:46.566639700Z"
    }
   },
   "id": "7c962b8ab89fdca1"
  },
  {
   "cell_type": "code",
   "execution_count": 68,
   "outputs": [
    {
     "data": {
      "text/plain": "4"
     },
     "execution_count": 68,
     "metadata": {},
     "output_type": "execute_result"
    }
   ],
   "source": [
    "arr8.ndim"
   ],
   "metadata": {
    "collapsed": false
   },
   "id": "ffe1d21eef829544"
  },
  {
   "cell_type": "code",
   "execution_count": 69,
   "outputs": [
    {
     "data": {
      "text/plain": "(2, 3, 4, 5)"
     },
     "execution_count": 69,
     "metadata": {},
     "output_type": "execute_result"
    }
   ],
   "source": [
    "arr8.shape"
   ],
   "metadata": {
    "collapsed": false,
    "ExecuteTime": {
     "end_time": "2023-09-28T17:12:03.594925Z",
     "start_time": "2023-09-28T17:12:03.504927100Z"
    }
   },
   "id": "5a7bd4f80934fc73"
  },
  {
   "cell_type": "code",
   "execution_count": 72,
   "outputs": [
    {
     "data": {
      "text/plain": "95"
     },
     "execution_count": 72,
     "metadata": {},
     "output_type": "execute_result"
    }
   ],
   "source": [
    "arr8[1, 1, 2, 4]"
   ],
   "metadata": {
    "collapsed": false,
    "ExecuteTime": {
     "end_time": "2023-09-28T17:15:38.960071300Z",
     "start_time": "2023-09-28T17:15:38.941252Z"
    }
   },
   "id": "baff6d445f6c3aa1"
  }
 ],
 "metadata": {
  "kernelspec": {
   "display_name": "Python 3",
   "language": "python",
   "name": "python3"
  },
  "language_info": {
   "codemirror_mode": {
    "name": "ipython",
    "version": 2
   },
   "file_extension": ".py",
   "mimetype": "text/x-python",
   "name": "python",
   "nbconvert_exporter": "python",
   "pygments_lexer": "ipython2",
   "version": "2.7.6"
  }
 },
 "nbformat": 4,
 "nbformat_minor": 5
}
