{
 "cells": [
  {
   "cell_type": "code",
   "execution_count": 2,
   "id": "initial_id",
   "metadata": {
    "collapsed": true,
    "ExecuteTime": {
     "end_time": "2023-09-28T18:11:42.422685900Z",
     "start_time": "2023-09-28T18:11:42.412693900Z"
    }
   },
   "outputs": [],
   "source": [
    "import numpy as np"
   ]
  },
  {
   "cell_type": "code",
   "execution_count": 3,
   "outputs": [
    {
     "data": {
      "text/plain": "54.0"
     },
     "execution_count": 3,
     "metadata": {},
     "output_type": "execute_result"
    }
   ],
   "source": [
    "arr1 = np.array([15, 23, 63, 94, 75])\n",
    "\n",
    "np.mean(arr1)"
   ],
   "metadata": {
    "collapsed": false,
    "ExecuteTime": {
     "end_time": "2023-09-28T18:11:44.225576900Z",
     "start_time": "2023-09-28T18:11:44.178101500Z"
    }
   },
   "id": "3f2ce225e7c7f8f5"
  },
  {
   "cell_type": "code",
   "execution_count": 4,
   "outputs": [
    {
     "data": {
      "text/plain": "30.34468652004828"
     },
     "execution_count": 4,
     "metadata": {},
     "output_type": "execute_result"
    }
   ],
   "source": [
    "np.std(arr1)"
   ],
   "metadata": {
    "collapsed": false,
    "ExecuteTime": {
     "end_time": "2023-09-28T18:23:23.568091600Z",
     "start_time": "2023-09-28T18:23:23.552093600Z"
    }
   },
   "id": "194babee0820c58c"
  },
  {
   "cell_type": "code",
   "execution_count": 5,
   "outputs": [
    {
     "data": {
      "text/plain": "920.8"
     },
     "execution_count": 5,
     "metadata": {},
     "output_type": "execute_result"
    }
   ],
   "source": [
    "np.var(arr1)"
   ],
   "metadata": {
    "collapsed": false,
    "ExecuteTime": {
     "end_time": "2023-09-28T18:27:57.706990500Z",
     "start_time": "2023-09-28T18:27:57.685486400Z"
    }
   },
   "id": "79d7c530eb3c0c11"
  },
  {
   "cell_type": "code",
   "execution_count": 6,
   "outputs": [
    {
     "data": {
      "text/plain": "270"
     },
     "execution_count": 6,
     "metadata": {},
     "output_type": "execute_result"
    }
   ],
   "source": [
    "np.sum(arr1)"
   ],
   "metadata": {
    "collapsed": false,
    "ExecuteTime": {
     "end_time": "2023-09-29T15:40:47.780994100Z",
     "start_time": "2023-09-29T15:40:47.764992700Z"
    }
   },
   "id": "f367e3380ddd8b7b"
  },
  {
   "cell_type": "code",
   "execution_count": 7,
   "outputs": [
    {
     "data": {
      "text/plain": "153231750"
     },
     "execution_count": 7,
     "metadata": {},
     "output_type": "execute_result"
    }
   ],
   "source": [
    "np.prod(arr1)"
   ],
   "metadata": {
    "collapsed": false,
    "ExecuteTime": {
     "end_time": "2023-09-29T15:41:09.061831500Z",
     "start_time": "2023-09-29T15:41:08.996929200Z"
    }
   },
   "id": "eb8a60849355e8e1"
  },
  {
   "cell_type": "code",
   "execution_count": 10,
   "outputs": [
    {
     "name": "stdout",
     "output_type": "stream",
     "text": [
      "[16 25 66 98 80]\n"
     ]
    }
   ],
   "source": [
    "arr2 = range(1, 6)\n",
    "\n",
    "print(np.add(arr2, arr1))"
   ],
   "metadata": {
    "collapsed": false,
    "ExecuteTime": {
     "end_time": "2023-09-29T15:45:54.619663900Z",
     "start_time": "2023-09-29T15:45:54.572450800Z"
    }
   },
   "id": "2ce30a0ae2586932"
  },
  {
   "cell_type": "code",
   "execution_count": 27,
   "outputs": [
    {
     "data": {
      "text/plain": "(array([[1, 2, 3],\n        [4, 5, 6]]),\n array([[ 7,  8,  9],\n        [10, 11, 12],\n        [13, 14, 15]]))"
     },
     "execution_count": 27,
     "metadata": {},
     "output_type": "execute_result"
    }
   ],
   "source": [
    "matrix1 = np.array([[1, 2, 3], [4, 5, 6]])\n",
    "matrix2 = np.array([[7, 8, 9], [10, 11, 12], [13, 14, 15]])\n",
    "\n",
    "matrix1, matrix2"
   ],
   "metadata": {
    "collapsed": false,
    "ExecuteTime": {
     "end_time": "2023-09-29T16:17:45.856515900Z",
     "start_time": "2023-09-29T16:17:45.841519600Z"
    }
   },
   "id": "af27e45dc68168e9"
  },
  {
   "cell_type": "code",
   "execution_count": 28,
   "outputs": [
    {
     "name": "stdout",
     "output_type": "stream",
     "text": [
      "[[ 66  72  78]\n",
      " [156 171 186]]\n"
     ]
    }
   ],
   "source": [
    "print(np.dot(matrix1, matrix2))"
   ],
   "metadata": {
    "collapsed": false,
    "ExecuteTime": {
     "end_time": "2023-09-29T16:17:46.727117100Z",
     "start_time": "2023-09-29T16:17:46.712114900Z"
    }
   },
   "id": "8b67baa10c3f431e"
  },
  {
   "cell_type": "code",
   "execution_count": 29,
   "outputs": [
    {
     "name": "stdout",
     "output_type": "stream",
     "text": [
      "[[ 66  72  78]\n",
      " [156 171 186]]\n"
     ]
    }
   ],
   "source": [
    "print(matrix1 @ matrix2)"
   ],
   "metadata": {
    "collapsed": false,
    "ExecuteTime": {
     "end_time": "2023-09-29T16:24:52.978954200Z",
     "start_time": "2023-09-29T16:24:52.944937400Z"
    }
   },
   "id": "35f81d555eecd76a"
  },
  {
   "cell_type": "code",
   "execution_count": 34,
   "outputs": [
    {
     "name": "stdout",
     "output_type": "stream",
     "text": [
      "[[ 66  72  78]\n",
      " [156 171 186]]\n",
      "\n",
      "\n",
      "[[ 50  68  86]\n",
      " [122 167 212]]\n"
     ]
    }
   ],
   "source": [
    "print(np.tensordot(matrix1, matrix2, axes=(1, 0)))\n",
    "print('\\n')\n",
    "print(np.tensordot(matrix1, matrix2, axes=(1, 1)))"
   ],
   "metadata": {
    "collapsed": false,
    "ExecuteTime": {
     "end_time": "2023-09-29T16:28:48.765242600Z",
     "start_time": "2023-09-29T16:28:48.757255Z"
    }
   },
   "id": "3adaa0ee61a35fd8"
  },
  {
   "cell_type": "code",
   "execution_count": 36,
   "outputs": [
    {
     "data": {
      "text/plain": "array([[0, 0, 0],\n       [0, 1, 0],\n       [0, 0, 2]])"
     },
     "execution_count": 36,
     "metadata": {},
     "output_type": "execute_result"
    }
   ],
   "source": [
    "matrix3 = np.diag(np.arange(3))\n",
    "\n",
    "matrix3"
   ],
   "metadata": {
    "collapsed": false,
    "ExecuteTime": {
     "end_time": "2023-09-29T16:32:02.432460600Z",
     "start_time": "2023-09-29T16:32:02.412476800Z"
    }
   },
   "id": "dc65b47e7279468e"
  },
  {
   "cell_type": "code",
   "execution_count": 41,
   "outputs": [
    {
     "data": {
      "text/plain": "array([3, 6, 9])"
     },
     "execution_count": 41,
     "metadata": {},
     "output_type": "execute_result"
    }
   ],
   "source": [
    "arr3 = np.arange(1, 11)\n",
    "\n",
    "arr3[2:9:3]"
   ],
   "metadata": {
    "collapsed": false,
    "ExecuteTime": {
     "end_time": "2023-09-29T16:36:47.811063200Z",
     "start_time": "2023-09-29T16:36:47.784990600Z"
    }
   },
   "id": "3a130d0ff5ee2877"
  },
  {
   "cell_type": "code",
   "execution_count": 42,
   "outputs": [
    {
     "name": "stdout",
     "output_type": "stream",
     "text": [
      "[ 2.5  3.5  4.5  5.5  6.5  7.5  8.5  9.5 10.5 11.5]\n"
     ]
    }
   ],
   "source": [
    "print(arr3 + 1.5)"
   ],
   "metadata": {
    "collapsed": false,
    "ExecuteTime": {
     "end_time": "2023-09-29T16:37:43.975906400Z",
     "start_time": "2023-09-29T16:37:43.955908200Z"
    }
   },
   "id": "baf97ec664904298"
  },
  {
   "cell_type": "code",
   "execution_count": 46,
   "outputs": [
    {
     "name": "stdout",
     "output_type": "stream",
     "text": [
      "[ 2.  3.  4.  5.  6.  7.  8.  9. 10. 11.]\n",
      "[ 2.  4.  4.  6.  6.  8.  8. 10. 10. 12.]\n",
      "[ 3.  4.  5.  6.  7.  8.  9. 10. 11. 12.]\n"
     ]
    }
   ],
   "source": [
    "print(np.around((arr3 + 1.4)))\n",
    "print(np.around((arr3 + 1.5)))\n",
    "print(np.around((arr3 + 1.6)))"
   ],
   "metadata": {
    "collapsed": false,
    "ExecuteTime": {
     "end_time": "2023-09-29T16:39:05.533330100Z",
     "start_time": "2023-09-29T16:39:05.519330200Z"
    }
   },
   "id": "eb741a85b0b9ced6"
  },
  {
   "cell_type": "code",
   "execution_count": 49,
   "outputs": [
    {
     "data": {
      "text/plain": "array([1, 2, 3, 4, 5, 6])"
     },
     "execution_count": 49,
     "metadata": {},
     "output_type": "execute_result"
    }
   ],
   "source": [
    "arr4 = matrix1.flatten()\n",
    "\n",
    "arr4"
   ],
   "metadata": {
    "collapsed": false,
    "ExecuteTime": {
     "end_time": "2023-09-29T16:40:28.412019500Z",
     "start_time": "2023-09-29T16:40:28.389972Z"
    }
   },
   "id": "73fc56ed0f303a2e"
  },
  {
   "cell_type": "code",
   "execution_count": 54,
   "outputs": [
    {
     "name": "stdout",
     "output_type": "stream",
     "text": [
      "[1 1 1 2 2 2 3 3 3]\n",
      "[1 2 3 1 2 3 1 2 3]\n",
      "[1 2 3]\n"
     ]
    }
   ],
   "source": [
    "repeat_arr = np.arange(1, 4)\n",
    "\n",
    "print(np.repeat(repeat_arr, 3))\n",
    "print(np.tile(repeat_arr, 3))\n",
    "print(np.copy(repeat_arr))"
   ],
   "metadata": {
    "collapsed": false,
    "ExecuteTime": {
     "end_time": "2023-09-29T16:45:18.172038300Z",
     "start_time": "2023-09-29T16:45:18.160053Z"
    }
   },
   "id": "4a8897d39efb42c5"
  }
 ],
 "metadata": {
  "kernelspec": {
   "display_name": "Python 3",
   "language": "python",
   "name": "python3"
  },
  "language_info": {
   "codemirror_mode": {
    "name": "ipython",
    "version": 2
   },
   "file_extension": ".py",
   "mimetype": "text/x-python",
   "name": "python",
   "nbconvert_exporter": "python",
   "pygments_lexer": "ipython2",
   "version": "2.7.6"
  }
 },
 "nbformat": 4,
 "nbformat_minor": 5
}
