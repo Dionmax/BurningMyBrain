{
 "cells": [
  {
   "cell_type": "code",
   "execution_count": 4,
   "id": "initial_id",
   "metadata": {
    "collapsed": true,
    "ExecuteTime": {
     "end_time": "2023-09-21T16:18:09.915642400Z",
     "start_time": "2023-09-21T16:18:09.901643700Z"
    }
   },
   "outputs": [
    {
     "name": "stdout",
     "output_type": "stream",
     "text": [
      "11\n"
     ]
    }
   ],
   "source": [
    "try:\n",
    "   # result = 8 + '2'\n",
    "   result = 8 + 3\n",
    "except TypeError:\n",
    "    print('Error: ', TypeError)\n",
    "else:\n",
    "    print(result)"
   ]
  },
  {
   "cell_type": "code",
   "execution_count": 16,
   "outputs": [
    {
     "name": "stdout",
     "output_type": "stream",
     "text": [
      "Invalid!\n",
      "Invalid!\n",
      "Invalid!\n",
      "Invalid!\n",
      "Ty for the number\n",
      "5\n"
     ]
    }
   ],
   "source": [
    "def ask_int():\n",
    "    val = 0\n",
    "    while True:\n",
    "        try:\n",
    "            val = int(input('Type any number: '))\n",
    "        except:\n",
    "            print('Invalid!')\n",
    "            continue\n",
    "        else:\n",
    "            print('Ty for the number')\n",
    "            break\n",
    "        # finally:\n",
    "        #     print('End of program')\n",
    "    print(val)\n",
    "    \n",
    "ask_int()"
   ],
   "metadata": {
    "collapsed": false,
    "ExecuteTime": {
     "end_time": "2023-09-21T16:31:01.699257100Z",
     "start_time": "2023-09-21T16:30:57.790622500Z"
    }
   },
   "id": "61168c7d6d2476dc"
  },
  {
   "cell_type": "code",
   "execution_count": null,
   "outputs": [],
   "source": [],
   "metadata": {
    "collapsed": false
   },
   "id": "73e3807500705203"
  }
 ],
 "metadata": {
  "kernelspec": {
   "display_name": "Python 3",
   "language": "python",
   "name": "python3"
  },
  "language_info": {
   "codemirror_mode": {
    "name": "ipython",
    "version": 2
   },
   "file_extension": ".py",
   "mimetype": "text/x-python",
   "name": "python",
   "nbconvert_exporter": "python",
   "pygments_lexer": "ipython2",
   "version": "2.7.6"
  }
 },
 "nbformat": 4,
 "nbformat_minor": 5
}
