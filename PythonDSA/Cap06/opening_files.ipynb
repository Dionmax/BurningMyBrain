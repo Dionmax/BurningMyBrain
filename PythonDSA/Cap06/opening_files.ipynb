{
 "cells": [
  {
   "cell_type": "code",
   "execution_count": 1,
   "id": "initial_id",
   "metadata": {
    "collapsed": true,
    "ExecuteTime": {
     "end_time": "2023-09-14T17:29:13.492327100Z",
     "start_time": "2023-09-14T17:29:13.474344100Z"
    }
   },
   "outputs": [
    {
     "name": "stdout",
     "output_type": "stream",
     "text": [
      "This is a test file\n",
      ":)\n"
     ]
    }
   ],
   "source": [
    "file1 = open(\"files/file.txt\")\n",
    "# print(file1)\n",
    "# print(file1.read())\n",
    "# print(file1.seek(0,0))\n",
    "print(file1.read())"
   ]
  },
  {
   "cell_type": "code",
   "execution_count": 7,
   "outputs": [
    {
     "name": "stdout",
     "output_type": "stream",
     "text": [
      "test file 2\n"
     ]
    }
   ],
   "source": [
    "file2 = open(\"files/file1.txt\", \"w\")\n",
    "file2.write(\"test file 2\")\n",
    "file2.close()\n",
    "file2 = open(\"files/file1.txt\", \"r\")\n",
    "print(file2.read())\n",
    "# file2 = open(\"file1.txt\", \"a\") #append\n",
    "# file2.write(\" append\")\n",
    "# file2.close()"
   ],
   "metadata": {
    "collapsed": false,
    "ExecuteTime": {
     "end_time": "2023-09-12T18:18:44.928553400Z",
     "start_time": "2023-09-12T18:18:44.919554600Z"
    }
   },
   "id": "72cb68751e4e229d"
  },
  {
   "cell_type": "code",
   "execution_count": 3,
   "outputs": [
    {
     "data": {
      "text/plain": "                  Name            Position Title        Department  \\\n0      AARON,  ELVIA J          WATER RATE TAKER       WATER MGMNT   \n1    AARON,  JEFFERY M            POLICE OFFICER            POLICE   \n2       AARON,  KARINA            POLICE OFFICER            POLICE   \n3  AARON,  KIMBERLEI R  CHIEF CONTRACT EXPEDITER  GENERAL SERVICES   \n4  ABAD JR,  VICENTE M         CIVIL ENGINEER IV       WATER MGMNT   \n\n  Employee Annual Salary  \n0              $88967.00  \n1              $80778.00  \n2              $80778.00  \n3              $84780.00  \n4             $104736.00  ",
      "text/html": "<div>\n<style scoped>\n    .dataframe tbody tr th:only-of-type {\n        vertical-align: middle;\n    }\n\n    .dataframe tbody tr th {\n        vertical-align: top;\n    }\n\n    .dataframe thead th {\n        text-align: right;\n    }\n</style>\n<table border=\"1\" class=\"dataframe\">\n  <thead>\n    <tr style=\"text-align: right;\">\n      <th></th>\n      <th>Name</th>\n      <th>Position Title</th>\n      <th>Department</th>\n      <th>Employee Annual Salary</th>\n    </tr>\n  </thead>\n  <tbody>\n    <tr>\n      <th>0</th>\n      <td>AARON,  ELVIA J</td>\n      <td>WATER RATE TAKER</td>\n      <td>WATER MGMNT</td>\n      <td>$88967.00</td>\n    </tr>\n    <tr>\n      <th>1</th>\n      <td>AARON,  JEFFERY M</td>\n      <td>POLICE OFFICER</td>\n      <td>POLICE</td>\n      <td>$80778.00</td>\n    </tr>\n    <tr>\n      <th>2</th>\n      <td>AARON,  KARINA</td>\n      <td>POLICE OFFICER</td>\n      <td>POLICE</td>\n      <td>$80778.00</td>\n    </tr>\n    <tr>\n      <th>3</th>\n      <td>AARON,  KIMBERLEI R</td>\n      <td>CHIEF CONTRACT EXPEDITER</td>\n      <td>GENERAL SERVICES</td>\n      <td>$84780.00</td>\n    </tr>\n    <tr>\n      <th>4</th>\n      <td>ABAD JR,  VICENTE M</td>\n      <td>CIVIL ENGINEER IV</td>\n      <td>WATER MGMNT</td>\n      <td>$104736.00</td>\n    </tr>\n  </tbody>\n</table>\n</div>"
     },
     "execution_count": 3,
     "metadata": {},
     "output_type": "execute_result"
    }
   ],
   "source": [
    "import pandas as pd\n",
    "\n",
    "df = pd.read_csv(\"files/salary.csv\")\n",
    "\n",
    "df.head()"
   ],
   "metadata": {
    "collapsed": false,
    "ExecuteTime": {
     "end_time": "2023-09-14T17:31:20.271878300Z",
     "start_time": "2023-09-14T17:31:20.233881700Z"
    }
   },
   "id": "a01923759e9e3be4"
  },
  {
   "cell_type": "code",
   "execution_count": 4,
   "outputs": [
    {
     "data": {
      "text/plain": "POLICE OFFICER                            9489\nFIREFIGHTER-EMT                           1191\nSERGEANT                                  1138\nFIREFIGHTER                                970\nPOLICE OFFICER (ASSIGNED AS DETECTIVE)     808\n                                          ... \nFOREMAN OF WINDOW WASHERS                    1\nSUPVSR OF INFORMATION SERVICES               1\nMANAGER OF TAX POLICY                        1\nFOREMAN OF ARCHITECTURAL IRON WORKERS        1\nMECHANICAL ENGINEER IV                       1\nName: Position Title, Length: 1094, dtype: int64"
     },
     "execution_count": 4,
     "metadata": {},
     "output_type": "execute_result"
    }
   ],
   "source": [
    "df['Position Title'].value_counts()"
   ],
   "metadata": {
    "collapsed": false,
    "ExecuteTime": {
     "end_time": "2023-09-14T17:32:28.757074Z",
     "start_time": "2023-09-14T17:32:28.713172600Z"
    }
   },
   "id": "93b86b4bc159c8fd"
  },
  {
   "cell_type": "code",
   "execution_count": 10,
   "outputs": [
    {
     "name": "stdout",
     "output_type": "stream",
     "text": [
      "Test file OS import\n"
     ]
    }
   ],
   "source": [
    "import os\n",
    "\n",
    "file3 = open(os.path.join('files/file2.txt'), 'w')\n",
    "\n",
    "file3.write(\"Test file OS import\")\n",
    "\n",
    "file3.close()\n",
    "\n",
    "r_file3 = open('files/file2.txt', 'r')\n",
    "\n",
    "print(r_file3.read())"
   ],
   "metadata": {
    "collapsed": false,
    "ExecuteTime": {
     "end_time": "2023-09-14T17:44:43.487709400Z",
     "start_time": "2023-09-14T17:44:43.441949100Z"
    }
   },
   "id": "37a057cb321f3122"
  },
  {
   "cell_type": "code",
   "execution_count": 14,
   "outputs": [
    {
     "name": "stdout",
     "output_type": "stream",
     "text": [
      "opening and closing with 'with'\n"
     ]
    }
   ],
   "source": [
    "with open('files/file3.txt', 'w') as w_file4:\n",
    "    w_file4.write(\"opening and closing with 'with'\")\n",
    "\n",
    "with open('files/file3.txt', 'r') as r_file4:\n",
    "    print(r_file4.read())"
   ],
   "metadata": {
    "collapsed": false,
    "ExecuteTime": {
     "end_time": "2023-09-14T18:00:05.144174500Z",
     "start_time": "2023-09-14T18:00:05.127395300Z"
    }
   },
   "id": "704ad37a502934ff"
  },
  {
   "cell_type": "code",
   "execution_count": 16,
   "outputs": [
    {
     "name": "stdout",
     "output_type": "stream",
     "text": [
      "['grade1', 'grade2', 'grade3']\n",
      "['63', '89', '99']\n",
      "['62', '85', '98']\n",
      "['63', '82', '91']\n"
     ]
    }
   ],
   "source": [
    "import csv\n",
    "\n",
    "with open(\"files/grades.csv\", 'w') as csv_file:\n",
    "    writer = csv.writer(csv_file)\n",
    "    \n",
    "    writer.writerow(('grade1', 'grade2', 'grade3'))\n",
    "    writer.writerow((63, 89, 99))\n",
    "    writer.writerow((62, 85, 98))\n",
    "    writer.writerow((63, 82, 91))\n",
    "    \n",
    "with open('files/grades.csv', 'r', encoding='utf8', newline='\\r\\n') as r_csv_file:\n",
    "    reader = csv.reader(r_csv_file)\n",
    "    \n",
    "    for x in reader:\n",
    "        print(x)"
   ],
   "metadata": {
    "collapsed": false,
    "ExecuteTime": {
     "end_time": "2023-09-14T18:22:57.153300300Z",
     "start_time": "2023-09-14T18:22:57.136306300Z"
    }
   },
   "id": "a85325377cc55eed"
  },
  {
   "cell_type": "code",
   "execution_count": null,
   "outputs": [],
   "source": [],
   "metadata": {
    "collapsed": false
   },
   "id": "a53cabadc6debb6a"
  }
 ],
 "metadata": {
  "kernelspec": {
   "display_name": "Python 3",
   "language": "python",
   "name": "python3"
  },
  "language_info": {
   "codemirror_mode": {
    "name": "ipython",
    "version": 2
   },
   "file_extension": ".py",
   "mimetype": "text/x-python",
   "name": "python",
   "nbconvert_exporter": "python",
   "pygments_lexer": "ipython2",
   "version": "2.7.6"
  }
 },
 "nbformat": 4,
 "nbformat_minor": 5
}
