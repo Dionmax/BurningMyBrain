{
 "cells": [
  {
   "cell_type": "code",
   "execution_count": 3,
   "id": "initial_id",
   "metadata": {
    "collapsed": true,
    "ExecuteTime": {
     "end_time": "2023-09-12T18:07:16.278021500Z",
     "start_time": "2023-09-12T18:07:16.270017200Z"
    }
   },
   "outputs": [
    {
     "name": "stdout",
     "output_type": "stream",
     "text": [
      "This is a test file\n",
      ":)\n"
     ]
    }
   ],
   "source": [
    "file1 = open(\"file.txt\")\n",
    "# print(file1)\n",
    "# print(file1.read())\n",
    "# print(file1.seek(0,0))\n",
    "print(file1.read())"
   ]
  },
  {
   "cell_type": "code",
   "execution_count": 7,
   "outputs": [
    {
     "name": "stdout",
     "output_type": "stream",
     "text": [
      "test file 2\n"
     ]
    }
   ],
   "source": [
    "file2 = open(\"file1.txt\", \"w\")\n",
    "file2.write(\"test file 2\")\n",
    "file2.close()\n",
    "file2 = open(\"file1.txt\", \"r\")\n",
    "print(file2.read())\n",
    "# file2 = open(\"file1.txt\", \"a\") #append\n",
    "# file2.write(\" append\")\n",
    "# file2.close()"
   ],
   "metadata": {
    "collapsed": false,
    "ExecuteTime": {
     "end_time": "2023-09-12T18:18:44.928553400Z",
     "start_time": "2023-09-12T18:18:44.919554600Z"
    }
   },
   "id": "72cb68751e4e229d"
  },
  {
   "cell_type": "code",
   "execution_count": null,
   "outputs": [],
   "source": [],
   "metadata": {
    "collapsed": false
   },
   "id": "a01923759e9e3be4"
  }
 ],
 "metadata": {
  "kernelspec": {
   "display_name": "Python 3",
   "language": "python",
   "name": "python3"
  },
  "language_info": {
   "codemirror_mode": {
    "name": "ipython",
    "version": 2
   },
   "file_extension": ".py",
   "mimetype": "text/x-python",
   "name": "python",
   "nbconvert_exporter": "python",
   "pygments_lexer": "ipython2",
   "version": "2.7.6"
  }
 },
 "nbformat": 4,
 "nbformat_minor": 5
}
