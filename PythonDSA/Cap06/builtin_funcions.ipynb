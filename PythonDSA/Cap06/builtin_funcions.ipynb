{
 "cells": [
  {
   "cell_type": "code",
   "execution_count": 10,
   "id": "initial_id",
   "metadata": {
    "collapsed": true,
    "ExecuteTime": {
     "end_time": "2023-09-18T17:51:26.827785600Z",
     "start_time": "2023-09-18T17:51:26.811788300Z"
    }
   },
   "outputs": [
    {
     "name": "stdout",
     "output_type": "stream",
     "text": [
      "[4, 16, 25, 9, 36]\n"
     ]
    }
   ],
   "source": [
    "def power_two(x):\n",
    "    return x ** 2\n",
    "\n",
    "num = [2, 4, 5, 3, 6]\n",
    "\n",
    "num_raise_two = list(map(power_two, num))\n",
    "\n",
    "print(num_raise_two)"
   ]
  },
  {
   "cell_type": "code",
   "execution_count": 11,
   "outputs": [
    {
     "data": {
      "text/plain": "[17, 20, 25]"
     },
     "execution_count": 11,
     "metadata": {},
     "output_type": "execute_result"
    }
   ],
   "source": [
    "#sum lists\n",
    "\n",
    "a = [2, 3, 5]\n",
    "b = [6, 7, 8]\n",
    "c = [9, 10, 12]\n",
    "\n",
    "list(map(lambda x, y, z: x + y + z, a, b, c))"
   ],
   "metadata": {
    "collapsed": false,
    "ExecuteTime": {
     "end_time": "2023-09-18T17:51:28.179734200Z",
     "start_time": "2023-09-18T17:51:28.153632300Z"
    }
   },
   "id": "bc605fa84ac03a5c"
  },
  {
   "cell_type": "code",
   "execution_count": 12,
   "outputs": [
    {
     "name": "stdout",
     "output_type": "stream",
     "text": [
      "6\n"
     ]
    }
   ],
   "source": [
    "from functools import reduce\n",
    "\n",
    "num_list = [2, 4, 5, 3, 6]\n",
    "\n",
    "find_max = lambda d, e : d if (d > e) else e\n",
    "\n",
    "print(reduce(find_max, num_list))"
   ],
   "metadata": {
    "collapsed": false,
    "ExecuteTime": {
     "end_time": "2023-09-18T17:51:29.353410700Z",
     "start_time": "2023-09-18T17:51:29.340426900Z"
    }
   },
   "id": "b3b2001d4f4da296"
  },
  {
   "cell_type": "code",
   "execution_count": 16,
   "outputs": [
    {
     "name": "stdout",
     "output_type": "stream",
     "text": [
      "[2, 4, 6, 8, 10, 12]\n",
      "[6, 7, 8, 9, 10, 11, 12]\n"
     ]
    }
   ],
   "source": [
    "def is_pair(num_pair):\n",
    "    return num_pair % 2 == 0\n",
    " \n",
    "pair_list = range(1, 13)\n",
    "\n",
    "print(list(filter(is_pair, pair_list)))\n",
    "\n",
    "print(list(filter(lambda f : f > 5, pair_list)))"
   ],
   "metadata": {
    "collapsed": false,
    "ExecuteTime": {
     "end_time": "2023-09-18T17:54:01.647731700Z",
     "start_time": "2023-09-18T17:54:01.635730800Z"
    }
   },
   "id": "ab2565118ceb7f4"
  },
  {
   "cell_type": "code",
   "execution_count": 17,
   "outputs": [
    {
     "name": "stdout",
     "output_type": "stream",
     "text": [
      "[(2, 6, 9), (3, 7, 10), (5, 8, 12)]\n"
     ]
    }
   ],
   "source": [
    "zip_structure = zip(a, b, c)\n",
    "\n",
    "print(list(zip_structure))"
   ],
   "metadata": {
    "collapsed": false,
    "ExecuteTime": {
     "end_time": "2023-09-18T18:10:08.294590900Z",
     "start_time": "2023-09-18T18:10:08.279592Z"
    }
   },
   "id": "fdba3b1d916cd1bf"
  },
  {
   "cell_type": "code",
   "execution_count": 2,
   "outputs": [
    {
     "name": "stdout",
     "output_type": "stream",
     "text": [
      "[(0, 'a'), (1, 'b'), (2, 'c')]\n",
      "0 a\n",
      "1 b\n",
      "2 c\n"
     ]
    }
   ],
   "source": [
    "seq_enum = ['a', 'b', 'c']\n",
    "\n",
    "print(list(enumerate(seq_enum)))\n",
    "\n",
    "for i, v in enumerate(seq_enum):\n",
    "    print(i, v)"
   ],
   "metadata": {
    "collapsed": false,
    "ExecuteTime": {
     "end_time": "2023-09-21T16:02:28.789324Z",
     "start_time": "2023-09-21T16:02:28.763325400Z"
    }
   },
   "id": "b0e5a1379271ec2f"
  },
  {
   "cell_type": "code",
   "execution_count": null,
   "outputs": [],
   "source": [],
   "metadata": {
    "collapsed": false
   },
   "id": "3a953bd9e432a38f"
  }
 ],
 "metadata": {
  "kernelspec": {
   "display_name": "Python 3",
   "language": "python",
   "name": "python3"
  },
  "language_info": {
   "codemirror_mode": {
    "name": "ipython",
    "version": 2
   },
   "file_extension": ".py",
   "mimetype": "text/x-python",
   "name": "python",
   "nbconvert_exporter": "python",
   "pygments_lexer": "ipython2",
   "version": "2.7.6"
  }
 },
 "nbformat": 4,
 "nbformat_minor": 5
}
