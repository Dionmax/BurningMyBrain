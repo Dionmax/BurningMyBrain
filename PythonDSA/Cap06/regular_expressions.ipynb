{
 "cells": [
  {
   "cell_type": "code",
   "execution_count": 32,
   "outputs": [
    {
     "name": "stdout",
     "output_type": "stream",
     "text": [
      "Qtd:  2\n",
      "Qtd:  ['rat', 't', 'rnatur', 's', 'a', 'l', 'pe', 'ctetur']\n",
      "Qtd:  ['volupar@gmail.com']\n"
     ]
    }
   ],
   "source": [
    "import re\n",
    "\n",
    "text = \"Et nihil quaerat et aspernatur dolores ea volupar@gmail.com vel saepe similique qui consectetur ipsa.\"\n",
    "\n",
    "email_pattern = r'[\\w.+-]+@[\\w-]+\\.[\\w.-]+'\n",
    "\n",
    "print(\"Qtd: \", len(re.findall(\"et\", text)))\n",
    "print(\"Qtd: \", re.findall(r\"e(\\w+)\", text)) # (r\"e(\\w+) \"\"r\"\" lets u use \"\\\" on text\n",
    "print(\"Qtd: \", re.findall(email_pattern, text))\n"
   ],
   "metadata": {
    "collapsed": false,
    "ExecuteTime": {
     "end_time": "2023-09-21T18:28:56.896419900Z",
     "start_time": "2023-09-21T18:28:56.891420200Z"
    }
   },
   "id": "a0def96b2a4a0f27"
  },
  {
   "cell_type": "code",
   "execution_count": 33,
   "outputs": [
    {
     "name": "stdout",
     "output_type": "stream",
     "text": [
      "39\n",
      "8\n",
      "8\n",
      "5\n",
      "['sangue']\n",
      "['Nã', 'esqueç', 'Nã', 'tã', 'sé', 'manhã', 'tã', 'Entã', 'abraç', 'já', 'pró', 'pró', 'pró', 'Nã', 'Ningué', 'tã', 'Tã', 'Tã']\n"
     ]
    }
   ],
   "source": [
    "import re \n",
    "\n",
    "music_text = '''\n",
    "Todos os dias quando acordo\n",
    "Não tenho mais\n",
    "O tempo que passou\n",
    "Mas tenho muito tempo\n",
    "Temos todo o tempo do mundo\n",
    "Todos os dias\n",
    "Antes de dormir\n",
    "Lembro e esqueço\n",
    "Como foi o dia\n",
    "Sempre em frente\n",
    "Não temos tempo a perder\n",
    "Nosso suor sagrado\n",
    "É bem mais belo\n",
    "Que esse sangue amargo\n",
    "E tão sério\n",
    "E selvagem! Selvagem!\n",
    "Selvagem!\n",
    "Veja o sol\n",
    "Dessa manhã tão cinza\n",
    "A tempestade que chega\n",
    "É da cor dos teus olhos\n",
    "Castanhos\n",
    "Então me abraça forte\n",
    "E diz mais uma vez\n",
    "Que já estamos\n",
    "Distantes de tudo\n",
    "Temos nosso próprio tempo\n",
    "Temos nosso próprio tempo\n",
    "Temos nosso próprio tempo\n",
    "Não tenho medo do escuro\n",
    "Mas deixe as luzes\n",
    "Acesas agora\n",
    "O que foi escondido\n",
    "É o que se escondeu\n",
    "E o que foi prometido\n",
    "Ninguém prometeu\n",
    "Nem foi tempo perdido\n",
    "Somos tão jovens\n",
    "Tão jovens! Tão jovens!\n",
    "'''\n",
    "\n",
    "print(len(re.findall('a', music_text)))\n",
    "print(len(re.findall('tempo', music_text)))\n",
    "print(len(re.findall(r'\\btempo\\b', music_text)))\n",
    "print(len(re.findall(r'\\w+!', music_text)))\n",
    "print((re.findall(r'\\besse\\s(\\w+)\\samargo', music_text)))\n",
    "print((re.findall(r'\\b[\\wÀ-Ÿ]+[áàãâéèêíïóôöúüç]', music_text, re.IGNORECASE)))"
   ],
   "metadata": {
    "collapsed": false,
    "ExecuteTime": {
     "end_time": "2023-09-21T18:28:57.632412200Z",
     "start_time": "2023-09-21T18:28:57.617416Z"
    }
   },
   "id": "26b8daf4820a0d14"
  }
 ],
 "metadata": {
  "kernelspec": {
   "display_name": "Python 3",
   "language": "python",
   "name": "python3"
  },
  "language_info": {
   "codemirror_mode": {
    "name": "ipython",
    "version": 2
   },
   "file_extension": ".py",
   "mimetype": "text/x-python",
   "name": "python",
   "nbconvert_exporter": "python",
   "pygments_lexer": "ipython2",
   "version": "2.7.6"
  }
 },
 "nbformat": 4,
 "nbformat_minor": 5
}
