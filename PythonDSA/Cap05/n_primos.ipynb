{
 "cells": [
  {
   "cell_type": "code",
   "execution_count": 6,
   "id": "initial_id",
   "metadata": {
    "collapsed": true,
    "ExecuteTime": {
     "end_time": "2023-09-06T18:29:58.972387800Z",
     "start_time": "2023-09-06T18:29:58.942374300Z"
    }
   },
   "outputs": [
    {
     "name": "stdout",
     "output_type": "stream",
     "text": [
      "[2, 3, 5, 7, 11, 13, 17, 19, 23, 29]\n"
     ]
    }
   ],
   "source": [
    "primos = []\n",
    "\n",
    "for num in range(2, 31):\n",
    "    \n",
    "    is_primo = True\n",
    "    \n",
    "    i = 2\n",
    "    \n",
    "    while i <= num // 2:\n",
    "        if num % i == 0:\n",
    "            is_primo = False\n",
    "            break\n",
    "        i += 1\n",
    "        \n",
    "    if is_primo:\n",
    "        primos.append(num)\n",
    "\n",
    "print(primos)"
   ]
  },
  {
   "cell_type": "code",
   "execution_count": 7,
   "outputs": [
    {
     "name": "stdout",
     "output_type": "stream",
     "text": [
      "0\n",
      "-2\n",
      "-4\n",
      "-6\n",
      "-8\n",
      "-10\n",
      "-12\n",
      "-14\n",
      "-16\n",
      "-18\n"
     ]
    }
   ],
   "source": [
    "for i in range(0, -20, -2):\n",
    "    print(i)"
   ],
   "metadata": {
    "collapsed": false,
    "ExecuteTime": {
     "end_time": "2023-09-06T18:29:59.003378900Z",
     "start_time": "2023-09-06T18:29:58.957370500Z"
    }
   },
   "id": "f26cbbc2098457b9"
  },
  {
   "cell_type": "code",
   "execution_count": 8,
   "outputs": [],
   "source": [
    "def prime_func():\n",
    "    print(\"Hello World\")"
   ],
   "metadata": {
    "collapsed": false,
    "ExecuteTime": {
     "end_time": "2023-09-06T18:29:59.004379500Z",
     "start_time": "2023-09-06T18:29:58.975378800Z"
    }
   },
   "id": "9842c8390a612ceb"
  },
  {
   "cell_type": "code",
   "execution_count": 9,
   "outputs": [],
   "source": [
    "def print_text(arg1, *args):\n",
    "    print(\"solo arg: \", arg1)\n",
    "    \n",
    "    for arg in args:\n",
    "        print(\"many args: \", arg)"
   ],
   "metadata": {
    "collapsed": false,
    "ExecuteTime": {
     "end_time": "2023-09-06T18:29:59.044380Z",
     "start_time": "2023-09-06T18:29:59.022378600Z"
    }
   },
   "id": "7e0e828a7b5eaa92"
  },
  {
   "cell_type": "code",
   "execution_count": 10,
   "outputs": [
    {
     "name": "stdout",
     "output_type": "stream",
     "text": [
      "solo arg:  ab\n",
      "many args:  abc\n",
      "many args:  abcd\n"
     ]
    }
   ],
   "source": [
    "print_text('ab', 'abc', 'abcd')"
   ],
   "metadata": {
    "collapsed": false,
    "ExecuteTime": {
     "end_time": "2023-09-06T18:29:59.051378600Z",
     "start_time": "2023-09-06T18:29:59.037380200Z"
    }
   },
   "id": "dda97d8ced88ddd4"
  }
 ],
 "metadata": {
  "kernelspec": {
   "display_name": "Python 3",
   "language": "python",
   "name": "python3"
  },
  "language_info": {
   "codemirror_mode": {
    "name": "ipython",
    "version": 2
   },
   "file_extension": ".py",
   "mimetype": "text/x-python",
   "name": "python",
   "nbconvert_exporter": "python",
   "pygments_lexer": "ipython2",
   "version": "2.7.6"
  }
 },
 "nbformat": 4,
 "nbformat_minor": 5
}
