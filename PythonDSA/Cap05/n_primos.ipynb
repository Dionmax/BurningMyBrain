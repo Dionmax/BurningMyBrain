{
 "cells": [
  {
   "cell_type": "code",
   "execution_count": null,
   "id": "initial_id",
   "metadata": {
    "collapsed": true
   },
   "outputs": [],
   "source": [
    "primos = []\n",
    "\n",
    "for num in range(2, 31):\n",
    "    \n",
    "    is_primo = True\n",
    "    \n",
    "    i = 2\n",
    "    \n",
    "    while i <= num // 2:\n",
    "        if num % i == 0:\n",
    "            is_primo = False\n",
    "            break\n",
    "        i += 1\n",
    "        \n",
    "    if is_primo:\n",
    "        primos.append(num)\n",
    "\n",
    "print(primos)"
   ]
  },
  {
   "cell_type": "code",
   "execution_count": null,
   "outputs": [],
   "source": [
    "for i in range(0, -20, -2):\n",
    "    print(i)"
   ],
   "metadata": {
    "collapsed": false
   },
   "id": "f26cbbc2098457b9"
  },
  {
   "cell_type": "code",
   "execution_count": null,
   "outputs": [],
   "source": [
    "def prime_func():\n",
    "    print(\"Hello World\")"
   ],
   "metadata": {
    "collapsed": false
   },
   "id": "9842c8390a612ceb"
  },
  {
   "cell_type": "code",
   "execution_count": null,
   "outputs": [],
   "source": [
    "def print_text(arg1, *args):\n",
    "    print(\"solo arg: \", arg1)\n",
    "    \n",
    "    for arg in args:\n",
    "        print(\"many args: \", arg)"
   ],
   "metadata": {
    "collapsed": false
   },
   "id": "7e0e828a7b5eaa92"
  },
  {
   "cell_type": "code",
   "execution_count": null,
   "outputs": [],
   "source": [
    "print_text('ab', 'abc', 'abcd')"
   ],
   "metadata": {
    "collapsed": false
   },
   "id": "dda97d8ced88ddd4"
  },
  {
   "cell_type": "code",
   "execution_count": null,
   "outputs": [],
   "source": [
    "addNum = lambda x, y : x + y"
   ],
   "metadata": {
    "collapsed": false
   },
   "id": "18a23c528ff52197"
  },
  {
   "cell_type": "code",
   "execution_count": null,
   "outputs": [],
   "source": [
    "addNum(2,5)"
   ],
   "metadata": {
    "collapsed": false
   },
   "id": "5c191d5780416fc6"
  }
 ],
 "metadata": {
  "kernelspec": {
   "display_name": "Python 3",
   "language": "python",
   "name": "python3"
  },
  "language_info": {
   "codemirror_mode": {
    "name": "ipython",
    "version": 2
   },
   "file_extension": ".py",
   "mimetype": "text/x-python",
   "name": "python",
   "nbconvert_exporter": "python",
   "pygments_lexer": "ipython2",
   "version": "2.7.6"
  }
 },
 "nbformat": 4,
 "nbformat_minor": 5
}
