{
 "cells": [
  {
   "cell_type": "code",
   "execution_count": 23,
   "outputs": [
    {
     "data": {
      "text/plain": "           Estado   Ano  Taxa Desemprego\n0  Santa Catarina  2004              1.5\n1  Rio de Janeiro  2005              1.7\n2       Tocantins  2006              1.6\n3           Bahia  2007              2.4\n4    Minas Gerais  2008              2.7",
      "text/html": "<div>\n<style scoped>\n    .dataframe tbody tr th:only-of-type {\n        vertical-align: middle;\n    }\n\n    .dataframe tbody tr th {\n        vertical-align: top;\n    }\n\n    .dataframe thead th {\n        text-align: right;\n    }\n</style>\n<table border=\"1\" class=\"dataframe\">\n  <thead>\n    <tr style=\"text-align: right;\">\n      <th></th>\n      <th>Estado</th>\n      <th>Ano</th>\n      <th>Taxa Desemprego</th>\n    </tr>\n  </thead>\n  <tbody>\n    <tr>\n      <th>0</th>\n      <td>Santa Catarina</td>\n      <td>2004</td>\n      <td>1.5</td>\n    </tr>\n    <tr>\n      <th>1</th>\n      <td>Rio de Janeiro</td>\n      <td>2005</td>\n      <td>1.7</td>\n    </tr>\n    <tr>\n      <th>2</th>\n      <td>Tocantins</td>\n      <td>2006</td>\n      <td>1.6</td>\n    </tr>\n    <tr>\n      <th>3</th>\n      <td>Bahia</td>\n      <td>2007</td>\n      <td>2.4</td>\n    </tr>\n    <tr>\n      <th>4</th>\n      <td>Minas Gerais</td>\n      <td>2008</td>\n      <td>2.7</td>\n    </tr>\n  </tbody>\n</table>\n</div>"
     },
     "execution_count": 23,
     "metadata": {},
     "output_type": "execute_result"
    }
   ],
   "source": [
    "import numpy as np\n",
    "import pandas as pd\n",
    "from pandas import DataFrame\n",
    "\n",
    "data = {'Estado': ['Santa Catarina', 'Rio de Janeiro', 'Tocantins', 'Bahia', 'Minas Gerais'],\n",
    "          'Ano': [2004, 2005, 2006, 2007, 2008],\n",
    "          'Taxa Desemprego': [1.5, 1.7, 1.6, 2.4, 2.7]}\n",
    "\n",
    "df = DataFrame(data)\n",
    "\n",
    "df.head()"
   ],
   "metadata": {
    "collapsed": false,
    "ExecuteTime": {
     "end_time": "2023-10-04T16:15:29.980727600Z",
     "start_time": "2023-10-04T16:15:29.967725Z"
    }
   },
   "id": "b56cc0fc6db0de78"
  },
  {
   "cell_type": "code",
   "execution_count": 4,
   "outputs": [
    {
     "data": {
      "text/plain": "           Estado  Taxa Desemprego   Ano\n0  Santa Catarina              1.5  2004\n1  Rio de Janeiro              1.7  2005\n2       Tocantins              1.6  2006\n3           Bahia              2.4  2007\n4    Minas Gerais              2.7  2008",
      "text/html": "<div>\n<style scoped>\n    .dataframe tbody tr th:only-of-type {\n        vertical-align: middle;\n    }\n\n    .dataframe tbody tr th {\n        vertical-align: top;\n    }\n\n    .dataframe thead th {\n        text-align: right;\n    }\n</style>\n<table border=\"1\" class=\"dataframe\">\n  <thead>\n    <tr style=\"text-align: right;\">\n      <th></th>\n      <th>Estado</th>\n      <th>Taxa Desemprego</th>\n      <th>Ano</th>\n    </tr>\n  </thead>\n  <tbody>\n    <tr>\n      <th>0</th>\n      <td>Santa Catarina</td>\n      <td>1.5</td>\n      <td>2004</td>\n    </tr>\n    <tr>\n      <th>1</th>\n      <td>Rio de Janeiro</td>\n      <td>1.7</td>\n      <td>2005</td>\n    </tr>\n    <tr>\n      <th>2</th>\n      <td>Tocantins</td>\n      <td>1.6</td>\n      <td>2006</td>\n    </tr>\n    <tr>\n      <th>3</th>\n      <td>Bahia</td>\n      <td>2.4</td>\n      <td>2007</td>\n    </tr>\n    <tr>\n      <th>4</th>\n      <td>Minas Gerais</td>\n      <td>2.7</td>\n      <td>2008</td>\n    </tr>\n  </tbody>\n</table>\n</div>"
     },
     "execution_count": 4,
     "metadata": {},
     "output_type": "execute_result"
    }
   ],
   "source": [
    "DataFrame(data, columns = ['Estado', 'Taxa Desemprego', 'Ano'])"
   ],
   "metadata": {
    "collapsed": false,
    "ExecuteTime": {
     "end_time": "2023-10-03T16:26:55.932487600Z",
     "start_time": "2023-10-03T16:26:55.903344500Z"
    }
   },
   "id": "1b89b99bf6bc2c3c"
  },
  {
   "cell_type": "code",
   "execution_count": 5,
   "outputs": [
    {
     "data": {
      "text/plain": "                 Estado  Taxa Desemprego Taxa Crescimento   Ano\nestado1  Santa Catarina              1.5              NaN  2004\nestado2  Rio de Janeiro              1.7              NaN  2005\nestado3       Tocantins              1.6              NaN  2006\nestado4           Bahia              2.4              NaN  2007\nestado5    Minas Gerais              2.7              NaN  2008",
      "text/html": "<div>\n<style scoped>\n    .dataframe tbody tr th:only-of-type {\n        vertical-align: middle;\n    }\n\n    .dataframe tbody tr th {\n        vertical-align: top;\n    }\n\n    .dataframe thead th {\n        text-align: right;\n    }\n</style>\n<table border=\"1\" class=\"dataframe\">\n  <thead>\n    <tr style=\"text-align: right;\">\n      <th></th>\n      <th>Estado</th>\n      <th>Taxa Desemprego</th>\n      <th>Taxa Crescimento</th>\n      <th>Ano</th>\n    </tr>\n  </thead>\n  <tbody>\n    <tr>\n      <th>estado1</th>\n      <td>Santa Catarina</td>\n      <td>1.5</td>\n      <td>NaN</td>\n      <td>2004</td>\n    </tr>\n    <tr>\n      <th>estado2</th>\n      <td>Rio de Janeiro</td>\n      <td>1.7</td>\n      <td>NaN</td>\n      <td>2005</td>\n    </tr>\n    <tr>\n      <th>estado3</th>\n      <td>Tocantins</td>\n      <td>1.6</td>\n      <td>NaN</td>\n      <td>2006</td>\n    </tr>\n    <tr>\n      <th>estado4</th>\n      <td>Bahia</td>\n      <td>2.4</td>\n      <td>NaN</td>\n      <td>2007</td>\n    </tr>\n    <tr>\n      <th>estado5</th>\n      <td>Minas Gerais</td>\n      <td>2.7</td>\n      <td>NaN</td>\n      <td>2008</td>\n    </tr>\n  </tbody>\n</table>\n</div>"
     },
     "execution_count": 5,
     "metadata": {},
     "output_type": "execute_result"
    }
   ],
   "source": [
    "df2 = DataFrame(data,\n",
    "                columns = ['Estado', 'Taxa Desemprego', 'Taxa Crescimento', 'Ano'],\n",
    "                index = ['estado1', 'estado2', 'estado3', 'estado4', 'estado5'])\n",
    "\n",
    "df2"
   ],
   "metadata": {
    "collapsed": false,
    "ExecuteTime": {
     "end_time": "2023-10-03T16:27:29.990558200Z",
     "start_time": "2023-10-03T16:27:29.925558900Z"
    }
   },
   "id": "29f1d8c1daa8c99e"
  },
  {
   "cell_type": "code",
   "execution_count": 6,
   "outputs": [
    {
     "data": {
      "text/plain": "array([['Santa Catarina', 1.5, nan, 2004],\n       ['Rio de Janeiro', 1.7, nan, 2005],\n       ['Tocantins', 1.6, nan, 2006],\n       ['Bahia', 2.4, nan, 2007],\n       ['Minas Gerais', 2.7, nan, 2008]], dtype=object)"
     },
     "execution_count": 6,
     "metadata": {},
     "output_type": "execute_result"
    }
   ],
   "source": [
    "df2.values"
   ],
   "metadata": {
    "collapsed": false,
    "ExecuteTime": {
     "end_time": "2023-10-04T16:07:14.258737100Z",
     "start_time": "2023-10-04T16:07:14.226739600Z"
    }
   },
   "id": "9f69d41ce4484670"
  },
  {
   "cell_type": "code",
   "execution_count": 7,
   "outputs": [
    {
     "data": {
      "text/plain": "Estado               object\nTaxa Desemprego     float64\nTaxa Crescimento     object\nAno                   int64\ndtype: object"
     },
     "execution_count": 7,
     "metadata": {},
     "output_type": "execute_result"
    }
   ],
   "source": [
    "df2.dtypes"
   ],
   "metadata": {
    "collapsed": false,
    "ExecuteTime": {
     "end_time": "2023-10-04T16:07:36.037421800Z",
     "start_time": "2023-10-04T16:07:36.004421200Z"
    }
   },
   "id": "7df7500d45b7ff36"
  },
  {
   "cell_type": "code",
   "execution_count": 8,
   "outputs": [
    {
     "data": {
      "text/plain": "Index(['Estado', 'Taxa Desemprego', 'Taxa Crescimento', 'Ano'], dtype='object')"
     },
     "execution_count": 8,
     "metadata": {},
     "output_type": "execute_result"
    }
   ],
   "source": [
    "df2.columns"
   ],
   "metadata": {
    "collapsed": false,
    "ExecuteTime": {
     "end_time": "2023-10-04T16:07:50.975252200Z",
     "start_time": "2023-10-04T16:07:50.966253Z"
    }
   },
   "id": "cacdf72aa36ab014"
  },
  {
   "cell_type": "code",
   "execution_count": 9,
   "outputs": [
    {
     "data": {
      "text/plain": "estado1    Santa Catarina\nestado2    Rio de Janeiro\nestado3         Tocantins\nestado4             Bahia\nestado5      Minas Gerais\nName: Estado, dtype: object"
     },
     "execution_count": 9,
     "metadata": {},
     "output_type": "execute_result"
    }
   ],
   "source": [
    "df2.Estado"
   ],
   "metadata": {
    "collapsed": false,
    "ExecuteTime": {
     "end_time": "2023-10-04T16:08:28.277401200Z",
     "start_time": "2023-10-04T16:08:28.239403900Z"
    }
   },
   "id": "de27417f943e4cb4"
  },
  {
   "cell_type": "code",
   "execution_count": 10,
   "outputs": [
    {
     "data": {
      "text/plain": "estado1    Santa Catarina\nestado2    Rio de Janeiro\nestado3         Tocantins\nestado4             Bahia\nestado5      Minas Gerais\nName: Estado, dtype: object"
     },
     "execution_count": 10,
     "metadata": {},
     "output_type": "execute_result"
    }
   ],
   "source": [
    "df2['Estado']"
   ],
   "metadata": {
    "collapsed": false,
    "ExecuteTime": {
     "end_time": "2023-10-04T16:08:37.911606700Z",
     "start_time": "2023-10-04T16:08:37.886594800Z"
    }
   },
   "id": "7a6a9507a1da8102"
  },
  {
   "cell_type": "code",
   "execution_count": 13,
   "outputs": [
    {
     "data": {
      "text/plain": "                 Estado  Taxa Desemprego\nestado1  Santa Catarina              1.5\nestado2  Rio de Janeiro              1.7\nestado3       Tocantins              1.6\nestado4           Bahia              2.4\nestado5    Minas Gerais              2.7",
      "text/html": "<div>\n<style scoped>\n    .dataframe tbody tr th:only-of-type {\n        vertical-align: middle;\n    }\n\n    .dataframe tbody tr th {\n        vertical-align: top;\n    }\n\n    .dataframe thead th {\n        text-align: right;\n    }\n</style>\n<table border=\"1\" class=\"dataframe\">\n  <thead>\n    <tr style=\"text-align: right;\">\n      <th></th>\n      <th>Estado</th>\n      <th>Taxa Desemprego</th>\n    </tr>\n  </thead>\n  <tbody>\n    <tr>\n      <th>estado1</th>\n      <td>Santa Catarina</td>\n      <td>1.5</td>\n    </tr>\n    <tr>\n      <th>estado2</th>\n      <td>Rio de Janeiro</td>\n      <td>1.7</td>\n    </tr>\n    <tr>\n      <th>estado3</th>\n      <td>Tocantins</td>\n      <td>1.6</td>\n    </tr>\n    <tr>\n      <th>estado4</th>\n      <td>Bahia</td>\n      <td>2.4</td>\n    </tr>\n    <tr>\n      <th>estado5</th>\n      <td>Minas Gerais</td>\n      <td>2.7</td>\n    </tr>\n  </tbody>\n</table>\n</div>"
     },
     "execution_count": 13,
     "metadata": {},
     "output_type": "execute_result"
    }
   ],
   "source": [
    "# df2['Estado', 'Taxa Desemprego']\n",
    "df2[['Estado', 'Taxa Desemprego']]"
   ],
   "metadata": {
    "collapsed": false,
    "ExecuteTime": {
     "end_time": "2023-10-04T16:09:36.531204700Z",
     "start_time": "2023-10-04T16:09:36.493495300Z"
    }
   },
   "id": "de4ce87987b24fe9"
  },
  {
   "cell_type": "code",
   "execution_count": 14,
   "outputs": [
    {
     "data": {
      "text/plain": "Index(['estado1', 'estado2', 'estado3', 'estado4', 'estado5'], dtype='object')"
     },
     "execution_count": 14,
     "metadata": {},
     "output_type": "execute_result"
    }
   ],
   "source": [
    "df2.index"
   ],
   "metadata": {
    "collapsed": false,
    "ExecuteTime": {
     "end_time": "2023-10-04T16:10:08.653940400Z",
     "start_time": "2023-10-04T16:10:08.644941700Z"
    }
   },
   "id": "564e3512014c3c0d"
  },
  {
   "cell_type": "code",
   "execution_count": 15,
   "outputs": [
    {
     "data": {
      "text/plain": "Empty DataFrame\nColumns: [Estado, Taxa Desemprego, Taxa Crescimento, Ano]\nIndex: []",
      "text/html": "<div>\n<style scoped>\n    .dataframe tbody tr th:only-of-type {\n        vertical-align: middle;\n    }\n\n    .dataframe tbody tr th {\n        vertical-align: top;\n    }\n\n    .dataframe thead th {\n        text-align: right;\n    }\n</style>\n<table border=\"1\" class=\"dataframe\">\n  <thead>\n    <tr style=\"text-align: right;\">\n      <th></th>\n      <th>Estado</th>\n      <th>Taxa Desemprego</th>\n      <th>Taxa Crescimento</th>\n      <th>Ano</th>\n    </tr>\n  </thead>\n  <tbody>\n  </tbody>\n</table>\n</div>"
     },
     "execution_count": 15,
     "metadata": {},
     "output_type": "execute_result"
    }
   ],
   "source": [
    "df2.filter(items=['Estado'], axis=0)"
   ],
   "metadata": {
    "collapsed": false,
    "ExecuteTime": {
     "end_time": "2023-10-04T16:10:32.184648500Z",
     "start_time": "2023-10-04T16:10:32.117644700Z"
    }
   },
   "id": "82f022d5fef2d8b4"
  },
  {
   "cell_type": "code",
   "execution_count": 16,
   "outputs": [
    {
     "data": {
      "text/plain": "       Taxa Desemprego          Ano\ncount         5.000000     5.000000\nmean          1.980000  2006.000000\nstd           0.535724     1.581139\nmin           1.500000  2004.000000\n25%           1.600000  2005.000000\n50%           1.700000  2006.000000\n75%           2.400000  2007.000000\nmax           2.700000  2008.000000",
      "text/html": "<div>\n<style scoped>\n    .dataframe tbody tr th:only-of-type {\n        vertical-align: middle;\n    }\n\n    .dataframe tbody tr th {\n        vertical-align: top;\n    }\n\n    .dataframe thead th {\n        text-align: right;\n    }\n</style>\n<table border=\"1\" class=\"dataframe\">\n  <thead>\n    <tr style=\"text-align: right;\">\n      <th></th>\n      <th>Taxa Desemprego</th>\n      <th>Ano</th>\n    </tr>\n  </thead>\n  <tbody>\n    <tr>\n      <th>count</th>\n      <td>5.000000</td>\n      <td>5.000000</td>\n    </tr>\n    <tr>\n      <th>mean</th>\n      <td>1.980000</td>\n      <td>2006.000000</td>\n    </tr>\n    <tr>\n      <th>std</th>\n      <td>0.535724</td>\n      <td>1.581139</td>\n    </tr>\n    <tr>\n      <th>min</th>\n      <td>1.500000</td>\n      <td>2004.000000</td>\n    </tr>\n    <tr>\n      <th>25%</th>\n      <td>1.600000</td>\n      <td>2005.000000</td>\n    </tr>\n    <tr>\n      <th>50%</th>\n      <td>1.700000</td>\n      <td>2006.000000</td>\n    </tr>\n    <tr>\n      <th>75%</th>\n      <td>2.400000</td>\n      <td>2007.000000</td>\n    </tr>\n    <tr>\n      <th>max</th>\n      <td>2.700000</td>\n      <td>2008.000000</td>\n    </tr>\n  </tbody>\n</table>\n</div>"
     },
     "execution_count": 16,
     "metadata": {},
     "output_type": "execute_result"
    }
   ],
   "source": [
    "df2.describe()"
   ],
   "metadata": {
    "collapsed": false,
    "ExecuteTime": {
     "end_time": "2023-10-04T16:11:27.293395600Z",
     "start_time": "2023-10-04T16:11:27.238390100Z"
    }
   },
   "id": "5ede3a1f7deb16a0"
  },
  {
   "cell_type": "code",
   "execution_count": 20,
   "outputs": [
    {
     "data": {
      "text/plain": "         Estado  Taxa Desemprego  Taxa Crescimento    Ano\nestado1   False            False              True  False\nestado2   False            False              True  False\nestado3   False            False              True  False\nestado4   False            False              True  False\nestado5   False            False              True  False",
      "text/html": "<div>\n<style scoped>\n    .dataframe tbody tr th:only-of-type {\n        vertical-align: middle;\n    }\n\n    .dataframe tbody tr th {\n        vertical-align: top;\n    }\n\n    .dataframe thead th {\n        text-align: right;\n    }\n</style>\n<table border=\"1\" class=\"dataframe\">\n  <thead>\n    <tr style=\"text-align: right;\">\n      <th></th>\n      <th>Estado</th>\n      <th>Taxa Desemprego</th>\n      <th>Taxa Crescimento</th>\n      <th>Ano</th>\n    </tr>\n  </thead>\n  <tbody>\n    <tr>\n      <th>estado1</th>\n      <td>False</td>\n      <td>False</td>\n      <td>True</td>\n      <td>False</td>\n    </tr>\n    <tr>\n      <th>estado2</th>\n      <td>False</td>\n      <td>False</td>\n      <td>True</td>\n      <td>False</td>\n    </tr>\n    <tr>\n      <th>estado3</th>\n      <td>False</td>\n      <td>False</td>\n      <td>True</td>\n      <td>False</td>\n    </tr>\n    <tr>\n      <th>estado4</th>\n      <td>False</td>\n      <td>False</td>\n      <td>True</td>\n      <td>False</td>\n    </tr>\n    <tr>\n      <th>estado5</th>\n      <td>False</td>\n      <td>False</td>\n      <td>True</td>\n      <td>False</td>\n    </tr>\n  </tbody>\n</table>\n</div>"
     },
     "execution_count": 20,
     "metadata": {},
     "output_type": "execute_result"
    }
   ],
   "source": [
    "df2.isna()"
   ],
   "metadata": {
    "collapsed": false,
    "ExecuteTime": {
     "end_time": "2023-10-04T16:13:22.443206300Z",
     "start_time": "2023-10-04T16:13:22.414158Z"
    }
   },
   "id": "138d4edf15360a4b"
  },
  {
   "cell_type": "code",
   "execution_count": 25,
   "outputs": [
    {
     "data": {
      "text/plain": "                 Estado  Taxa Desemprego  Taxa Crescimento   Ano\nestado1  Santa Catarina              1.5               0.0  2004\nestado2  Rio de Janeiro              1.7               1.0  2005\nestado3       Tocantins              1.6               2.0  2006\nestado4           Bahia              2.4               3.0  2007\nestado5    Minas Gerais              2.7               4.0  2008",
      "text/html": "<div>\n<style scoped>\n    .dataframe tbody tr th:only-of-type {\n        vertical-align: middle;\n    }\n\n    .dataframe tbody tr th {\n        vertical-align: top;\n    }\n\n    .dataframe thead th {\n        text-align: right;\n    }\n</style>\n<table border=\"1\" class=\"dataframe\">\n  <thead>\n    <tr style=\"text-align: right;\">\n      <th></th>\n      <th>Estado</th>\n      <th>Taxa Desemprego</th>\n      <th>Taxa Crescimento</th>\n      <th>Ano</th>\n    </tr>\n  </thead>\n  <tbody>\n    <tr>\n      <th>estado1</th>\n      <td>Santa Catarina</td>\n      <td>1.5</td>\n      <td>0.0</td>\n      <td>2004</td>\n    </tr>\n    <tr>\n      <th>estado2</th>\n      <td>Rio de Janeiro</td>\n      <td>1.7</td>\n      <td>1.0</td>\n      <td>2005</td>\n    </tr>\n    <tr>\n      <th>estado3</th>\n      <td>Tocantins</td>\n      <td>1.6</td>\n      <td>2.0</td>\n      <td>2006</td>\n    </tr>\n    <tr>\n      <th>estado4</th>\n      <td>Bahia</td>\n      <td>2.4</td>\n      <td>3.0</td>\n      <td>2007</td>\n    </tr>\n    <tr>\n      <th>estado5</th>\n      <td>Minas Gerais</td>\n      <td>2.7</td>\n      <td>4.0</td>\n      <td>2008</td>\n    </tr>\n  </tbody>\n</table>\n</div>"
     },
     "execution_count": 25,
     "metadata": {},
     "output_type": "execute_result"
    }
   ],
   "source": [
    "df2['Taxa Crescimento'] = np.arange(5.)\n",
    "\n",
    "df2"
   ],
   "metadata": {
    "collapsed": false,
    "ExecuteTime": {
     "end_time": "2023-10-04T16:15:42.232573400Z",
     "start_time": "2023-10-04T16:15:42.198634800Z"
    }
   },
   "id": "de807ac9dc56f476"
  },
  {
   "cell_type": "code",
   "execution_count": 26,
   "outputs": [
    {
     "data": {
      "text/plain": "Estado               object\nTaxa Desemprego     float64\nTaxa Crescimento    float64\nAno                   int64\ndtype: object"
     },
     "execution_count": 26,
     "metadata": {},
     "output_type": "execute_result"
    }
   ],
   "source": [
    "df2.dtypes"
   ],
   "metadata": {
    "collapsed": false,
    "ExecuteTime": {
     "end_time": "2023-10-04T16:16:26.481787900Z",
     "start_time": "2023-10-04T16:16:26.425788900Z"
    }
   },
   "id": "10ff5cd214fd277c"
  },
  {
   "cell_type": "code",
   "execution_count": 27,
   "outputs": [
    {
     "data": {
      "text/plain": "       Taxa Desemprego  Taxa Crescimento          Ano\ncount         5.000000          5.000000     5.000000\nmean          1.980000          2.000000  2006.000000\nstd           0.535724          1.581139     1.581139\nmin           1.500000          0.000000  2004.000000\n25%           1.600000          1.000000  2005.000000\n50%           1.700000          2.000000  2006.000000\n75%           2.400000          3.000000  2007.000000\nmax           2.700000          4.000000  2008.000000",
      "text/html": "<div>\n<style scoped>\n    .dataframe tbody tr th:only-of-type {\n        vertical-align: middle;\n    }\n\n    .dataframe tbody tr th {\n        vertical-align: top;\n    }\n\n    .dataframe thead th {\n        text-align: right;\n    }\n</style>\n<table border=\"1\" class=\"dataframe\">\n  <thead>\n    <tr style=\"text-align: right;\">\n      <th></th>\n      <th>Taxa Desemprego</th>\n      <th>Taxa Crescimento</th>\n      <th>Ano</th>\n    </tr>\n  </thead>\n  <tbody>\n    <tr>\n      <th>count</th>\n      <td>5.000000</td>\n      <td>5.000000</td>\n      <td>5.000000</td>\n    </tr>\n    <tr>\n      <th>mean</th>\n      <td>1.980000</td>\n      <td>2.000000</td>\n      <td>2006.000000</td>\n    </tr>\n    <tr>\n      <th>std</th>\n      <td>0.535724</td>\n      <td>1.581139</td>\n      <td>1.581139</td>\n    </tr>\n    <tr>\n      <th>min</th>\n      <td>1.500000</td>\n      <td>0.000000</td>\n      <td>2004.000000</td>\n    </tr>\n    <tr>\n      <th>25%</th>\n      <td>1.600000</td>\n      <td>1.000000</td>\n      <td>2005.000000</td>\n    </tr>\n    <tr>\n      <th>50%</th>\n      <td>1.700000</td>\n      <td>2.000000</td>\n      <td>2006.000000</td>\n    </tr>\n    <tr>\n      <th>75%</th>\n      <td>2.400000</td>\n      <td>3.000000</td>\n      <td>2007.000000</td>\n    </tr>\n    <tr>\n      <th>max</th>\n      <td>2.700000</td>\n      <td>4.000000</td>\n      <td>2008.000000</td>\n    </tr>\n  </tbody>\n</table>\n</div>"
     },
     "execution_count": 27,
     "metadata": {},
     "output_type": "execute_result"
    }
   ],
   "source": [
    "df2.describe()"
   ],
   "metadata": {
    "collapsed": false,
    "ExecuteTime": {
     "end_time": "2023-10-04T16:16:47.450132300Z",
     "start_time": "2023-10-04T16:16:47.379099600Z"
    }
   },
   "id": "cb754909e3c1e306"
  },
  {
   "cell_type": "code",
   "execution_count": 29,
   "outputs": [
    {
     "data": {
      "text/plain": "                 Estado  Taxa Desemprego  Taxa Crescimento   Ano\nestado2  Rio de Janeiro              1.7               1.0  2005\nestado3       Tocantins              1.6               2.0  2006\nestado4           Bahia              2.4               3.0  2007",
      "text/html": "<div>\n<style scoped>\n    .dataframe tbody tr th:only-of-type {\n        vertical-align: middle;\n    }\n\n    .dataframe tbody tr th {\n        vertical-align: top;\n    }\n\n    .dataframe thead th {\n        text-align: right;\n    }\n</style>\n<table border=\"1\" class=\"dataframe\">\n  <thead>\n    <tr style=\"text-align: right;\">\n      <th></th>\n      <th>Estado</th>\n      <th>Taxa Desemprego</th>\n      <th>Taxa Crescimento</th>\n      <th>Ano</th>\n    </tr>\n  </thead>\n  <tbody>\n    <tr>\n      <th>estado2</th>\n      <td>Rio de Janeiro</td>\n      <td>1.7</td>\n      <td>1.0</td>\n      <td>2005</td>\n    </tr>\n    <tr>\n      <th>estado3</th>\n      <td>Tocantins</td>\n      <td>1.6</td>\n      <td>2.0</td>\n      <td>2006</td>\n    </tr>\n    <tr>\n      <th>estado4</th>\n      <td>Bahia</td>\n      <td>2.4</td>\n      <td>3.0</td>\n      <td>2007</td>\n    </tr>\n  </tbody>\n</table>\n</div>"
     },
     "execution_count": 29,
     "metadata": {},
     "output_type": "execute_result"
    }
   ],
   "source": [
    "df2['estado2' : 'estado4']"
   ],
   "metadata": {
    "collapsed": false,
    "ExecuteTime": {
     "end_time": "2023-10-04T16:30:40.944750200Z",
     "start_time": "2023-10-04T16:30:40.904735700Z"
    }
   },
   "id": "8c2b9ce8fc650d38"
  },
  {
   "cell_type": "code",
   "execution_count": 30,
   "outputs": [
    {
     "data": {
      "text/plain": "               Estado  Taxa Desemprego  Taxa Crescimento   Ano\nestado4         Bahia              2.4               3.0  2007\nestado5  Minas Gerais              2.7               4.0  2008",
      "text/html": "<div>\n<style scoped>\n    .dataframe tbody tr th:only-of-type {\n        vertical-align: middle;\n    }\n\n    .dataframe tbody tr th {\n        vertical-align: top;\n    }\n\n    .dataframe thead th {\n        text-align: right;\n    }\n</style>\n<table border=\"1\" class=\"dataframe\">\n  <thead>\n    <tr style=\"text-align: right;\">\n      <th></th>\n      <th>Estado</th>\n      <th>Taxa Desemprego</th>\n      <th>Taxa Crescimento</th>\n      <th>Ano</th>\n    </tr>\n  </thead>\n  <tbody>\n    <tr>\n      <th>estado4</th>\n      <td>Bahia</td>\n      <td>2.4</td>\n      <td>3.0</td>\n      <td>2007</td>\n    </tr>\n    <tr>\n      <th>estado5</th>\n      <td>Minas Gerais</td>\n      <td>2.7</td>\n      <td>4.0</td>\n      <td>2008</td>\n    </tr>\n  </tbody>\n</table>\n</div>"
     },
     "execution_count": 30,
     "metadata": {},
     "output_type": "execute_result"
    }
   ],
   "source": [
    "df2[ df2['Taxa Desemprego'] > 2]"
   ],
   "metadata": {
    "collapsed": false,
    "ExecuteTime": {
     "end_time": "2023-10-04T16:31:26.558883300Z",
     "start_time": "2023-10-04T16:31:26.512325900Z"
    }
   },
   "id": "4b025c549be21e05"
  },
  {
   "cell_type": "code",
   "execution_count": 31,
   "outputs": [],
   "source": [
    "dsa_df = pd.read_csv('files/dataset.csv')"
   ],
   "metadata": {
    "collapsed": false,
    "ExecuteTime": {
     "end_time": "2023-10-04T16:34:58.589016300Z",
     "start_time": "2023-10-04T16:34:58.536984200Z"
    }
   },
   "id": "84120f9f378fb08e"
  },
  {
   "cell_type": "code",
   "execution_count": 40,
   "outputs": [
    {
     "data": {
      "text/plain": "        ID_Pedido Data_Pedido ID_Cliente   Segmento           Pais Regiao  \\\n0  CA-2016-152156  2016-11-08   CG-12520   Consumer  United States  South   \n1  CA-2016-152156  2016-11-08   CG-12520   Consumer  United States  South   \n2  CA-2016-138688  2016-06-12   DV-13045  Corporate  United States   West   \n3  US-2015-108966  2015-10-11   SO-20335   Consumer  United States  South   \n4  US-2015-108966  2015-10-11   SO-20335   Consumer  United States  South   \n5  CA-2014-115812  2014-06-09   BH-11710   Consumer  United States   West   \n\n        ID_Produto        Categoria  \\\n0  FUR-BO-10001798        Furniture   \n1  FUR-CH-10000454        Furniture   \n2  OFF-LA-10000240  Office Supplies   \n3  FUR-TA-10000577        Furniture   \n4  OFF-ST-10000760  Office Supplies   \n5  FUR-FU-10001487        Furniture   \n\n                                        Nome_Produto  Valor_Venda  Quantidade  \n0                  Bush Somerset Collection Bookcase     261.9600         NaN  \n1  Hon Deluxe Fabric Upholstered Stacking Chairs,...     731.9400         NaN  \n2  Self-Adhesive Address Labels for Typewriters b...      14.6200         2.0  \n3      Bretford CR4500 Series Slim Rectangular Table     957.5775         5.0  \n4                     Eldon Fold 'N Roll Cart System      22.3680         2.0  \n5  Eldon Expressions Wood and Plastic Desk Access...      48.8600         7.0  ",
      "text/html": "<div>\n<style scoped>\n    .dataframe tbody tr th:only-of-type {\n        vertical-align: middle;\n    }\n\n    .dataframe tbody tr th {\n        vertical-align: top;\n    }\n\n    .dataframe thead th {\n        text-align: right;\n    }\n</style>\n<table border=\"1\" class=\"dataframe\">\n  <thead>\n    <tr style=\"text-align: right;\">\n      <th></th>\n      <th>ID_Pedido</th>\n      <th>Data_Pedido</th>\n      <th>ID_Cliente</th>\n      <th>Segmento</th>\n      <th>Pais</th>\n      <th>Regiao</th>\n      <th>ID_Produto</th>\n      <th>Categoria</th>\n      <th>Nome_Produto</th>\n      <th>Valor_Venda</th>\n      <th>Quantidade</th>\n    </tr>\n  </thead>\n  <tbody>\n    <tr>\n      <th>0</th>\n      <td>CA-2016-152156</td>\n      <td>2016-11-08</td>\n      <td>CG-12520</td>\n      <td>Consumer</td>\n      <td>United States</td>\n      <td>South</td>\n      <td>FUR-BO-10001798</td>\n      <td>Furniture</td>\n      <td>Bush Somerset Collection Bookcase</td>\n      <td>261.9600</td>\n      <td>NaN</td>\n    </tr>\n    <tr>\n      <th>1</th>\n      <td>CA-2016-152156</td>\n      <td>2016-11-08</td>\n      <td>CG-12520</td>\n      <td>Consumer</td>\n      <td>United States</td>\n      <td>South</td>\n      <td>FUR-CH-10000454</td>\n      <td>Furniture</td>\n      <td>Hon Deluxe Fabric Upholstered Stacking Chairs,...</td>\n      <td>731.9400</td>\n      <td>NaN</td>\n    </tr>\n    <tr>\n      <th>2</th>\n      <td>CA-2016-138688</td>\n      <td>2016-06-12</td>\n      <td>DV-13045</td>\n      <td>Corporate</td>\n      <td>United States</td>\n      <td>West</td>\n      <td>OFF-LA-10000240</td>\n      <td>Office Supplies</td>\n      <td>Self-Adhesive Address Labels for Typewriters b...</td>\n      <td>14.6200</td>\n      <td>2.0</td>\n    </tr>\n    <tr>\n      <th>3</th>\n      <td>US-2015-108966</td>\n      <td>2015-10-11</td>\n      <td>SO-20335</td>\n      <td>Consumer</td>\n      <td>United States</td>\n      <td>South</td>\n      <td>FUR-TA-10000577</td>\n      <td>Furniture</td>\n      <td>Bretford CR4500 Series Slim Rectangular Table</td>\n      <td>957.5775</td>\n      <td>5.0</td>\n    </tr>\n    <tr>\n      <th>4</th>\n      <td>US-2015-108966</td>\n      <td>2015-10-11</td>\n      <td>SO-20335</td>\n      <td>Consumer</td>\n      <td>United States</td>\n      <td>South</td>\n      <td>OFF-ST-10000760</td>\n      <td>Office Supplies</td>\n      <td>Eldon Fold 'N Roll Cart System</td>\n      <td>22.3680</td>\n      <td>2.0</td>\n    </tr>\n    <tr>\n      <th>5</th>\n      <td>CA-2014-115812</td>\n      <td>2014-06-09</td>\n      <td>BH-11710</td>\n      <td>Consumer</td>\n      <td>United States</td>\n      <td>West</td>\n      <td>FUR-FU-10001487</td>\n      <td>Furniture</td>\n      <td>Eldon Expressions Wood and Plastic Desk Access...</td>\n      <td>48.8600</td>\n      <td>7.0</td>\n    </tr>\n  </tbody>\n</table>\n</div>"
     },
     "execution_count": 40,
     "metadata": {},
     "output_type": "execute_result"
    }
   ],
   "source": [
    "dsa_df.head(6)"
   ],
   "metadata": {
    "collapsed": false,
    "ExecuteTime": {
     "end_time": "2023-10-04T16:39:08.864447800Z",
     "start_time": "2023-10-04T16:39:08.832413600Z"
    }
   },
   "id": "fa6377ab88b93cb0"
  },
  {
   "cell_type": "code",
   "execution_count": 45,
   "outputs": [
    {
     "data": {
      "text/plain": "ID_Pedido       0\nData_Pedido     0\nID_Cliente      0\nSegmento        0\nPais            0\nRegiao          0\nID_Produto      0\nCategoria       0\nNome_Produto    0\nValor_Venda     0\nQuantidade      2\ndtype: int64"
     },
     "execution_count": 45,
     "metadata": {},
     "output_type": "execute_result"
    }
   ],
   "source": [
    "dsa_df.isna().sum()"
   ],
   "metadata": {
    "collapsed": false,
    "ExecuteTime": {
     "end_time": "2023-10-04T16:40:40.555695500Z",
     "start_time": "2023-10-04T16:40:40.518697400Z"
    }
   },
   "id": "c6638768a44ba016"
  },
  {
   "cell_type": "code",
   "execution_count": 49,
   "outputs": [
    {
     "data": {
      "text/plain": "3.0"
     },
     "execution_count": 49,
     "metadata": {},
     "output_type": "execute_result"
    }
   ],
   "source": [
    "moda = dsa_df['Quantidade'].value_counts().index[0]\n",
    "\n",
    "moda"
   ],
   "metadata": {
    "collapsed": false,
    "ExecuteTime": {
     "end_time": "2023-10-04T16:42:23.936505700Z",
     "start_time": "2023-10-04T16:42:23.908505200Z"
    }
   },
   "id": "299fa3c5f8cb34f1"
  },
  {
   "cell_type": "code",
   "execution_count": 50,
   "outputs": [],
   "source": [
    "dsa_df['Quantidade'].fillna(value=moda, inplace=True)"
   ],
   "metadata": {
    "collapsed": false,
    "ExecuteTime": {
     "end_time": "2023-10-04T16:43:45.075605100Z",
     "start_time": "2023-10-04T16:43:45.047605300Z"
    }
   },
   "id": "850bc8193a06df36"
  },
  {
   "cell_type": "code",
   "execution_count": 51,
   "outputs": [
    {
     "data": {
      "text/plain": "ID_Pedido       0\nData_Pedido     0\nID_Cliente      0\nSegmento        0\nPais            0\nRegiao          0\nID_Produto      0\nCategoria       0\nNome_Produto    0\nValor_Venda     0\nQuantidade      0\ndtype: int64"
     },
     "execution_count": 51,
     "metadata": {},
     "output_type": "execute_result"
    }
   ],
   "source": [
    "dsa_df.isna().sum()"
   ],
   "metadata": {
    "collapsed": false,
    "ExecuteTime": {
     "end_time": "2023-10-04T16:43:57.632166500Z",
     "start_time": "2023-10-04T16:43:57.590048500Z"
    }
   },
   "id": "830ca1b3a1770ad"
  },
  {
   "cell_type": "code",
   "execution_count": 52,
   "outputs": [
    {
     "data": {
      "text/plain": "count     9994.000000\nmean       229.858001\nstd        623.245101\nmin          0.444000\n25%         17.280000\n50%         54.490000\n75%        209.940000\nmax      22638.480000\nName: Valor_Venda, dtype: float64"
     },
     "execution_count": 52,
     "metadata": {},
     "output_type": "execute_result"
    }
   ],
   "source": [
    "dsa_df.Valor_Venda.describe()"
   ],
   "metadata": {
    "collapsed": false,
    "ExecuteTime": {
     "end_time": "2023-10-04T16:54:12.324194100Z",
     "start_time": "2023-10-04T16:54:12.266195100Z"
    }
   },
   "id": "b19d8769d7f0525e"
  },
  {
   "cell_type": "code",
   "execution_count": 61,
   "outputs": [
    {
     "data": {
      "text/plain": "count    2357.000000\nmean      766.679142\nstd       856.315136\nmin       229.544000\n25%       323.100000\n50%       490.320000\n75%       859.200000\nmax      9892.740000\nName: Valor_Venda, dtype: float64"
     },
     "execution_count": 61,
     "metadata": {},
     "output_type": "execute_result"
    }
   ],
   "source": [
    "df3 = dsa_df.query('229 < Valor_Venda < 10000')\n",
    "\n",
    "df3.Valor_Venda.describe()"
   ],
   "metadata": {
    "collapsed": false,
    "ExecuteTime": {
     "end_time": "2023-10-04T16:58:05.305634700Z",
     "start_time": "2023-10-04T16:58:05.270740Z"
    }
   },
   "id": "27eabd192109aeb"
  },
  {
   "cell_type": "code",
   "execution_count": 64,
   "outputs": [
    {
     "data": {
      "text/plain": "count      692.000000\nmean      1713.517382\nstd       1703.514752\nmin        767.214000\n25%        915.094500\n50%       1216.744000\n75%       1793.980000\nmax      22638.480000\nName: Valor_Venda, dtype: float64"
     },
     "execution_count": 64,
     "metadata": {},
     "output_type": "execute_result"
    }
   ],
   "source": [
    "df4 = dsa_df.query('Valor_Venda > 766')\n",
    "\n",
    "df4.Valor_Venda.describe()"
   ],
   "metadata": {
    "collapsed": false,
    "ExecuteTime": {
     "end_time": "2023-10-04T16:59:08.941031Z",
     "start_time": "2023-10-04T16:59:08.909865700Z"
    }
   },
   "id": "555a9fb4045b9bb2"
  },
  {
   "cell_type": "code",
   "execution_count": 68,
   "outputs": [
    {
     "data": {
      "text/plain": "         ID_Pedido Data_Pedido ID_Cliente  Segmento           Pais Regiao  \\\n3   US-2015-108966  2015-10-11   SO-20335  Consumer  United States  South   \n7   CA-2014-115812  2014-06-09   BH-11710  Consumer  United States   West   \n10  CA-2014-115812  2014-06-09   BH-11710  Consumer  United States   West   \n11  CA-2014-115812  2014-06-09   BH-11710  Consumer  United States   West   \n24  CA-2015-106320  2015-09-25   EB-13870  Consumer  United States   West   \n27  US-2015-150630  2015-09-17   TB-21520  Consumer  United States   East   \n\n         ID_Produto   Categoria  \\\n3   FUR-TA-10000577   Furniture   \n7   TEC-PH-10002275  Technology   \n10  FUR-TA-10001539   Furniture   \n11  TEC-PH-10002033  Technology   \n24  FUR-TA-10000577   Furniture   \n27  FUR-BO-10004834   Furniture   \n\n                                         Nome_Produto  Valor_Venda  Quantidade  \n3       Bretford CR4500 Series Slim Rectangular Table     957.5775         5.0  \n7                      Mitel 5320 IP Phone VoIP phone     907.1520         6.0  \n10           Chromcraft Rectangular Conference Tables    1706.1840         9.0  \n11      Konftel 250 Conference phone - Charcoal black     911.4240         4.0  \n24      Bretford CR4500 Series Slim Rectangular Table    1044.6300         3.0  \n27  Riverside Palais Royal Lawyers Bookcase, Royal...    3083.4300         7.0  ",
      "text/html": "<div>\n<style scoped>\n    .dataframe tbody tr th:only-of-type {\n        vertical-align: middle;\n    }\n\n    .dataframe tbody tr th {\n        vertical-align: top;\n    }\n\n    .dataframe thead th {\n        text-align: right;\n    }\n</style>\n<table border=\"1\" class=\"dataframe\">\n  <thead>\n    <tr style=\"text-align: right;\">\n      <th></th>\n      <th>ID_Pedido</th>\n      <th>Data_Pedido</th>\n      <th>ID_Cliente</th>\n      <th>Segmento</th>\n      <th>Pais</th>\n      <th>Regiao</th>\n      <th>ID_Produto</th>\n      <th>Categoria</th>\n      <th>Nome_Produto</th>\n      <th>Valor_Venda</th>\n      <th>Quantidade</th>\n    </tr>\n  </thead>\n  <tbody>\n    <tr>\n      <th>3</th>\n      <td>US-2015-108966</td>\n      <td>2015-10-11</td>\n      <td>SO-20335</td>\n      <td>Consumer</td>\n      <td>United States</td>\n      <td>South</td>\n      <td>FUR-TA-10000577</td>\n      <td>Furniture</td>\n      <td>Bretford CR4500 Series Slim Rectangular Table</td>\n      <td>957.5775</td>\n      <td>5.0</td>\n    </tr>\n    <tr>\n      <th>7</th>\n      <td>CA-2014-115812</td>\n      <td>2014-06-09</td>\n      <td>BH-11710</td>\n      <td>Consumer</td>\n      <td>United States</td>\n      <td>West</td>\n      <td>TEC-PH-10002275</td>\n      <td>Technology</td>\n      <td>Mitel 5320 IP Phone VoIP phone</td>\n      <td>907.1520</td>\n      <td>6.0</td>\n    </tr>\n    <tr>\n      <th>10</th>\n      <td>CA-2014-115812</td>\n      <td>2014-06-09</td>\n      <td>BH-11710</td>\n      <td>Consumer</td>\n      <td>United States</td>\n      <td>West</td>\n      <td>FUR-TA-10001539</td>\n      <td>Furniture</td>\n      <td>Chromcraft Rectangular Conference Tables</td>\n      <td>1706.1840</td>\n      <td>9.0</td>\n    </tr>\n    <tr>\n      <th>11</th>\n      <td>CA-2014-115812</td>\n      <td>2014-06-09</td>\n      <td>BH-11710</td>\n      <td>Consumer</td>\n      <td>United States</td>\n      <td>West</td>\n      <td>TEC-PH-10002033</td>\n      <td>Technology</td>\n      <td>Konftel 250 Conference phone - Charcoal black</td>\n      <td>911.4240</td>\n      <td>4.0</td>\n    </tr>\n    <tr>\n      <th>24</th>\n      <td>CA-2015-106320</td>\n      <td>2015-09-25</td>\n      <td>EB-13870</td>\n      <td>Consumer</td>\n      <td>United States</td>\n      <td>West</td>\n      <td>FUR-TA-10000577</td>\n      <td>Furniture</td>\n      <td>Bretford CR4500 Series Slim Rectangular Table</td>\n      <td>1044.6300</td>\n      <td>3.0</td>\n    </tr>\n    <tr>\n      <th>27</th>\n      <td>US-2015-150630</td>\n      <td>2015-09-17</td>\n      <td>TB-21520</td>\n      <td>Consumer</td>\n      <td>United States</td>\n      <td>East</td>\n      <td>FUR-BO-10004834</td>\n      <td>Furniture</td>\n      <td>Riverside Palais Royal Lawyers Bookcase, Royal...</td>\n      <td>3083.4300</td>\n      <td>7.0</td>\n    </tr>\n  </tbody>\n</table>\n</div>"
     },
     "execution_count": 68,
     "metadata": {},
     "output_type": "execute_result"
    }
   ],
   "source": [
    "df4.head(6)"
   ],
   "metadata": {
    "collapsed": false,
    "ExecuteTime": {
     "end_time": "2023-10-04T17:17:21.618050Z",
     "start_time": "2023-10-04T17:17:21.589053600Z"
    }
   },
   "id": "e6020e90a6c7390f"
  },
  {
   "cell_type": "code",
   "execution_count": 67,
   "outputs": [
    {
     "data": {
      "text/plain": "(9994, 11)"
     },
     "execution_count": 67,
     "metadata": {},
     "output_type": "execute_result"
    }
   ],
   "source": [
    "dsa_df.shape"
   ],
   "metadata": {
    "collapsed": false,
    "ExecuteTime": {
     "end_time": "2023-10-04T17:15:43.774059600Z",
     "start_time": "2023-10-04T17:15:43.744058500Z"
    }
   },
   "id": "3b978d469a08ac02"
  },
  {
   "cell_type": "code",
   "execution_count": 70,
   "outputs": [
    {
     "data": {
      "text/plain": "           ID_Pedido Data_Pedido ID_Cliente     Segmento           Pais  \\\n3     US-2015-108966  2015-10-11   SO-20335     Consumer  United States   \n5     CA-2014-115812  2014-06-09   BH-11710     Consumer  United States   \n9     CA-2014-115812  2014-06-09   BH-11710     Consumer  United States   \n10    CA-2014-115812  2014-06-09   BH-11710     Consumer  United States   \n14    US-2015-118983  2015-11-22   HP-14815  Home Office  United States   \n...              ...         ...        ...          ...            ...   \n9974  US-2016-103674  2016-12-06   AP-10720  Home Office  United States   \n9977  US-2016-103674  2016-12-06   AP-10720  Home Office  United States   \n9981  CA-2017-163566  2017-08-03   TB-21055     Consumer  United States   \n9982  US-2016-157728  2016-09-22   RC-19960     Consumer  United States   \n9988  CA-2017-163629  2017-11-17   RA-19885    Corporate  United States   \n\n       Regiao       ID_Produto        Categoria  \\\n3       South  FUR-TA-10000577        Furniture   \n5        West  FUR-FU-10001487        Furniture   \n9        West  OFF-AP-10002892  Office Supplies   \n10       West  FUR-TA-10001539        Furniture   \n14    Central  OFF-AP-10002311  Office Supplies   \n...       ...              ...              ...   \n9974     West  OFF-AR-10004752  Office Supplies   \n9977     West  OFF-FA-10003467  Office Supplies   \n9981     East  OFF-LA-10004484  Office Supplies   \n9982  Central  OFF-PA-10002195  Office Supplies   \n9988    South  TEC-PH-10004006       Technology   \n\n                                           Nome_Produto  Valor_Venda  \\\n3         Bretford CR4500 Series Slim Rectangular Table     957.5775   \n5     Eldon Expressions Wood and Plastic Desk Access...      48.8600   \n9                      Belkin F5C206VTEL 6 Outlet Surge     114.9000   \n10             Chromcraft Rectangular Conference Tables    1706.1840   \n14    Holmes Replacement Filter for HEPA Air Cleaner...      68.8100   \n...                                                 ...          ...   \n9974                               Blackstonian Pencils      18.6900   \n9977           Alliance Big Bands Rubber Bands, 12/Pack      13.8600   \n9981                                          Avery 476      16.5200   \n9982  RSVP Cards & Envelopes, Blank White, 8-1/2\" X ...      35.5600   \n9988                    Panasonic KX - TS880B Telephone     206.1000   \n\n      Quantidade  \n3            5.0  \n5            7.0  \n9            5.0  \n10           9.0  \n14           5.0  \n...          ...  \n9974         7.0  \n9977         7.0  \n9981         5.0  \n9982         7.0  \n9988         5.0  \n\n[2128 rows x 11 columns]",
      "text/html": "<div>\n<style scoped>\n    .dataframe tbody tr th:only-of-type {\n        vertical-align: middle;\n    }\n\n    .dataframe tbody tr th {\n        vertical-align: top;\n    }\n\n    .dataframe thead th {\n        text-align: right;\n    }\n</style>\n<table border=\"1\" class=\"dataframe\">\n  <thead>\n    <tr style=\"text-align: right;\">\n      <th></th>\n      <th>ID_Pedido</th>\n      <th>Data_Pedido</th>\n      <th>ID_Cliente</th>\n      <th>Segmento</th>\n      <th>Pais</th>\n      <th>Regiao</th>\n      <th>ID_Produto</th>\n      <th>Categoria</th>\n      <th>Nome_Produto</th>\n      <th>Valor_Venda</th>\n      <th>Quantidade</th>\n    </tr>\n  </thead>\n  <tbody>\n    <tr>\n      <th>3</th>\n      <td>US-2015-108966</td>\n      <td>2015-10-11</td>\n      <td>SO-20335</td>\n      <td>Consumer</td>\n      <td>United States</td>\n      <td>South</td>\n      <td>FUR-TA-10000577</td>\n      <td>Furniture</td>\n      <td>Bretford CR4500 Series Slim Rectangular Table</td>\n      <td>957.5775</td>\n      <td>5.0</td>\n    </tr>\n    <tr>\n      <th>5</th>\n      <td>CA-2014-115812</td>\n      <td>2014-06-09</td>\n      <td>BH-11710</td>\n      <td>Consumer</td>\n      <td>United States</td>\n      <td>West</td>\n      <td>FUR-FU-10001487</td>\n      <td>Furniture</td>\n      <td>Eldon Expressions Wood and Plastic Desk Access...</td>\n      <td>48.8600</td>\n      <td>7.0</td>\n    </tr>\n    <tr>\n      <th>9</th>\n      <td>CA-2014-115812</td>\n      <td>2014-06-09</td>\n      <td>BH-11710</td>\n      <td>Consumer</td>\n      <td>United States</td>\n      <td>West</td>\n      <td>OFF-AP-10002892</td>\n      <td>Office Supplies</td>\n      <td>Belkin F5C206VTEL 6 Outlet Surge</td>\n      <td>114.9000</td>\n      <td>5.0</td>\n    </tr>\n    <tr>\n      <th>10</th>\n      <td>CA-2014-115812</td>\n      <td>2014-06-09</td>\n      <td>BH-11710</td>\n      <td>Consumer</td>\n      <td>United States</td>\n      <td>West</td>\n      <td>FUR-TA-10001539</td>\n      <td>Furniture</td>\n      <td>Chromcraft Rectangular Conference Tables</td>\n      <td>1706.1840</td>\n      <td>9.0</td>\n    </tr>\n    <tr>\n      <th>14</th>\n      <td>US-2015-118983</td>\n      <td>2015-11-22</td>\n      <td>HP-14815</td>\n      <td>Home Office</td>\n      <td>United States</td>\n      <td>Central</td>\n      <td>OFF-AP-10002311</td>\n      <td>Office Supplies</td>\n      <td>Holmes Replacement Filter for HEPA Air Cleaner...</td>\n      <td>68.8100</td>\n      <td>5.0</td>\n    </tr>\n    <tr>\n      <th>...</th>\n      <td>...</td>\n      <td>...</td>\n      <td>...</td>\n      <td>...</td>\n      <td>...</td>\n      <td>...</td>\n      <td>...</td>\n      <td>...</td>\n      <td>...</td>\n      <td>...</td>\n      <td>...</td>\n    </tr>\n    <tr>\n      <th>9974</th>\n      <td>US-2016-103674</td>\n      <td>2016-12-06</td>\n      <td>AP-10720</td>\n      <td>Home Office</td>\n      <td>United States</td>\n      <td>West</td>\n      <td>OFF-AR-10004752</td>\n      <td>Office Supplies</td>\n      <td>Blackstonian Pencils</td>\n      <td>18.6900</td>\n      <td>7.0</td>\n    </tr>\n    <tr>\n      <th>9977</th>\n      <td>US-2016-103674</td>\n      <td>2016-12-06</td>\n      <td>AP-10720</td>\n      <td>Home Office</td>\n      <td>United States</td>\n      <td>West</td>\n      <td>OFF-FA-10003467</td>\n      <td>Office Supplies</td>\n      <td>Alliance Big Bands Rubber Bands, 12/Pack</td>\n      <td>13.8600</td>\n      <td>7.0</td>\n    </tr>\n    <tr>\n      <th>9981</th>\n      <td>CA-2017-163566</td>\n      <td>2017-08-03</td>\n      <td>TB-21055</td>\n      <td>Consumer</td>\n      <td>United States</td>\n      <td>East</td>\n      <td>OFF-LA-10004484</td>\n      <td>Office Supplies</td>\n      <td>Avery 476</td>\n      <td>16.5200</td>\n      <td>5.0</td>\n    </tr>\n    <tr>\n      <th>9982</th>\n      <td>US-2016-157728</td>\n      <td>2016-09-22</td>\n      <td>RC-19960</td>\n      <td>Consumer</td>\n      <td>United States</td>\n      <td>Central</td>\n      <td>OFF-PA-10002195</td>\n      <td>Office Supplies</td>\n      <td>RSVP Cards &amp; Envelopes, Blank White, 8-1/2\" X ...</td>\n      <td>35.5600</td>\n      <td>7.0</td>\n    </tr>\n    <tr>\n      <th>9988</th>\n      <td>CA-2017-163629</td>\n      <td>2017-11-17</td>\n      <td>RA-19885</td>\n      <td>Corporate</td>\n      <td>United States</td>\n      <td>South</td>\n      <td>TEC-PH-10004006</td>\n      <td>Technology</td>\n      <td>Panasonic KX - TS880B Telephone</td>\n      <td>206.1000</td>\n      <td>5.0</td>\n    </tr>\n  </tbody>\n</table>\n<p>2128 rows × 11 columns</p>\n</div>"
     },
     "execution_count": 70,
     "metadata": {},
     "output_type": "execute_result"
    }
   ],
   "source": [
    "dsa_df[dsa_df['Quantidade'].isin([5, 7, 9, 11])]"
   ],
   "metadata": {
    "collapsed": false,
    "ExecuteTime": {
     "end_time": "2023-10-04T17:19:13.618581500Z",
     "start_time": "2023-10-04T17:19:13.595581700Z"
    }
   },
   "id": "95fa34b921d2a57a"
  },
  {
   "cell_type": "code",
   "execution_count": 71,
   "outputs": [
    {
     "data": {
      "text/plain": "(2128, 11)"
     },
     "execution_count": 71,
     "metadata": {},
     "output_type": "execute_result"
    }
   ],
   "source": [
    "dsa_df[dsa_df['Quantidade'].isin([5, 7, 9, 11])].shape"
   ],
   "metadata": {
    "collapsed": false,
    "ExecuteTime": {
     "end_time": "2023-10-04T17:19:56.692478900Z",
     "start_time": "2023-10-04T17:19:56.661797600Z"
    }
   },
   "id": "67612ceedb67a6d7"
  },
  {
   "cell_type": "code",
   "execution_count": 72,
   "outputs": [
    {
     "data": {
      "text/plain": "         ID_Pedido Data_Pedido ID_Cliente     Segmento           Pais  \\\n3   US-2015-108966  2015-10-11   SO-20335     Consumer  United States   \n5   CA-2014-115812  2014-06-09   BH-11710     Consumer  United States   \n9   CA-2014-115812  2014-06-09   BH-11710     Consumer  United States   \n10  CA-2014-115812  2014-06-09   BH-11710     Consumer  United States   \n14  US-2015-118983  2015-11-22   HP-14815  Home Office  United States   \n21  CA-2016-137330  2016-12-09   KB-16585    Corporate  United States   \n22  CA-2016-137330  2016-12-09   KB-16585    Corporate  United States   \n27  US-2015-150630  2015-09-17   TB-21520     Consumer  United States   \n35  CA-2016-117590  2016-12-08   GH-14485    Corporate  United States   \n36  CA-2016-117590  2016-12-08   GH-14485    Corporate  United States   \n\n     Regiao       ID_Produto        Categoria  \\\n3     South  FUR-TA-10000577        Furniture   \n5      West  FUR-FU-10001487        Furniture   \n9      West  OFF-AP-10002892  Office Supplies   \n10     West  FUR-TA-10001539        Furniture   \n14  Central  OFF-AP-10002311  Office Supplies   \n21  Central  OFF-AR-10000246  Office Supplies   \n22  Central  OFF-AP-10001492  Office Supplies   \n27     East  FUR-BO-10004834        Furniture   \n35  Central  TEC-PH-10004977       Technology   \n36  Central  FUR-FU-10003664        Furniture   \n\n                                         Nome_Produto  Valor_Venda  Quantidade  \n3       Bretford CR4500 Series Slim Rectangular Table     957.5775         5.0  \n5   Eldon Expressions Wood and Plastic Desk Access...      48.8600         7.0  \n9                    Belkin F5C206VTEL 6 Outlet Surge     114.9000         5.0  \n10           Chromcraft Rectangular Conference Tables    1706.1840         9.0  \n14  Holmes Replacement Filter for HEPA Air Cleaner...      68.8100         5.0  \n21                                         Newell 318      19.4600         7.0  \n22        Acco Six-Outlet Power Strip, 4' Cord Length      60.3400         7.0  \n27  Riverside Palais Royal Lawyers Bookcase, Royal...    3083.4300         7.0  \n35                                        GE 30524EE4    1097.5440         7.0  \n36  Electrix Architect's Clamp-On Swing Arm Lamp, ...     190.9200         5.0  ",
      "text/html": "<div>\n<style scoped>\n    .dataframe tbody tr th:only-of-type {\n        vertical-align: middle;\n    }\n\n    .dataframe tbody tr th {\n        vertical-align: top;\n    }\n\n    .dataframe thead th {\n        text-align: right;\n    }\n</style>\n<table border=\"1\" class=\"dataframe\">\n  <thead>\n    <tr style=\"text-align: right;\">\n      <th></th>\n      <th>ID_Pedido</th>\n      <th>Data_Pedido</th>\n      <th>ID_Cliente</th>\n      <th>Segmento</th>\n      <th>Pais</th>\n      <th>Regiao</th>\n      <th>ID_Produto</th>\n      <th>Categoria</th>\n      <th>Nome_Produto</th>\n      <th>Valor_Venda</th>\n      <th>Quantidade</th>\n    </tr>\n  </thead>\n  <tbody>\n    <tr>\n      <th>3</th>\n      <td>US-2015-108966</td>\n      <td>2015-10-11</td>\n      <td>SO-20335</td>\n      <td>Consumer</td>\n      <td>United States</td>\n      <td>South</td>\n      <td>FUR-TA-10000577</td>\n      <td>Furniture</td>\n      <td>Bretford CR4500 Series Slim Rectangular Table</td>\n      <td>957.5775</td>\n      <td>5.0</td>\n    </tr>\n    <tr>\n      <th>5</th>\n      <td>CA-2014-115812</td>\n      <td>2014-06-09</td>\n      <td>BH-11710</td>\n      <td>Consumer</td>\n      <td>United States</td>\n      <td>West</td>\n      <td>FUR-FU-10001487</td>\n      <td>Furniture</td>\n      <td>Eldon Expressions Wood and Plastic Desk Access...</td>\n      <td>48.8600</td>\n      <td>7.0</td>\n    </tr>\n    <tr>\n      <th>9</th>\n      <td>CA-2014-115812</td>\n      <td>2014-06-09</td>\n      <td>BH-11710</td>\n      <td>Consumer</td>\n      <td>United States</td>\n      <td>West</td>\n      <td>OFF-AP-10002892</td>\n      <td>Office Supplies</td>\n      <td>Belkin F5C206VTEL 6 Outlet Surge</td>\n      <td>114.9000</td>\n      <td>5.0</td>\n    </tr>\n    <tr>\n      <th>10</th>\n      <td>CA-2014-115812</td>\n      <td>2014-06-09</td>\n      <td>BH-11710</td>\n      <td>Consumer</td>\n      <td>United States</td>\n      <td>West</td>\n      <td>FUR-TA-10001539</td>\n      <td>Furniture</td>\n      <td>Chromcraft Rectangular Conference Tables</td>\n      <td>1706.1840</td>\n      <td>9.0</td>\n    </tr>\n    <tr>\n      <th>14</th>\n      <td>US-2015-118983</td>\n      <td>2015-11-22</td>\n      <td>HP-14815</td>\n      <td>Home Office</td>\n      <td>United States</td>\n      <td>Central</td>\n      <td>OFF-AP-10002311</td>\n      <td>Office Supplies</td>\n      <td>Holmes Replacement Filter for HEPA Air Cleaner...</td>\n      <td>68.8100</td>\n      <td>5.0</td>\n    </tr>\n    <tr>\n      <th>21</th>\n      <td>CA-2016-137330</td>\n      <td>2016-12-09</td>\n      <td>KB-16585</td>\n      <td>Corporate</td>\n      <td>United States</td>\n      <td>Central</td>\n      <td>OFF-AR-10000246</td>\n      <td>Office Supplies</td>\n      <td>Newell 318</td>\n      <td>19.4600</td>\n      <td>7.0</td>\n    </tr>\n    <tr>\n      <th>22</th>\n      <td>CA-2016-137330</td>\n      <td>2016-12-09</td>\n      <td>KB-16585</td>\n      <td>Corporate</td>\n      <td>United States</td>\n      <td>Central</td>\n      <td>OFF-AP-10001492</td>\n      <td>Office Supplies</td>\n      <td>Acco Six-Outlet Power Strip, 4' Cord Length</td>\n      <td>60.3400</td>\n      <td>7.0</td>\n    </tr>\n    <tr>\n      <th>27</th>\n      <td>US-2015-150630</td>\n      <td>2015-09-17</td>\n      <td>TB-21520</td>\n      <td>Consumer</td>\n      <td>United States</td>\n      <td>East</td>\n      <td>FUR-BO-10004834</td>\n      <td>Furniture</td>\n      <td>Riverside Palais Royal Lawyers Bookcase, Royal...</td>\n      <td>3083.4300</td>\n      <td>7.0</td>\n    </tr>\n    <tr>\n      <th>35</th>\n      <td>CA-2016-117590</td>\n      <td>2016-12-08</td>\n      <td>GH-14485</td>\n      <td>Corporate</td>\n      <td>United States</td>\n      <td>Central</td>\n      <td>TEC-PH-10004977</td>\n      <td>Technology</td>\n      <td>GE 30524EE4</td>\n      <td>1097.5440</td>\n      <td>7.0</td>\n    </tr>\n    <tr>\n      <th>36</th>\n      <td>CA-2016-117590</td>\n      <td>2016-12-08</td>\n      <td>GH-14485</td>\n      <td>Corporate</td>\n      <td>United States</td>\n      <td>Central</td>\n      <td>FUR-FU-10003664</td>\n      <td>Furniture</td>\n      <td>Electrix Architect's Clamp-On Swing Arm Lamp, ...</td>\n      <td>190.9200</td>\n      <td>5.0</td>\n    </tr>\n  </tbody>\n</table>\n</div>"
     },
     "execution_count": 72,
     "metadata": {},
     "output_type": "execute_result"
    }
   ],
   "source": [
    "dsa_df[dsa_df['Quantidade'].isin([5, 7, 9, 11])][:10]"
   ],
   "metadata": {
    "collapsed": false,
    "ExecuteTime": {
     "end_time": "2023-10-04T17:20:06.216856700Z",
     "start_time": "2023-10-04T17:20:06.165858600Z"
    }
   },
   "id": "7bef65c183e6858"
  },
  {
   "cell_type": "code",
   "execution_count": 73,
   "outputs": [
    {
     "data": {
      "text/plain": "          ID_Pedido Data_Pedido ID_Cliente     Segmento           Pais Regiao  \\\n182  CA-2014-158274  2014-11-19   RM-19675  Home Office  United States  South   \n183  CA-2014-158274  2014-11-19   RM-19675  Home Office  United States  South   \n184  CA-2014-158274  2014-11-19   RM-19675  Home Office  United States  South   \n231  US-2017-100930  2017-04-07   CS-12400  Home Office  United States  South   \n232  US-2017-100930  2017-04-07   CS-12400  Home Office  United States  South   \n\n          ID_Produto   Categoria  \\\n182  TEC-PH-10003273  Technology   \n183  TEC-PH-10004896  Technology   \n184  TEC-AC-10002345  Technology   \n231  FUR-TA-10001705   Furniture   \n232  FUR-TA-10003473   Furniture   \n\n                                         Nome_Produto  Valor_Venda  Quantidade  \n182                                      AT&T TR1909W     503.9600         4.0  \n183                        Nokia Lumia 521 (T-Mobile)     149.9500         5.0  \n184                 HP Standard 104 key PS/2 Keyboard      29.0000         2.0  \n231  Bush Advantage Collection Round Conference Table     233.8600         2.0  \n232        Bretford Rectangular Conference Table Tops     620.6145         3.0  ",
      "text/html": "<div>\n<style scoped>\n    .dataframe tbody tr th:only-of-type {\n        vertical-align: middle;\n    }\n\n    .dataframe tbody tr th {\n        vertical-align: top;\n    }\n\n    .dataframe thead th {\n        text-align: right;\n    }\n</style>\n<table border=\"1\" class=\"dataframe\">\n  <thead>\n    <tr style=\"text-align: right;\">\n      <th></th>\n      <th>ID_Pedido</th>\n      <th>Data_Pedido</th>\n      <th>ID_Cliente</th>\n      <th>Segmento</th>\n      <th>Pais</th>\n      <th>Regiao</th>\n      <th>ID_Produto</th>\n      <th>Categoria</th>\n      <th>Nome_Produto</th>\n      <th>Valor_Venda</th>\n      <th>Quantidade</th>\n    </tr>\n  </thead>\n  <tbody>\n    <tr>\n      <th>182</th>\n      <td>CA-2014-158274</td>\n      <td>2014-11-19</td>\n      <td>RM-19675</td>\n      <td>Home Office</td>\n      <td>United States</td>\n      <td>South</td>\n      <td>TEC-PH-10003273</td>\n      <td>Technology</td>\n      <td>AT&amp;T TR1909W</td>\n      <td>503.9600</td>\n      <td>4.0</td>\n    </tr>\n    <tr>\n      <th>183</th>\n      <td>CA-2014-158274</td>\n      <td>2014-11-19</td>\n      <td>RM-19675</td>\n      <td>Home Office</td>\n      <td>United States</td>\n      <td>South</td>\n      <td>TEC-PH-10004896</td>\n      <td>Technology</td>\n      <td>Nokia Lumia 521 (T-Mobile)</td>\n      <td>149.9500</td>\n      <td>5.0</td>\n    </tr>\n    <tr>\n      <th>184</th>\n      <td>CA-2014-158274</td>\n      <td>2014-11-19</td>\n      <td>RM-19675</td>\n      <td>Home Office</td>\n      <td>United States</td>\n      <td>South</td>\n      <td>TEC-AC-10002345</td>\n      <td>Technology</td>\n      <td>HP Standard 104 key PS/2 Keyboard</td>\n      <td>29.0000</td>\n      <td>2.0</td>\n    </tr>\n    <tr>\n      <th>231</th>\n      <td>US-2017-100930</td>\n      <td>2017-04-07</td>\n      <td>CS-12400</td>\n      <td>Home Office</td>\n      <td>United States</td>\n      <td>South</td>\n      <td>FUR-TA-10001705</td>\n      <td>Furniture</td>\n      <td>Bush Advantage Collection Round Conference Table</td>\n      <td>233.8600</td>\n      <td>2.0</td>\n    </tr>\n    <tr>\n      <th>232</th>\n      <td>US-2017-100930</td>\n      <td>2017-04-07</td>\n      <td>CS-12400</td>\n      <td>Home Office</td>\n      <td>United States</td>\n      <td>South</td>\n      <td>FUR-TA-10003473</td>\n      <td>Furniture</td>\n      <td>Bretford Rectangular Conference Table Tops</td>\n      <td>620.6145</td>\n      <td>3.0</td>\n    </tr>\n  </tbody>\n</table>\n</div>"
     },
     "execution_count": 73,
     "metadata": {},
     "output_type": "execute_result"
    }
   ],
   "source": [
    "dsa_df[ (dsa_df.Segmento == 'Home Office') & (dsa_df.Regiao == 'South') ].head()"
   ],
   "metadata": {
    "collapsed": false,
    "ExecuteTime": {
     "end_time": "2023-10-04T17:22:59.574911200Z",
     "start_time": "2023-10-04T17:22:59.525919Z"
    }
   },
   "id": "18eacf1400978284"
  },
  {
   "cell_type": "code",
   "execution_count": 74,
   "outputs": [
    {
     "data": {
      "text/plain": "           ID_Pedido Data_Pedido ID_Cliente     Segmento           Pais  \\\n9979  US-2016-103674  2016-12-06   AP-10720  Home Office  United States   \n9980  US-2015-151435  2015-09-06   SW-20455     Consumer  United States   \n9987  CA-2017-163629  2017-11-17   RA-19885    Corporate  United States   \n9988  CA-2017-163629  2017-11-17   RA-19885    Corporate  United States   \n9989  CA-2014-110422  2014-01-21   TB-21400     Consumer  United States   \n\n     Regiao       ID_Produto        Categoria  \\\n9979   West  OFF-BI-10002026  Office Supplies   \n9980  South  FUR-TA-10001029        Furniture   \n9987  South  TEC-AC-10001539       Technology   \n9988  South  TEC-PH-10004006       Technology   \n9989  South  FUR-FU-10001889        Furniture   \n\n                                           Nome_Produto  Valor_Venda  \\\n9979                  Ibico Recycled Linen-Style Covers      437.472   \n9980                         KI Adjustable-Height Table       85.980   \n9987  Logitech G430 Surround Sound Gaming Headset wi...       79.990   \n9988                    Panasonic KX - TS880B Telephone      206.100   \n9989                             Ultra Door Pull Handle       25.248   \n\n      Quantidade  \n9979        14.0  \n9980         1.0  \n9987         1.0  \n9988         5.0  \n9989         3.0  ",
      "text/html": "<div>\n<style scoped>\n    .dataframe tbody tr th:only-of-type {\n        vertical-align: middle;\n    }\n\n    .dataframe tbody tr th {\n        vertical-align: top;\n    }\n\n    .dataframe thead th {\n        text-align: right;\n    }\n</style>\n<table border=\"1\" class=\"dataframe\">\n  <thead>\n    <tr style=\"text-align: right;\">\n      <th></th>\n      <th>ID_Pedido</th>\n      <th>Data_Pedido</th>\n      <th>ID_Cliente</th>\n      <th>Segmento</th>\n      <th>Pais</th>\n      <th>Regiao</th>\n      <th>ID_Produto</th>\n      <th>Categoria</th>\n      <th>Nome_Produto</th>\n      <th>Valor_Venda</th>\n      <th>Quantidade</th>\n    </tr>\n  </thead>\n  <tbody>\n    <tr>\n      <th>9979</th>\n      <td>US-2016-103674</td>\n      <td>2016-12-06</td>\n      <td>AP-10720</td>\n      <td>Home Office</td>\n      <td>United States</td>\n      <td>West</td>\n      <td>OFF-BI-10002026</td>\n      <td>Office Supplies</td>\n      <td>Ibico Recycled Linen-Style Covers</td>\n      <td>437.472</td>\n      <td>14.0</td>\n    </tr>\n    <tr>\n      <th>9980</th>\n      <td>US-2015-151435</td>\n      <td>2015-09-06</td>\n      <td>SW-20455</td>\n      <td>Consumer</td>\n      <td>United States</td>\n      <td>South</td>\n      <td>FUR-TA-10001029</td>\n      <td>Furniture</td>\n      <td>KI Adjustable-Height Table</td>\n      <td>85.980</td>\n      <td>1.0</td>\n    </tr>\n    <tr>\n      <th>9987</th>\n      <td>CA-2017-163629</td>\n      <td>2017-11-17</td>\n      <td>RA-19885</td>\n      <td>Corporate</td>\n      <td>United States</td>\n      <td>South</td>\n      <td>TEC-AC-10001539</td>\n      <td>Technology</td>\n      <td>Logitech G430 Surround Sound Gaming Headset wi...</td>\n      <td>79.990</td>\n      <td>1.0</td>\n    </tr>\n    <tr>\n      <th>9988</th>\n      <td>CA-2017-163629</td>\n      <td>2017-11-17</td>\n      <td>RA-19885</td>\n      <td>Corporate</td>\n      <td>United States</td>\n      <td>South</td>\n      <td>TEC-PH-10004006</td>\n      <td>Technology</td>\n      <td>Panasonic KX - TS880B Telephone</td>\n      <td>206.100</td>\n      <td>5.0</td>\n    </tr>\n    <tr>\n      <th>9989</th>\n      <td>CA-2014-110422</td>\n      <td>2014-01-21</td>\n      <td>TB-21400</td>\n      <td>Consumer</td>\n      <td>United States</td>\n      <td>South</td>\n      <td>FUR-FU-10001889</td>\n      <td>Furniture</td>\n      <td>Ultra Door Pull Handle</td>\n      <td>25.248</td>\n      <td>3.0</td>\n    </tr>\n  </tbody>\n</table>\n</div>"
     },
     "execution_count": 74,
     "metadata": {},
     "output_type": "execute_result"
    }
   ],
   "source": [
    "dsa_df[ (dsa_df.Segmento == 'Home Office') | (dsa_df.Regiao == 'South') ].tail()"
   ],
   "metadata": {
    "collapsed": false,
    "ExecuteTime": {
     "end_time": "2023-10-04T17:23:58.372148700Z",
     "start_time": "2023-10-04T17:23:58.314146600Z"
    }
   },
   "id": "bcc52c4f7170da78"
  },
  {
   "cell_type": "code",
   "execution_count": 75,
   "outputs": [
    {
     "data": {
      "text/plain": "           ID_Pedido Data_Pedido ID_Cliente   Segmento           Pais  \\\n5116  CA-2017-154137  2017-11-11   MT-17815   Consumer  United States   \n1106  US-2016-110156  2016-11-19   EH-13945   Consumer  United States   \n906   CA-2017-143259  2017-12-30   PO-18865   Consumer  United States   \n407   CA-2017-117457  2017-12-08   KH-16510   Consumer  United States   \n3900  CA-2015-121097  2015-01-03   SF-20965  Corporate  United States   \n\n       Regiao       ID_Produto        Categoria  \\\n5116     East  OFF-ST-10003324  Office Supplies   \n1106  Central  FUR-FU-10000206        Furniture   \n906      East  FUR-BO-10003441        Furniture   \n407      West  OFF-PA-10003724  Office Supplies   \n3900  Central  OFF-PA-10001937  Office Supplies   \n\n                                           Nome_Produto  Valor_Venda  \\\n5116                   Belkin OmniView SE Rackmount Kit       35.480   \n1106  GE General Purpose, Extra Long Life, Showcase ...        2.328   \n906   Bush Westfield Collection Bookcases, Fully Ass...      323.136   \n407                  Wirebound Message Book, 4 per Page       27.150   \n3900                                           Xerox 21       10.368   \n\n      Quantidade  \n5116         1.0  \n1106         2.0  \n906          4.0  \n407          5.0  \n3900         2.0  ",
      "text/html": "<div>\n<style scoped>\n    .dataframe tbody tr th:only-of-type {\n        vertical-align: middle;\n    }\n\n    .dataframe tbody tr th {\n        vertical-align: top;\n    }\n\n    .dataframe thead th {\n        text-align: right;\n    }\n</style>\n<table border=\"1\" class=\"dataframe\">\n  <thead>\n    <tr style=\"text-align: right;\">\n      <th></th>\n      <th>ID_Pedido</th>\n      <th>Data_Pedido</th>\n      <th>ID_Cliente</th>\n      <th>Segmento</th>\n      <th>Pais</th>\n      <th>Regiao</th>\n      <th>ID_Produto</th>\n      <th>Categoria</th>\n      <th>Nome_Produto</th>\n      <th>Valor_Venda</th>\n      <th>Quantidade</th>\n    </tr>\n  </thead>\n  <tbody>\n    <tr>\n      <th>5116</th>\n      <td>CA-2017-154137</td>\n      <td>2017-11-11</td>\n      <td>MT-17815</td>\n      <td>Consumer</td>\n      <td>United States</td>\n      <td>East</td>\n      <td>OFF-ST-10003324</td>\n      <td>Office Supplies</td>\n      <td>Belkin OmniView SE Rackmount Kit</td>\n      <td>35.480</td>\n      <td>1.0</td>\n    </tr>\n    <tr>\n      <th>1106</th>\n      <td>US-2016-110156</td>\n      <td>2016-11-19</td>\n      <td>EH-13945</td>\n      <td>Consumer</td>\n      <td>United States</td>\n      <td>Central</td>\n      <td>FUR-FU-10000206</td>\n      <td>Furniture</td>\n      <td>GE General Purpose, Extra Long Life, Showcase ...</td>\n      <td>2.328</td>\n      <td>2.0</td>\n    </tr>\n    <tr>\n      <th>906</th>\n      <td>CA-2017-143259</td>\n      <td>2017-12-30</td>\n      <td>PO-18865</td>\n      <td>Consumer</td>\n      <td>United States</td>\n      <td>East</td>\n      <td>FUR-BO-10003441</td>\n      <td>Furniture</td>\n      <td>Bush Westfield Collection Bookcases, Fully Ass...</td>\n      <td>323.136</td>\n      <td>4.0</td>\n    </tr>\n    <tr>\n      <th>407</th>\n      <td>CA-2017-117457</td>\n      <td>2017-12-08</td>\n      <td>KH-16510</td>\n      <td>Consumer</td>\n      <td>United States</td>\n      <td>West</td>\n      <td>OFF-PA-10003724</td>\n      <td>Office Supplies</td>\n      <td>Wirebound Message Book, 4 per Page</td>\n      <td>27.150</td>\n      <td>5.0</td>\n    </tr>\n    <tr>\n      <th>3900</th>\n      <td>CA-2015-121097</td>\n      <td>2015-01-03</td>\n      <td>SF-20965</td>\n      <td>Corporate</td>\n      <td>United States</td>\n      <td>Central</td>\n      <td>OFF-PA-10001937</td>\n      <td>Office Supplies</td>\n      <td>Xerox 21</td>\n      <td>10.368</td>\n      <td>2.0</td>\n    </tr>\n  </tbody>\n</table>\n</div>"
     },
     "execution_count": 75,
     "metadata": {},
     "output_type": "execute_result"
    }
   ],
   "source": [
    "dsa_df[ (dsa_df.Segmento != 'Home Office') & (dsa_df.Regiao != 'South') ].sample(5)"
   ],
   "metadata": {
    "collapsed": false,
    "ExecuteTime": {
     "end_time": "2023-10-04T17:24:37.391744900Z",
     "start_time": "2023-10-04T17:24:37.334744700Z"
    }
   },
   "id": "3b940413ba11db6b"
  },
  {
   "cell_type": "code",
   "execution_count": 77,
   "outputs": [
    {
     "data": {
      "text/plain": "                     Valor_Venda\nSegmento    Regiao              \nConsumer    Central   207.946728\n            East      238.875539\n            South     233.390180\n            West      217.033955\nCorporate   Central   234.763466\n            East      228.516929\n            South     238.992025\n            West      235.265911\nHome Office Central   208.248046\n            East      253.911805\n            South     272.996329\n            West      239.442692",
      "text/html": "<div>\n<style scoped>\n    .dataframe tbody tr th:only-of-type {\n        vertical-align: middle;\n    }\n\n    .dataframe tbody tr th {\n        vertical-align: top;\n    }\n\n    .dataframe thead th {\n        text-align: right;\n    }\n</style>\n<table border=\"1\" class=\"dataframe\">\n  <thead>\n    <tr style=\"text-align: right;\">\n      <th></th>\n      <th></th>\n      <th>Valor_Venda</th>\n    </tr>\n    <tr>\n      <th>Segmento</th>\n      <th>Regiao</th>\n      <th></th>\n    </tr>\n  </thead>\n  <tbody>\n    <tr>\n      <th rowspan=\"4\" valign=\"top\">Consumer</th>\n      <th>Central</th>\n      <td>207.946728</td>\n    </tr>\n    <tr>\n      <th>East</th>\n      <td>238.875539</td>\n    </tr>\n    <tr>\n      <th>South</th>\n      <td>233.390180</td>\n    </tr>\n    <tr>\n      <th>West</th>\n      <td>217.033955</td>\n    </tr>\n    <tr>\n      <th rowspan=\"4\" valign=\"top\">Corporate</th>\n      <th>Central</th>\n      <td>234.763466</td>\n    </tr>\n    <tr>\n      <th>East</th>\n      <td>228.516929</td>\n    </tr>\n    <tr>\n      <th>South</th>\n      <td>238.992025</td>\n    </tr>\n    <tr>\n      <th>West</th>\n      <td>235.265911</td>\n    </tr>\n    <tr>\n      <th rowspan=\"4\" valign=\"top\">Home Office</th>\n      <th>Central</th>\n      <td>208.248046</td>\n    </tr>\n    <tr>\n      <th>East</th>\n      <td>253.911805</td>\n    </tr>\n    <tr>\n      <th>South</th>\n      <td>272.996329</td>\n    </tr>\n    <tr>\n      <th>West</th>\n      <td>239.442692</td>\n    </tr>\n  </tbody>\n</table>\n</div>"
     },
     "execution_count": 77,
     "metadata": {},
     "output_type": "execute_result"
    }
   ],
   "source": [
    "dsa_df[['Segmento', 'Regiao', 'Valor_Venda']].groupby(['Segmento', 'Regiao']).mean()"
   ],
   "metadata": {
    "collapsed": false,
    "ExecuteTime": {
     "end_time": "2023-10-04T17:35:54.466044700Z",
     "start_time": "2023-10-04T17:35:54.446045200Z"
    }
   },
   "id": "4b5a87142c6abc0a"
  },
  {
   "cell_type": "code",
   "execution_count": 79,
   "outputs": [
    {
     "data": {
      "text/plain": "                    Valor_Venda                   \n                           mean          std count\nSegmento    Regiao                                \nConsumer    Central  207.946728   587.906523  1212\n            East     238.875539   633.371169  1469\n            South    233.390180   559.346824   838\n            West     217.033955   551.997547  1672\nCorporate   Central  234.763466   818.947521   673\n            East     228.516929   530.001654   877\n            South    238.992025   586.176947   510\n            West     235.265911   471.288764   960\nHome Office Central  208.248046   371.009180   438\n            East     253.911805   722.777318   502\n            South    272.996329  1404.798466   272\n            West     239.442692   529.242737   571",
      "text/html": "<div>\n<style scoped>\n    .dataframe tbody tr th:only-of-type {\n        vertical-align: middle;\n    }\n\n    .dataframe tbody tr th {\n        vertical-align: top;\n    }\n\n    .dataframe thead tr th {\n        text-align: left;\n    }\n\n    .dataframe thead tr:last-of-type th {\n        text-align: right;\n    }\n</style>\n<table border=\"1\" class=\"dataframe\">\n  <thead>\n    <tr>\n      <th></th>\n      <th></th>\n      <th colspan=\"3\" halign=\"left\">Valor_Venda</th>\n    </tr>\n    <tr>\n      <th></th>\n      <th></th>\n      <th>mean</th>\n      <th>std</th>\n      <th>count</th>\n    </tr>\n    <tr>\n      <th>Segmento</th>\n      <th>Regiao</th>\n      <th></th>\n      <th></th>\n      <th></th>\n    </tr>\n  </thead>\n  <tbody>\n    <tr>\n      <th rowspan=\"4\" valign=\"top\">Consumer</th>\n      <th>Central</th>\n      <td>207.946728</td>\n      <td>587.906523</td>\n      <td>1212</td>\n    </tr>\n    <tr>\n      <th>East</th>\n      <td>238.875539</td>\n      <td>633.371169</td>\n      <td>1469</td>\n    </tr>\n    <tr>\n      <th>South</th>\n      <td>233.390180</td>\n      <td>559.346824</td>\n      <td>838</td>\n    </tr>\n    <tr>\n      <th>West</th>\n      <td>217.033955</td>\n      <td>551.997547</td>\n      <td>1672</td>\n    </tr>\n    <tr>\n      <th rowspan=\"4\" valign=\"top\">Corporate</th>\n      <th>Central</th>\n      <td>234.763466</td>\n      <td>818.947521</td>\n      <td>673</td>\n    </tr>\n    <tr>\n      <th>East</th>\n      <td>228.516929</td>\n      <td>530.001654</td>\n      <td>877</td>\n    </tr>\n    <tr>\n      <th>South</th>\n      <td>238.992025</td>\n      <td>586.176947</td>\n      <td>510</td>\n    </tr>\n    <tr>\n      <th>West</th>\n      <td>235.265911</td>\n      <td>471.288764</td>\n      <td>960</td>\n    </tr>\n    <tr>\n      <th rowspan=\"4\" valign=\"top\">Home Office</th>\n      <th>Central</th>\n      <td>208.248046</td>\n      <td>371.009180</td>\n      <td>438</td>\n    </tr>\n    <tr>\n      <th>East</th>\n      <td>253.911805</td>\n      <td>722.777318</td>\n      <td>502</td>\n    </tr>\n    <tr>\n      <th>South</th>\n      <td>272.996329</td>\n      <td>1404.798466</td>\n      <td>272</td>\n    </tr>\n    <tr>\n      <th>West</th>\n      <td>239.442692</td>\n      <td>529.242737</td>\n      <td>571</td>\n    </tr>\n  </tbody>\n</table>\n</div>"
     },
     "execution_count": 79,
     "metadata": {},
     "output_type": "execute_result"
    }
   ],
   "source": [
    "dsa_df[['Segmento', 'Regiao', 'Valor_Venda']].groupby(['Segmento', 'Regiao']).agg(['mean', 'std', 'count'])"
   ],
   "metadata": {
    "collapsed": false,
    "ExecuteTime": {
     "end_time": "2023-10-04T17:40:08.430904700Z",
     "start_time": "2023-10-04T17:40:08.381018600Z"
    }
   },
   "id": "227206b138e5bcff"
  },
  {
   "cell_type": "code",
   "execution_count": 81,
   "outputs": [
    {
     "data": {
      "text/plain": "        ID_Pedido Data_Pedido ID_Cliente  Segmento           Pais Regiao  \\\n0  CA-2016-152156  2016-11-08   CG-12520  Consumer  United States  South   \n1  CA-2016-152156  2016-11-08   CG-12520  Consumer  United States  South   \n3  US-2015-108966  2015-10-11   SO-20335  Consumer  United States  South   \n4  US-2015-108966  2015-10-11   SO-20335  Consumer  United States  South   \n5  CA-2014-115812  2014-06-09   BH-11710  Consumer  United States   West   \n\n        ID_Produto        Categoria  \\\n0  FUR-BO-10001798        Furniture   \n1  FUR-CH-10000454        Furniture   \n3  FUR-TA-10000577        Furniture   \n4  OFF-ST-10000760  Office Supplies   \n5  FUR-FU-10001487        Furniture   \n\n                                        Nome_Produto  Valor_Venda  Quantidade  \n0                  Bush Somerset Collection Bookcase     261.9600         3.0  \n1  Hon Deluxe Fabric Upholstered Stacking Chairs,...     731.9400         3.0  \n3      Bretford CR4500 Series Slim Rectangular Table     957.5775         5.0  \n4                     Eldon Fold 'N Roll Cart System      22.3680         2.0  \n5  Eldon Expressions Wood and Plastic Desk Access...      48.8600         7.0  ",
      "text/html": "<div>\n<style scoped>\n    .dataframe tbody tr th:only-of-type {\n        vertical-align: middle;\n    }\n\n    .dataframe tbody tr th {\n        vertical-align: top;\n    }\n\n    .dataframe thead th {\n        text-align: right;\n    }\n</style>\n<table border=\"1\" class=\"dataframe\">\n  <thead>\n    <tr style=\"text-align: right;\">\n      <th></th>\n      <th>ID_Pedido</th>\n      <th>Data_Pedido</th>\n      <th>ID_Cliente</th>\n      <th>Segmento</th>\n      <th>Pais</th>\n      <th>Regiao</th>\n      <th>ID_Produto</th>\n      <th>Categoria</th>\n      <th>Nome_Produto</th>\n      <th>Valor_Venda</th>\n      <th>Quantidade</th>\n    </tr>\n  </thead>\n  <tbody>\n    <tr>\n      <th>0</th>\n      <td>CA-2016-152156</td>\n      <td>2016-11-08</td>\n      <td>CG-12520</td>\n      <td>Consumer</td>\n      <td>United States</td>\n      <td>South</td>\n      <td>FUR-BO-10001798</td>\n      <td>Furniture</td>\n      <td>Bush Somerset Collection Bookcase</td>\n      <td>261.9600</td>\n      <td>3.0</td>\n    </tr>\n    <tr>\n      <th>1</th>\n      <td>CA-2016-152156</td>\n      <td>2016-11-08</td>\n      <td>CG-12520</td>\n      <td>Consumer</td>\n      <td>United States</td>\n      <td>South</td>\n      <td>FUR-CH-10000454</td>\n      <td>Furniture</td>\n      <td>Hon Deluxe Fabric Upholstered Stacking Chairs,...</td>\n      <td>731.9400</td>\n      <td>3.0</td>\n    </tr>\n    <tr>\n      <th>3</th>\n      <td>US-2015-108966</td>\n      <td>2015-10-11</td>\n      <td>SO-20335</td>\n      <td>Consumer</td>\n      <td>United States</td>\n      <td>South</td>\n      <td>FUR-TA-10000577</td>\n      <td>Furniture</td>\n      <td>Bretford CR4500 Series Slim Rectangular Table</td>\n      <td>957.5775</td>\n      <td>5.0</td>\n    </tr>\n    <tr>\n      <th>4</th>\n      <td>US-2015-108966</td>\n      <td>2015-10-11</td>\n      <td>SO-20335</td>\n      <td>Consumer</td>\n      <td>United States</td>\n      <td>South</td>\n      <td>OFF-ST-10000760</td>\n      <td>Office Supplies</td>\n      <td>Eldon Fold 'N Roll Cart System</td>\n      <td>22.3680</td>\n      <td>2.0</td>\n    </tr>\n    <tr>\n      <th>5</th>\n      <td>CA-2014-115812</td>\n      <td>2014-06-09</td>\n      <td>BH-11710</td>\n      <td>Consumer</td>\n      <td>United States</td>\n      <td>West</td>\n      <td>FUR-FU-10001487</td>\n      <td>Furniture</td>\n      <td>Eldon Expressions Wood and Plastic Desk Access...</td>\n      <td>48.8600</td>\n      <td>7.0</td>\n    </tr>\n  </tbody>\n</table>\n</div>"
     },
     "execution_count": 81,
     "metadata": {},
     "output_type": "execute_result"
    }
   ],
   "source": [
    "dsa_df[dsa_df.Segmento.str.startswith('Con')].head()"
   ],
   "metadata": {
    "collapsed": false,
    "ExecuteTime": {
     "end_time": "2023-10-04T17:43:02.986029300Z",
     "start_time": "2023-10-04T17:43:02.939982900Z"
    }
   },
   "id": "7f3fd09e8bd1716"
  },
  {
   "cell_type": "code",
   "execution_count": null,
   "outputs": [],
   "source": [],
   "metadata": {
    "collapsed": false
   },
   "id": "72ad5b0167831601"
  }
 ],
 "metadata": {
  "kernelspec": {
   "display_name": "Python 3",
   "language": "python",
   "name": "python3"
  },
  "language_info": {
   "codemirror_mode": {
    "name": "ipython",
    "version": 2
   },
   "file_extension": ".py",
   "mimetype": "text/x-python",
   "name": "python",
   "nbconvert_exporter": "python",
   "pygments_lexer": "ipython2",
   "version": "2.7.6"
  }
 },
 "nbformat": 4,
 "nbformat_minor": 5
}
