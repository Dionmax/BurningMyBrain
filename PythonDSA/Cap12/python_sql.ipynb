{
 "cells": [
  {
   "cell_type": "code",
   "execution_count": 2,
   "outputs": [],
   "source": [
    "import sqlite3\n",
    "import pandas as pd"
   ],
   "metadata": {
    "collapsed": false,
    "ExecuteTime": {
     "end_time": "2023-11-09T17:11:21.241277200Z",
     "start_time": "2023-11-09T17:11:19.303339900Z"
    }
   },
   "id": "154e1d458e9472"
  },
  {
   "cell_type": "code",
   "execution_count": 8,
   "outputs": [
    {
     "data": {
      "text/plain": "[('tb_vendas_dsa',)]"
     },
     "execution_count": 8,
     "metadata": {},
     "output_type": "execute_result"
    }
   ],
   "source": [
    "con = sqlite3.connect('files\\cap12_dsa.db')\n",
    "\n",
    "cursor = con.cursor()\n",
    "\n",
    "q1 = \"select name from sqlite_master where type = 'table';\"\n",
    "\n",
    "cursor.execute(q1)\n",
    "\n",
    "cursor.fetchall()"
   ],
   "metadata": {
    "collapsed": false,
    "ExecuteTime": {
     "end_time": "2023-11-09T17:24:44.337947400Z",
     "start_time": "2023-11-09T17:24:44.314947800Z"
    }
   },
   "id": "f6ed129fddaac93f"
  },
  {
   "cell_type": "code",
   "execution_count": 4,
   "outputs": [
    {
     "data": {
      "text/plain": "[(1, 63, 'Produto_38', 154.03, 7, 92.42),\n (2, 49, 'Produto_8', 171.52, 5, 102.91),\n (3, 83, 'Produto_39', 28.97, 13, 17.38),\n (4, 37, 'Produto_2', 104.55, 4, 62.73),\n (5, 19, 'Produto_1', 77.21, 19, 46.33),\n (6, 87, 'Produto_36', 161.97, 13, 97.18),\n (7, 59, 'Produto_24', 101.17, 7, 60.7),\n (8, 48, 'Produto_31', 92.03, 9, 55.22),\n (9, 73, 'Produto_4', 116.57, 6, 69.94),\n (10, 98, 'Produto_45', 46.16, 4, 27.7)]"
     },
     "execution_count": 4,
     "metadata": {},
     "output_type": "execute_result"
    }
   ],
   "source": [
    "q2 = \"select * from tb_vendas_dsa limit 10;\"\n",
    "\n",
    "cursor.execute(q2)\n",
    "\n",
    "cursor.fetchall()"
   ],
   "metadata": {
    "collapsed": false,
    "ExecuteTime": {
     "end_time": "2023-10-13T16:50:24.670975800Z",
     "start_time": "2023-10-13T16:50:24.653974400Z"
    }
   },
   "id": "c49ada8329c672a0"
  },
  {
   "cell_type": "code",
   "execution_count": 5,
   "outputs": [
    {
     "name": "stdout",
     "output_type": "stream",
     "text": [
      "['ID_Pedido', 'ID_Cliente', 'Nome_Produto', 'Valor_Unitario', 'Unidades_Vendidas', 'Custo']\n"
     ]
    }
   ],
   "source": [
    "columns_name = [description[0] for description in cursor.description]\n",
    "\n",
    "print(columns_name)"
   ],
   "metadata": {
    "collapsed": false,
    "ExecuteTime": {
     "end_time": "2023-10-13T16:50:25.484542700Z",
     "start_time": "2023-10-13T16:50:25.464542700Z"
    }
   },
   "id": "f553a29a541b3780"
  },
  {
   "cell_type": "code",
   "execution_count": 6,
   "outputs": [
    {
     "data": {
      "text/plain": "[(10.506,)]"
     },
     "execution_count": 6,
     "metadata": {},
     "output_type": "execute_result"
    }
   ],
   "source": [
    "q3 = 'select avg(Unidades_Vendidas) from tb_vendas_dsa'\n",
    "\n",
    "cursor.execute(q3)\n",
    "\n",
    "cursor.fetchall()"
   ],
   "metadata": {
    "collapsed": false,
    "ExecuteTime": {
     "end_time": "2023-10-13T16:50:29.375004800Z",
     "start_time": "2023-10-13T16:50:29.358004200Z"
    }
   },
   "id": "a76ba3a190e24668"
  },
  {
   "cell_type": "code",
   "execution_count": 14,
   "outputs": [
    {
     "data": {
      "text/plain": "[('Produto_1', 12.0),\n ('Produto_10', 9.5),\n ('Produto_11', 14.181818181818182),\n ('Produto_12', 8.846153846153847),\n ('Produto_13', 6.0),\n ('Produto_14', 9.166666666666666),\n ('Produto_15', 9.75),\n ('Produto_16', 8.25),\n ('Produto_17', 11.714285714285714),\n ('Produto_18', 13.083333333333334),\n ('Produto_19', 9.727272727272727),\n ('Produto_2', 9.25),\n ('Produto_20', 7.555555555555555),\n ('Produto_21', 10.285714285714286),\n ('Produto_22', 13.6875),\n ('Produto_23', 10.818181818181818),\n ('Produto_24', 12.272727272727273),\n ('Produto_25', 9.538461538461538),\n ('Produto_26', 9.363636363636363),\n ('Produto_27', 11.1),\n ('Produto_28', 9.0),\n ('Produto_29', 9.692307692307692),\n ('Produto_3', 8.909090909090908),\n ('Produto_30', 9.875),\n ('Produto_31', 7.9),\n ('Produto_32', 11.923076923076923),\n ('Produto_33', 12.285714285714286),\n ('Produto_34', 8.1),\n ('Produto_35', 9.0),\n ('Produto_36', 9.090909090909092),\n ('Produto_37', 11.0),\n ('Produto_38', 12.8),\n ('Produto_39', 12.666666666666666),\n ('Produto_4', 11.153846153846153),\n ('Produto_40', 7.25),\n ('Produto_41', 11.857142857142858),\n ('Produto_42', 10.272727272727273),\n ('Produto_43', 11.0),\n ('Produto_44', 7.2),\n ('Produto_45', 8.875),\n ('Produto_46', 12.142857142857142),\n ('Produto_47', 10.571428571428571),\n ('Produto_48', 14.0),\n ('Produto_49', 11.875),\n ('Produto_5', 10.2),\n ('Produto_50', 10.545454545454545),\n ('Produto_6', 12.0),\n ('Produto_7', 13.5625),\n ('Produto_8', 11.071428571428571),\n ('Produto_9', 7.2)]"
     },
     "execution_count": 14,
     "metadata": {},
     "output_type": "execute_result"
    }
   ],
   "source": [
    "q4 = 'select Nome_Produto, avg(Unidades_Vendidas) from tb_vendas_dsa group by \"Nome_Produto\"'\n",
    "\n",
    "cursor.execute(q4)\n",
    "\n",
    "cursor.fetchall()"
   ],
   "metadata": {
    "collapsed": false,
    "ExecuteTime": {
     "end_time": "2023-10-13T17:48:27.231072900Z",
     "start_time": "2023-10-13T17:48:27.213078900Z"
    }
   },
   "id": "9253fcb58d5ba13c"
  },
  {
   "cell_type": "code",
   "execution_count": 17,
   "outputs": [
    {
     "data": {
      "text/plain": "[('Produto_11', 1.0),\n ('Produto_15', 8.0),\n ('Produto_17', 14.0),\n ('Produto_20', 7.0),\n ('Produto_39', 16.0)]"
     },
     "execution_count": 17,
     "metadata": {},
     "output_type": "execute_result"
    }
   ],
   "source": [
    "q5 = \"\"\"\n",
    "        select Nome_Produto, avg(Unidades_Vendidas) \n",
    "        from tb_vendas_dsa\n",
    "        where Valor_Unitario > 199 \n",
    "        group by \"Nome_Produto\" \n",
    "    \"\"\"\n",
    "\n",
    "cursor.execute(q5)\n",
    "\n",
    "cursor.fetchall()"
   ],
   "metadata": {
    "collapsed": false,
    "ExecuteTime": {
     "end_time": "2023-10-13T17:51:55.704512400Z",
     "start_time": "2023-10-13T17:51:55.690716100Z"
    }
   },
   "id": "792b2c4c63f93d1b"
  },
  {
   "cell_type": "code",
   "execution_count": 6,
   "outputs": [
    {
     "data": {
      "text/plain": "[('Produto_17', 14.0), ('Produto_39', 16.0)]"
     },
     "execution_count": 6,
     "metadata": {},
     "output_type": "execute_result"
    }
   ],
   "source": [
    "q6 = \"\"\"\n",
    "        select Nome_Produto, avg(Unidades_Vendidas) \n",
    "        from tb_vendas_dsa\n",
    "        where Valor_Unitario > 199 \n",
    "        group by \"Nome_Produto\" \n",
    "        having avg(Unidades_Vendidas) > 10\n",
    "    \"\"\"\n",
    "\n",
    "cursor.execute(q6)\n",
    "\n",
    "cursor.fetchall()"
   ],
   "metadata": {
    "collapsed": false,
    "ExecuteTime": {
     "end_time": "2023-11-09T17:24:07.084051500Z",
     "start_time": "2023-11-09T17:24:07.078053900Z"
    }
   },
   "id": "c253cb9ef98c4cc3"
  },
  {
   "cell_type": "code",
   "execution_count": 15,
   "outputs": [
    {
     "data": {
      "text/plain": "   ID_Pedido  ID_Cliente Nome_Produto  Valor_Unitario  Unidades_Vendidas  \\\n0          1          63   Produto_38          154.03                  7   \n1          2          49    Produto_8          171.52                  5   \n2          3          83   Produto_39           28.97                 13   \n3          4          37    Produto_2          104.55                  4   \n4          5          19    Produto_1           77.21                 19   \n\n   Cursto  \n0   92.42  \n1  102.91  \n2   17.38  \n3   62.73  \n4   46.33  ",
      "text/html": "<div>\n<style scoped>\n    .dataframe tbody tr th:only-of-type {\n        vertical-align: middle;\n    }\n\n    .dataframe tbody tr th {\n        vertical-align: top;\n    }\n\n    .dataframe thead th {\n        text-align: right;\n    }\n</style>\n<table border=\"1\" class=\"dataframe\">\n  <thead>\n    <tr style=\"text-align: right;\">\n      <th></th>\n      <th>ID_Pedido</th>\n      <th>ID_Cliente</th>\n      <th>Nome_Produto</th>\n      <th>Valor_Unitario</th>\n      <th>Unidades_Vendidas</th>\n      <th>Cursto</th>\n    </tr>\n  </thead>\n  <tbody>\n    <tr>\n      <th>0</th>\n      <td>1</td>\n      <td>63</td>\n      <td>Produto_38</td>\n      <td>154.03</td>\n      <td>7</td>\n      <td>92.42</td>\n    </tr>\n    <tr>\n      <th>1</th>\n      <td>2</td>\n      <td>49</td>\n      <td>Produto_8</td>\n      <td>171.52</td>\n      <td>5</td>\n      <td>102.91</td>\n    </tr>\n    <tr>\n      <th>2</th>\n      <td>3</td>\n      <td>83</td>\n      <td>Produto_39</td>\n      <td>28.97</td>\n      <td>13</td>\n      <td>17.38</td>\n    </tr>\n    <tr>\n      <th>3</th>\n      <td>4</td>\n      <td>37</td>\n      <td>Produto_2</td>\n      <td>104.55</td>\n      <td>4</td>\n      <td>62.73</td>\n    </tr>\n    <tr>\n      <th>4</th>\n      <td>5</td>\n      <td>19</td>\n      <td>Produto_1</td>\n      <td>77.21</td>\n      <td>19</td>\n      <td>46.33</td>\n    </tr>\n  </tbody>\n</table>\n</div>"
     },
     "execution_count": 15,
     "metadata": {},
     "output_type": "execute_result"
    }
   ],
   "source": [
    "q7 = \"select * from tb_vendas_dsa;\"\n",
    "\n",
    "data7 = cursor.execute(q7).fetchall()\n",
    "\n",
    "df7 = pd.DataFrame(data7, columns=['ID_Pedido',\n",
    "                                   'ID_Cliente',\n",
    "                                   'Nome_Produto',\n",
    "                                   'Valor_Unitario',\n",
    "                                   'Unidades_Vendidas',\n",
    "                                   'Cursto'])\n",
    "\n",
    "df7.head()"
   ],
   "metadata": {
    "collapsed": false,
    "ExecuteTime": {
     "end_time": "2023-11-09T17:36:06.610312600Z",
     "start_time": "2023-11-09T17:36:06.581311800Z"
    }
   },
   "id": "8cf985aac46e7bda"
  },
  {
   "cell_type": "code",
   "execution_count": 16,
   "outputs": [
    {
     "data": {
      "text/plain": "Nome_Produto\nProduto_1     12.000000\nProduto_10     9.500000\nProduto_11    14.181818\nProduto_12     8.846154\nProduto_13     6.000000\nProduto_14     9.166667\nProduto_15     9.750000\nProduto_16     8.250000\nProduto_17    11.714286\nProduto_18    13.083333\nProduto_19     9.727273\nProduto_2      9.250000\nProduto_20     7.555556\nProduto_21    10.285714\nProduto_22    13.687500\nProduto_23    10.818182\nProduto_24    12.272727\nProduto_25     9.538462\nProduto_26     9.363636\nProduto_27    11.100000\nProduto_28     9.000000\nProduto_29     9.692308\nProduto_3      8.909091\nProduto_30     9.875000\nProduto_31     7.900000\nProduto_32    11.923077\nProduto_33    12.285714\nProduto_34     8.100000\nProduto_35     9.000000\nProduto_36     9.090909\nProduto_37    11.000000\nProduto_38    12.800000\nProduto_39    12.666667\nProduto_4     11.153846\nProduto_40     7.250000\nProduto_41    11.857143\nProduto_42    10.272727\nProduto_43    11.000000\nProduto_44     7.200000\nProduto_45     8.875000\nProduto_46    12.142857\nProduto_47    10.571429\nProduto_48    14.000000\nProduto_49    11.875000\nProduto_5     10.200000\nProduto_50    10.545455\nProduto_6     12.000000\nProduto_7     13.562500\nProduto_8     11.071429\nProduto_9      7.200000\nName: Unidades_Vendidas, dtype: float64"
     },
     "execution_count": 16,
     "metadata": {},
     "output_type": "execute_result"
    }
   ],
   "source": [
    "media_unidades_vendidas_por_produto = df7.groupby('Nome_Produto')['Unidades_Vendidas'].mean()\n",
    "\n",
    "media_unidades_vendidas_por_produto"
   ],
   "metadata": {
    "collapsed": false,
    "ExecuteTime": {
     "end_time": "2023-11-10T14:35:09.243728400Z",
     "start_time": "2023-11-10T14:35:09.203729600Z"
    }
   },
   "id": "1823560c1255e0ea"
  },
  {
   "cell_type": "code",
   "execution_count": 18,
   "outputs": [
    {
     "data": {
      "text/plain": "Nome_Produto\nProduto_11     1.0\nProduto_15     8.0\nProduto_17    14.0\nProduto_20     7.0\nProduto_39    16.0\nName: Unidades_Vendidas, dtype: float64"
     },
     "execution_count": 18,
     "metadata": {},
     "output_type": "execute_result"
    }
   ],
   "source": [
    "df7[df7['Valor_Unitario'] > 199].groupby('Nome_Produto')['Unidades_Vendidas'].mean()"
   ],
   "metadata": {
    "collapsed": false,
    "ExecuteTime": {
     "end_time": "2023-11-10T16:24:08.586347300Z",
     "start_time": "2023-11-10T16:24:08.553344900Z"
    }
   },
   "id": "8cc74335701969bc"
  },
  {
   "cell_type": "code",
   "execution_count": 19,
   "outputs": [
    {
     "data": {
      "text/plain": "    ID_Pedido  ID_Cliente Nome_Produto  Valor_Unitario  Unidades_Vendidas  \\\n42         43          72   Produto_39          199.78                 16   \n83         84          45   Produto_17          199.62                 14   \n\n    Cursto  \n42  119.87  \n83  119.77  ",
      "text/html": "<div>\n<style scoped>\n    .dataframe tbody tr th:only-of-type {\n        vertical-align: middle;\n    }\n\n    .dataframe tbody tr th {\n        vertical-align: top;\n    }\n\n    .dataframe thead th {\n        text-align: right;\n    }\n</style>\n<table border=\"1\" class=\"dataframe\">\n  <thead>\n    <tr style=\"text-align: right;\">\n      <th></th>\n      <th>ID_Pedido</th>\n      <th>ID_Cliente</th>\n      <th>Nome_Produto</th>\n      <th>Valor_Unitario</th>\n      <th>Unidades_Vendidas</th>\n      <th>Cursto</th>\n    </tr>\n  </thead>\n  <tbody>\n    <tr>\n      <th>42</th>\n      <td>43</td>\n      <td>72</td>\n      <td>Produto_39</td>\n      <td>199.78</td>\n      <td>16</td>\n      <td>119.87</td>\n    </tr>\n    <tr>\n      <th>83</th>\n      <td>84</td>\n      <td>45</td>\n      <td>Produto_17</td>\n      <td>199.62</td>\n      <td>14</td>\n      <td>119.77</td>\n    </tr>\n  </tbody>\n</table>\n</div>"
     },
     "execution_count": 19,
     "metadata": {},
     "output_type": "execute_result"
    }
   ],
   "source": [
    "df7[df7['Valor_Unitario'] > 199].groupby('Nome_Produto').filter(lambda x: x['Unidades_Vendidas'].mean() > 10)"
   ],
   "metadata": {
    "collapsed": false,
    "ExecuteTime": {
     "end_time": "2023-11-10T16:25:21.839275600Z",
     "start_time": "2023-11-10T16:25:21.804276Z"
    }
   },
   "id": "ec7784c6c4aad0a6"
  }
 ],
 "metadata": {
  "kernelspec": {
   "display_name": "Python 3",
   "language": "python",
   "name": "python3"
  },
  "language_info": {
   "codemirror_mode": {
    "name": "ipython",
    "version": 2
   },
   "file_extension": ".py",
   "mimetype": "text/x-python",
   "name": "python",
   "nbconvert_exporter": "python",
   "pygments_lexer": "ipython2",
   "version": "2.7.6"
  }
 },
 "nbformat": 4,
 "nbformat_minor": 5
}
