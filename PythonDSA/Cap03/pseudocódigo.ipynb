{
 "cells": [
  {
   "cell_type": "code",
   "execution_count": null,
   "id": "2812139e",
   "metadata": {},
   "outputs": [],
   "source": [
    "comp = float(input(\"Qual é o comp: \"))\n",
    "alt = float(input(\"Qual é a alt: \"))\n",
    "res = comp * alt\n",
    "print(\"A area é :\", res)"
   ]
  },
  {
   "cell_type": "code",
   "execution_count": null,
   "outputs": [],
   "source": [
    "arr = [1,3,4,7,2,6,5]\n",
    "\n",
    "# arr.sort()\n",
    "\n",
    "for i in arr:\n",
    "    for j in range(i, len(arr)):\n",
    "        if arr[i] > arr[j]:\n",
    "            arr[i],  arr[j] =  arr[j],  arr[i]\n",
    "\n",
    "print(arr)"
   ],
   "metadata": {
    "collapsed": false
   },
   "id": "b62462cf1a1df569"
  }
 ],
 "metadata": {
  "kernelspec": {
   "display_name": "Python 3 (ipykernel)",
   "language": "python",
   "name": "python3"
  },
  "language_info": {
   "codemirror_mode": {
    "name": "ipython",
    "version": 3
   },
   "file_extension": ".py",
   "mimetype": "text/x-python",
   "name": "python",
   "nbconvert_exporter": "python",
   "pygments_lexer": "ipython3",
   "version": "3.9.13"
  }
 },
 "nbformat": 4,
 "nbformat_minor": 5
}
