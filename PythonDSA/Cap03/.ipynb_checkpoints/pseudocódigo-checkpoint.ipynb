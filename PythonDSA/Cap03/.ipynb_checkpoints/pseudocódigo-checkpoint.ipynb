{
 "cells": [
  {
   "cell_type": "code",
   "execution_count": 4,
   "id": "38a5f75b",
   "metadata": {},
   "outputs": [
    {
     "name": "stdout",
     "output_type": "stream",
     "text": [
      "Qual é o comp: 10\n",
      "Qual é a alt: 2\n",
      "A area é : 20\n"
     ]
    }
   ],
   "source": [
    "comp = float(input(\"Qual é o comp: \"))\n",
    "alt = float(input(\"Qual é a alt: \"))\n",
    "print(\"A area é :\", comp * alt)"
   ]
  },
  {
   "cell_type": "code",
   "execution_count": null,
   "id": "c8ac36b4",
   "metadata": {},
   "outputs": [],
   "source": []
  }
 ],
 "metadata": {
  "kernelspec": {
   "display_name": "Python 3 (ipykernel)",
   "language": "python",
   "name": "python3"
  },
  "language_info": {
   "codemirror_mode": {
    "name": "ipython",
    "version": 3
   },
   "file_extension": ".py",
   "mimetype": "text/x-python",
   "name": "python",
   "nbconvert_exporter": "python",
   "pygments_lexer": "ipython3",
   "version": "3.9.13"
  }
 },
 "nbformat": 4,
 "nbformat_minor": 5
}
