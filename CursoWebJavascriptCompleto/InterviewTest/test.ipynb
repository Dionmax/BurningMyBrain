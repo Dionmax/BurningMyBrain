{
 "cells": [
  {
   "cell_type": "code",
   "execution_count": 10,
   "metadata": {},
   "outputs": [
    {
     "name": "stdout",
     "output_type": "stream",
     "text": [
      "True\n"
     ]
    }
   ],
   "source": [
    "palindromic_prase = \"Doc, note: I dissent. A fast never prevents a fatness. I diet on cod\"\n",
    "# palindromic_prase = \"Able was I ere I saw Elba\"\n",
    "\n",
    "def is_palindromic(phrase):\n",
    "    phrase = phrase.lower()\n",
    "\n",
    "    phrase = \"\".join(filter(str.isalnum, phrase))\n",
    "\n",
    "    return phrase == phrase[::-1]\n",
    "\n",
    "\n",
    "print(is_palindromic(palindromic_prase))"
   ]
  }
 ],
 "metadata": {
  "kernelspec": {
   "display_name": "base",
   "language": "python",
   "name": "python3"
  },
  "language_info": {
   "codemirror_mode": {
    "name": "ipython",
    "version": 3
   },
   "file_extension": ".py",
   "mimetype": "text/x-python",
   "name": "python",
   "nbconvert_exporter": "python",
   "pygments_lexer": "ipython3",
   "version": "3.9.13"
  }
 },
 "nbformat": 4,
 "nbformat_minor": 2
}
