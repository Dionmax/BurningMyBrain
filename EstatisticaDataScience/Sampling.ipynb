{
 "cells": [
  {
   "cell_type": "code",
   "execution_count": 115,
   "metadata": {},
   "outputs": [],
   "source": [
    "import pandas as pd\n",
    "import numpy as np\n",
    "import random"
   ]
  },
  {
   "cell_type": "code",
   "execution_count": 116,
   "metadata": {},
   "outputs": [
    {
     "data": {
      "text/plain": [
       "(32561, 15)"
      ]
     },
     "execution_count": 116,
     "metadata": {},
     "output_type": "execute_result"
    }
   ],
   "source": [
    "data = pd.read_csv(\"data/census.csv\")\n",
    "\n",
    "data.shape"
   ]
  },
  {
   "cell_type": "code",
   "execution_count": 117,
   "metadata": {},
   "outputs": [
    {
     "data": {
      "application/vnd.microsoft.datawrangler.viewer.v0+json": {
       "columns": [
        {
         "name": "index",
         "rawType": "int64",
         "type": "integer"
        },
        {
         "name": "age",
         "rawType": "int64",
         "type": "integer"
        },
        {
         "name": "workclass",
         "rawType": "object",
         "type": "string"
        },
        {
         "name": "final-weight",
         "rawType": "int64",
         "type": "integer"
        },
        {
         "name": "education",
         "rawType": "object",
         "type": "string"
        },
        {
         "name": "education-num",
         "rawType": "int64",
         "type": "integer"
        },
        {
         "name": "marital-status",
         "rawType": "object",
         "type": "string"
        },
        {
         "name": "occupation",
         "rawType": "object",
         "type": "string"
        },
        {
         "name": "relationship",
         "rawType": "object",
         "type": "string"
        },
        {
         "name": "race",
         "rawType": "object",
         "type": "string"
        },
        {
         "name": "sex",
         "rawType": "object",
         "type": "string"
        },
        {
         "name": "capital-gain",
         "rawType": "int64",
         "type": "integer"
        },
        {
         "name": "capital-loos",
         "rawType": "int64",
         "type": "integer"
        },
        {
         "name": "hour-per-week",
         "rawType": "int64",
         "type": "integer"
        },
        {
         "name": "native-country",
         "rawType": "object",
         "type": "string"
        },
        {
         "name": "income",
         "rawType": "object",
         "type": "string"
        }
       ],
       "conversionMethod": "pd.DataFrame",
       "ref": "cf963c8e-3f3c-4e79-b2f4-18e628fcb389",
       "rows": [
        [
         "0",
         "39",
         " State-gov",
         "77516",
         " Bachelors",
         "13",
         " Never-married",
         " Adm-clerical",
         " Not-in-family",
         " White",
         " Male",
         "2174",
         "0",
         "40",
         " United-States",
         " <=50K"
        ],
        [
         "1",
         "50",
         " Self-emp-not-inc",
         "83311",
         " Bachelors",
         "13",
         " Married-civ-spouse",
         " Exec-managerial",
         " Husband",
         " White",
         " Male",
         "0",
         "0",
         "13",
         " United-States",
         " <=50K"
        ],
        [
         "2",
         "38",
         " Private",
         "215646",
         " HS-grad",
         "9",
         " Divorced",
         " Handlers-cleaners",
         " Not-in-family",
         " White",
         " Male",
         "0",
         "0",
         "40",
         " United-States",
         " <=50K"
        ],
        [
         "3",
         "53",
         " Private",
         "234721",
         " 11th",
         "7",
         " Married-civ-spouse",
         " Handlers-cleaners",
         " Husband",
         " Black",
         " Male",
         "0",
         "0",
         "40",
         " United-States",
         " <=50K"
        ],
        [
         "4",
         "28",
         " Private",
         "338409",
         " Bachelors",
         "13",
         " Married-civ-spouse",
         " Prof-specialty",
         " Wife",
         " Black",
         " Female",
         "0",
         "0",
         "40",
         " Cuba",
         " <=50K"
        ]
       ],
       "shape": {
        "columns": 15,
        "rows": 5
       }
      },
      "text/html": [
       "<div>\n",
       "<style scoped>\n",
       "    .dataframe tbody tr th:only-of-type {\n",
       "        vertical-align: middle;\n",
       "    }\n",
       "\n",
       "    .dataframe tbody tr th {\n",
       "        vertical-align: top;\n",
       "    }\n",
       "\n",
       "    .dataframe thead th {\n",
       "        text-align: right;\n",
       "    }\n",
       "</style>\n",
       "<table border=\"1\" class=\"dataframe\">\n",
       "  <thead>\n",
       "    <tr style=\"text-align: right;\">\n",
       "      <th></th>\n",
       "      <th>age</th>\n",
       "      <th>workclass</th>\n",
       "      <th>final-weight</th>\n",
       "      <th>education</th>\n",
       "      <th>education-num</th>\n",
       "      <th>marital-status</th>\n",
       "      <th>occupation</th>\n",
       "      <th>relationship</th>\n",
       "      <th>race</th>\n",
       "      <th>sex</th>\n",
       "      <th>capital-gain</th>\n",
       "      <th>capital-loos</th>\n",
       "      <th>hour-per-week</th>\n",
       "      <th>native-country</th>\n",
       "      <th>income</th>\n",
       "    </tr>\n",
       "  </thead>\n",
       "  <tbody>\n",
       "    <tr>\n",
       "      <th>0</th>\n",
       "      <td>39</td>\n",
       "      <td>State-gov</td>\n",
       "      <td>77516</td>\n",
       "      <td>Bachelors</td>\n",
       "      <td>13</td>\n",
       "      <td>Never-married</td>\n",
       "      <td>Adm-clerical</td>\n",
       "      <td>Not-in-family</td>\n",
       "      <td>White</td>\n",
       "      <td>Male</td>\n",
       "      <td>2174</td>\n",
       "      <td>0</td>\n",
       "      <td>40</td>\n",
       "      <td>United-States</td>\n",
       "      <td>&lt;=50K</td>\n",
       "    </tr>\n",
       "    <tr>\n",
       "      <th>1</th>\n",
       "      <td>50</td>\n",
       "      <td>Self-emp-not-inc</td>\n",
       "      <td>83311</td>\n",
       "      <td>Bachelors</td>\n",
       "      <td>13</td>\n",
       "      <td>Married-civ-spouse</td>\n",
       "      <td>Exec-managerial</td>\n",
       "      <td>Husband</td>\n",
       "      <td>White</td>\n",
       "      <td>Male</td>\n",
       "      <td>0</td>\n",
       "      <td>0</td>\n",
       "      <td>13</td>\n",
       "      <td>United-States</td>\n",
       "      <td>&lt;=50K</td>\n",
       "    </tr>\n",
       "    <tr>\n",
       "      <th>2</th>\n",
       "      <td>38</td>\n",
       "      <td>Private</td>\n",
       "      <td>215646</td>\n",
       "      <td>HS-grad</td>\n",
       "      <td>9</td>\n",
       "      <td>Divorced</td>\n",
       "      <td>Handlers-cleaners</td>\n",
       "      <td>Not-in-family</td>\n",
       "      <td>White</td>\n",
       "      <td>Male</td>\n",
       "      <td>0</td>\n",
       "      <td>0</td>\n",
       "      <td>40</td>\n",
       "      <td>United-States</td>\n",
       "      <td>&lt;=50K</td>\n",
       "    </tr>\n",
       "    <tr>\n",
       "      <th>3</th>\n",
       "      <td>53</td>\n",
       "      <td>Private</td>\n",
       "      <td>234721</td>\n",
       "      <td>11th</td>\n",
       "      <td>7</td>\n",
       "      <td>Married-civ-spouse</td>\n",
       "      <td>Handlers-cleaners</td>\n",
       "      <td>Husband</td>\n",
       "      <td>Black</td>\n",
       "      <td>Male</td>\n",
       "      <td>0</td>\n",
       "      <td>0</td>\n",
       "      <td>40</td>\n",
       "      <td>United-States</td>\n",
       "      <td>&lt;=50K</td>\n",
       "    </tr>\n",
       "    <tr>\n",
       "      <th>4</th>\n",
       "      <td>28</td>\n",
       "      <td>Private</td>\n",
       "      <td>338409</td>\n",
       "      <td>Bachelors</td>\n",
       "      <td>13</td>\n",
       "      <td>Married-civ-spouse</td>\n",
       "      <td>Prof-specialty</td>\n",
       "      <td>Wife</td>\n",
       "      <td>Black</td>\n",
       "      <td>Female</td>\n",
       "      <td>0</td>\n",
       "      <td>0</td>\n",
       "      <td>40</td>\n",
       "      <td>Cuba</td>\n",
       "      <td>&lt;=50K</td>\n",
       "    </tr>\n",
       "  </tbody>\n",
       "</table>\n",
       "</div>"
      ],
      "text/plain": [
       "   age          workclass  final-weight   education  education-num  \\\n",
       "0   39          State-gov         77516   Bachelors             13   \n",
       "1   50   Self-emp-not-inc         83311   Bachelors             13   \n",
       "2   38            Private        215646     HS-grad              9   \n",
       "3   53            Private        234721        11th              7   \n",
       "4   28            Private        338409   Bachelors             13   \n",
       "\n",
       "        marital-status          occupation    relationship    race      sex  \\\n",
       "0        Never-married        Adm-clerical   Not-in-family   White     Male   \n",
       "1   Married-civ-spouse     Exec-managerial         Husband   White     Male   \n",
       "2             Divorced   Handlers-cleaners   Not-in-family   White     Male   \n",
       "3   Married-civ-spouse   Handlers-cleaners         Husband   Black     Male   \n",
       "4   Married-civ-spouse      Prof-specialty            Wife   Black   Female   \n",
       "\n",
       "   capital-gain  capital-loos  hour-per-week  native-country  income  \n",
       "0          2174             0             40   United-States   <=50K  \n",
       "1             0             0             13   United-States   <=50K  \n",
       "2             0             0             40   United-States   <=50K  \n",
       "3             0             0             40   United-States   <=50K  \n",
       "4             0             0             40            Cuba   <=50K  "
      ]
     },
     "execution_count": 117,
     "metadata": {},
     "output_type": "execute_result"
    }
   ],
   "source": [
    "data.head()"
   ]
  },
  {
   "cell_type": "code",
   "execution_count": 118,
   "metadata": {},
   "outputs": [
    {
     "data": {
      "application/vnd.microsoft.datawrangler.viewer.v0+json": {
       "columns": [
        {
         "name": "index",
         "rawType": "int64",
         "type": "integer"
        },
        {
         "name": "age",
         "rawType": "int64",
         "type": "integer"
        },
        {
         "name": "workclass",
         "rawType": "object",
         "type": "string"
        },
        {
         "name": "final-weight",
         "rawType": "int64",
         "type": "integer"
        },
        {
         "name": "education",
         "rawType": "object",
         "type": "string"
        },
        {
         "name": "education-num",
         "rawType": "int64",
         "type": "integer"
        },
        {
         "name": "marital-status",
         "rawType": "object",
         "type": "string"
        },
        {
         "name": "occupation",
         "rawType": "object",
         "type": "string"
        },
        {
         "name": "relationship",
         "rawType": "object",
         "type": "string"
        },
        {
         "name": "race",
         "rawType": "object",
         "type": "string"
        },
        {
         "name": "sex",
         "rawType": "object",
         "type": "string"
        },
        {
         "name": "capital-gain",
         "rawType": "int64",
         "type": "integer"
        },
        {
         "name": "capital-loos",
         "rawType": "int64",
         "type": "integer"
        },
        {
         "name": "hour-per-week",
         "rawType": "int64",
         "type": "integer"
        },
        {
         "name": "native-country",
         "rawType": "object",
         "type": "string"
        },
        {
         "name": "income",
         "rawType": "object",
         "type": "string"
        }
       ],
       "conversionMethod": "pd.DataFrame",
       "ref": "5660f0b0-8e3a-4958-a201-8747f67c682e",
       "rows": [
        [
         "32556",
         "27",
         " Private",
         "257302",
         " Assoc-acdm",
         "12",
         " Married-civ-spouse",
         " Tech-support",
         " Wife",
         " White",
         " Female",
         "0",
         "0",
         "38",
         " United-States",
         " <=50K"
        ],
        [
         "32557",
         "40",
         " Private",
         "154374",
         " HS-grad",
         "9",
         " Married-civ-spouse",
         " Machine-op-inspct",
         " Husband",
         " White",
         " Male",
         "0",
         "0",
         "40",
         " United-States",
         " >50K"
        ],
        [
         "32558",
         "58",
         " Private",
         "151910",
         " HS-grad",
         "9",
         " Widowed",
         " Adm-clerical",
         " Unmarried",
         " White",
         " Female",
         "0",
         "0",
         "40",
         " United-States",
         " <=50K"
        ],
        [
         "32559",
         "22",
         " Private",
         "201490",
         " HS-grad",
         "9",
         " Never-married",
         " Adm-clerical",
         " Own-child",
         " White",
         " Male",
         "0",
         "0",
         "20",
         " United-States",
         " <=50K"
        ],
        [
         "32560",
         "52",
         " Self-emp-inc",
         "287927",
         " HS-grad",
         "9",
         " Married-civ-spouse",
         " Exec-managerial",
         " Wife",
         " White",
         " Female",
         "15024",
         "0",
         "40",
         " United-States",
         " >50K"
        ]
       ],
       "shape": {
        "columns": 15,
        "rows": 5
       }
      },
      "text/html": [
       "<div>\n",
       "<style scoped>\n",
       "    .dataframe tbody tr th:only-of-type {\n",
       "        vertical-align: middle;\n",
       "    }\n",
       "\n",
       "    .dataframe tbody tr th {\n",
       "        vertical-align: top;\n",
       "    }\n",
       "\n",
       "    .dataframe thead th {\n",
       "        text-align: right;\n",
       "    }\n",
       "</style>\n",
       "<table border=\"1\" class=\"dataframe\">\n",
       "  <thead>\n",
       "    <tr style=\"text-align: right;\">\n",
       "      <th></th>\n",
       "      <th>age</th>\n",
       "      <th>workclass</th>\n",
       "      <th>final-weight</th>\n",
       "      <th>education</th>\n",
       "      <th>education-num</th>\n",
       "      <th>marital-status</th>\n",
       "      <th>occupation</th>\n",
       "      <th>relationship</th>\n",
       "      <th>race</th>\n",
       "      <th>sex</th>\n",
       "      <th>capital-gain</th>\n",
       "      <th>capital-loos</th>\n",
       "      <th>hour-per-week</th>\n",
       "      <th>native-country</th>\n",
       "      <th>income</th>\n",
       "    </tr>\n",
       "  </thead>\n",
       "  <tbody>\n",
       "    <tr>\n",
       "      <th>32556</th>\n",
       "      <td>27</td>\n",
       "      <td>Private</td>\n",
       "      <td>257302</td>\n",
       "      <td>Assoc-acdm</td>\n",
       "      <td>12</td>\n",
       "      <td>Married-civ-spouse</td>\n",
       "      <td>Tech-support</td>\n",
       "      <td>Wife</td>\n",
       "      <td>White</td>\n",
       "      <td>Female</td>\n",
       "      <td>0</td>\n",
       "      <td>0</td>\n",
       "      <td>38</td>\n",
       "      <td>United-States</td>\n",
       "      <td>&lt;=50K</td>\n",
       "    </tr>\n",
       "    <tr>\n",
       "      <th>32557</th>\n",
       "      <td>40</td>\n",
       "      <td>Private</td>\n",
       "      <td>154374</td>\n",
       "      <td>HS-grad</td>\n",
       "      <td>9</td>\n",
       "      <td>Married-civ-spouse</td>\n",
       "      <td>Machine-op-inspct</td>\n",
       "      <td>Husband</td>\n",
       "      <td>White</td>\n",
       "      <td>Male</td>\n",
       "      <td>0</td>\n",
       "      <td>0</td>\n",
       "      <td>40</td>\n",
       "      <td>United-States</td>\n",
       "      <td>&gt;50K</td>\n",
       "    </tr>\n",
       "    <tr>\n",
       "      <th>32558</th>\n",
       "      <td>58</td>\n",
       "      <td>Private</td>\n",
       "      <td>151910</td>\n",
       "      <td>HS-grad</td>\n",
       "      <td>9</td>\n",
       "      <td>Widowed</td>\n",
       "      <td>Adm-clerical</td>\n",
       "      <td>Unmarried</td>\n",
       "      <td>White</td>\n",
       "      <td>Female</td>\n",
       "      <td>0</td>\n",
       "      <td>0</td>\n",
       "      <td>40</td>\n",
       "      <td>United-States</td>\n",
       "      <td>&lt;=50K</td>\n",
       "    </tr>\n",
       "    <tr>\n",
       "      <th>32559</th>\n",
       "      <td>22</td>\n",
       "      <td>Private</td>\n",
       "      <td>201490</td>\n",
       "      <td>HS-grad</td>\n",
       "      <td>9</td>\n",
       "      <td>Never-married</td>\n",
       "      <td>Adm-clerical</td>\n",
       "      <td>Own-child</td>\n",
       "      <td>White</td>\n",
       "      <td>Male</td>\n",
       "      <td>0</td>\n",
       "      <td>0</td>\n",
       "      <td>20</td>\n",
       "      <td>United-States</td>\n",
       "      <td>&lt;=50K</td>\n",
       "    </tr>\n",
       "    <tr>\n",
       "      <th>32560</th>\n",
       "      <td>52</td>\n",
       "      <td>Self-emp-inc</td>\n",
       "      <td>287927</td>\n",
       "      <td>HS-grad</td>\n",
       "      <td>9</td>\n",
       "      <td>Married-civ-spouse</td>\n",
       "      <td>Exec-managerial</td>\n",
       "      <td>Wife</td>\n",
       "      <td>White</td>\n",
       "      <td>Female</td>\n",
       "      <td>15024</td>\n",
       "      <td>0</td>\n",
       "      <td>40</td>\n",
       "      <td>United-States</td>\n",
       "      <td>&gt;50K</td>\n",
       "    </tr>\n",
       "  </tbody>\n",
       "</table>\n",
       "</div>"
      ],
      "text/plain": [
       "       age      workclass  final-weight    education  education-num  \\\n",
       "32556   27        Private        257302   Assoc-acdm             12   \n",
       "32557   40        Private        154374      HS-grad              9   \n",
       "32558   58        Private        151910      HS-grad              9   \n",
       "32559   22        Private        201490      HS-grad              9   \n",
       "32560   52   Self-emp-inc        287927      HS-grad              9   \n",
       "\n",
       "            marital-status          occupation relationship    race      sex  \\\n",
       "32556   Married-civ-spouse        Tech-support         Wife   White   Female   \n",
       "32557   Married-civ-spouse   Machine-op-inspct      Husband   White     Male   \n",
       "32558              Widowed        Adm-clerical    Unmarried   White   Female   \n",
       "32559        Never-married        Adm-clerical    Own-child   White     Male   \n",
       "32560   Married-civ-spouse     Exec-managerial         Wife   White   Female   \n",
       "\n",
       "       capital-gain  capital-loos  hour-per-week  native-country  income  \n",
       "32556             0             0             38   United-States   <=50K  \n",
       "32557             0             0             40   United-States    >50K  \n",
       "32558             0             0             40   United-States   <=50K  \n",
       "32559             0             0             20   United-States   <=50K  \n",
       "32560         15024             0             40   United-States    >50K  "
      ]
     },
     "execution_count": 118,
     "metadata": {},
     "output_type": "execute_result"
    }
   ],
   "source": [
    "data.tail()"
   ]
  },
  {
   "cell_type": "markdown",
   "metadata": {},
   "source": [
    "# Simple Random Sampling"
   ]
  },
  {
   "cell_type": "code",
   "execution_count": 119,
   "metadata": {},
   "outputs": [
    {
     "data": {
      "text/plain": [
       "(1000, 15)"
      ]
     },
     "execution_count": 119,
     "metadata": {},
     "output_type": "execute_result"
    }
   ],
   "source": [
    "df_sample = data.sample(n=1000, replace=False)\n",
    "\n",
    "df_sample.shape"
   ]
  },
  {
   "cell_type": "code",
   "execution_count": 120,
   "metadata": {},
   "outputs": [
    {
     "data": {
      "text/plain": [
       "(1000, 15)"
      ]
     },
     "execution_count": 120,
     "metadata": {},
     "output_type": "execute_result"
    }
   ],
   "source": [
    "def get_random_sample(data, n):\n",
    "    return data.sample(n=n, replace=False)\n",
    "\n",
    "\n",
    "df_sample = get_random_sample(data, 1000)\n",
    "\n",
    "df_sample.shape"
   ]
  },
  {
   "cell_type": "markdown",
   "metadata": {},
   "source": [
    "# Systematic Sampling"
   ]
  },
  {
   "cell_type": "code",
   "execution_count": 121,
   "metadata": {},
   "outputs": [
    {
     "data": {
      "text/plain": [
       "(32561, 15)"
      ]
     },
     "execution_count": 121,
     "metadata": {},
     "output_type": "execute_result"
    }
   ],
   "source": [
    "data.shape"
   ]
  },
  {
   "cell_type": "code",
   "execution_count": 122,
   "metadata": {},
   "outputs": [
    {
     "data": {
      "text/plain": [
       "163"
      ]
     },
     "execution_count": 122,
     "metadata": {},
     "output_type": "execute_result"
    }
   ],
   "source": [
    "random.randint(0, len(data) // 100)"
   ]
  },
  {
   "cell_type": "code",
   "execution_count": 123,
   "metadata": {},
   "outputs": [
    {
     "data": {
      "text/plain": [
       "array([  305,   630,   955,  1280,  1605,  1930,  2255,  2580,  2905,\n",
       "        3230,  3555,  3880,  4205,  4530,  4855,  5180,  5505,  5830,\n",
       "        6155,  6480,  6805,  7130,  7455,  7780,  8105,  8430,  8755,\n",
       "        9080,  9405,  9730, 10055, 10380, 10705, 11030, 11355, 11680,\n",
       "       12005, 12330, 12655, 12980, 13305, 13630, 13955, 14280, 14605,\n",
       "       14930, 15255, 15580, 15905, 16230, 16555, 16880, 17205, 17530,\n",
       "       17855, 18180, 18505, 18830, 19155, 19480, 19805, 20130, 20455,\n",
       "       20780, 21105, 21430, 21755, 22080, 22405, 22730, 23055, 23380,\n",
       "       23705, 24030, 24355, 24680, 25005, 25330, 25655, 25980, 26305,\n",
       "       26630, 26955, 27280, 27605, 27930, 28255, 28580, 28905, 29230,\n",
       "       29555, 29880, 30205, 30530, 30855, 31180, 31505, 31830, 32155,\n",
       "       32480])"
      ]
     },
     "execution_count": 123,
     "metadata": {},
     "output_type": "execute_result"
    }
   ],
   "source": [
    "np.arange(random.randint(0, len(data) // 100), len(data), len(data) // 100)"
   ]
  },
  {
   "cell_type": "code",
   "execution_count": 124,
   "metadata": {},
   "outputs": [
    {
     "data": {
      "application/vnd.microsoft.datawrangler.viewer.v0+json": {
       "columns": [
        {
         "name": "index",
         "rawType": "int64",
         "type": "integer"
        },
        {
         "name": "age",
         "rawType": "int64",
         "type": "integer"
        },
        {
         "name": "workclass",
         "rawType": "object",
         "type": "string"
        },
        {
         "name": "final-weight",
         "rawType": "int64",
         "type": "integer"
        },
        {
         "name": "education",
         "rawType": "object",
         "type": "string"
        },
        {
         "name": "education-num",
         "rawType": "int64",
         "type": "integer"
        },
        {
         "name": "marital-status",
         "rawType": "object",
         "type": "string"
        },
        {
         "name": "occupation",
         "rawType": "object",
         "type": "string"
        },
        {
         "name": "relationship",
         "rawType": "object",
         "type": "string"
        },
        {
         "name": "race",
         "rawType": "object",
         "type": "string"
        },
        {
         "name": "sex",
         "rawType": "object",
         "type": "string"
        },
        {
         "name": "capital-gain",
         "rawType": "int64",
         "type": "integer"
        },
        {
         "name": "capital-loos",
         "rawType": "int64",
         "type": "integer"
        },
        {
         "name": "hour-per-week",
         "rawType": "int64",
         "type": "integer"
        },
        {
         "name": "native-country",
         "rawType": "object",
         "type": "string"
        },
        {
         "name": "income",
         "rawType": "object",
         "type": "string"
        }
       ],
       "conversionMethod": "pd.DataFrame",
       "ref": "a741cd5f-211d-467c-be13-c52d61bd2552",
       "rows": [
        [
         "10",
         "37",
         " Private",
         "280464",
         " Some-college",
         "10",
         " Married-civ-spouse",
         " Exec-managerial",
         " Husband",
         " Black",
         " Male",
         "0",
         "0",
         "80",
         " United-States",
         " >50K"
        ],
        [
         "335",
         "17",
         " Private",
         "270942",
         " 5th-6th",
         "3",
         " Never-married",
         " Other-service",
         " Other-relative",
         " White",
         " Male",
         "0",
         "0",
         "48",
         " Mexico",
         " <=50K"
        ],
        [
         "660",
         "44",
         " Self-emp-not-inc",
         "335183",
         " 12th",
         "8",
         " Married-civ-spouse",
         " Handlers-cleaners",
         " Husband",
         " Black",
         " Male",
         "0",
         "0",
         "40",
         " United-States",
         " >50K"
        ],
        [
         "985",
         "63",
         " Private",
         "254907",
         " Assoc-voc",
         "11",
         " Divorced",
         " Other-service",
         " Not-in-family",
         " White",
         " Female",
         "0",
         "0",
         "20",
         " United-States",
         " <=50K"
        ],
        [
         "1310",
         "45",
         " Federal-gov",
         "283037",
         " Bachelors",
         "13",
         " Married-civ-spouse",
         " Exec-managerial",
         " Husband",
         " White",
         " Male",
         "0",
         "0",
         "40",
         " United-States",
         " <=50K"
        ],
        [
         "1635",
         "57",
         " Private",
         "175942",
         " Some-college",
         "10",
         " Married-civ-spouse",
         " Exec-managerial",
         " Husband",
         " White",
         " Male",
         "0",
         "0",
         "50",
         " United-States",
         " >50K"
        ],
        [
         "1960",
         "32",
         " Private",
         "242150",
         " HS-grad",
         "9",
         " Never-married",
         " Adm-clerical",
         " Own-child",
         " White",
         " Male",
         "0",
         "0",
         "38",
         " United-States",
         " <=50K"
        ],
        [
         "2285",
         "23",
         " Private",
         "87528",
         " Bachelors",
         "13",
         " Never-married",
         " Sales",
         " Not-in-family",
         " White",
         " Female",
         "0",
         "0",
         "45",
         " United-States",
         " <=50K"
        ],
        [
         "2610",
         "18",
         " Private",
         "40829",
         " 11th",
         "7",
         " Never-married",
         " Sales",
         " Other-relative",
         " Amer-Indian-Eskimo",
         " Female",
         "0",
         "0",
         "25",
         " United-States",
         " <=50K"
        ],
        [
         "2935",
         "50",
         " Local-gov",
         "177705",
         " Some-college",
         "10",
         " Married-civ-spouse",
         " Adm-clerical",
         " Husband",
         " White",
         " Male",
         "0",
         "1740",
         "48",
         " United-States",
         " <=50K"
        ],
        [
         "3260",
         "34",
         " Private",
         "223212",
         " Bachelors",
         "13",
         " Married-civ-spouse",
         " Prof-specialty",
         " Husband",
         " White",
         " Male",
         "0",
         "1848",
         "40",
         " Peru",
         " >50K"
        ],
        [
         "3585",
         "25",
         " Self-emp-not-inc",
         "209384",
         " HS-grad",
         "9",
         " Never-married",
         " Other-service",
         " Other-relative",
         " White",
         " Male",
         "0",
         "0",
         "32",
         " United-States",
         " <=50K"
        ],
        [
         "3910",
         "48",
         " Private",
         "185039",
         " HS-grad",
         "9",
         " Divorced",
         " Sales",
         " Unmarried",
         " White",
         " Female",
         "0",
         "0",
         "30",
         " United-States",
         " <=50K"
        ],
        [
         "4235",
         "26",
         " State-gov",
         "28366",
         " Bachelors",
         "13",
         " Never-married",
         " Prof-specialty",
         " Not-in-family",
         " White",
         " Male",
         "0",
         "0",
         "40",
         " United-States",
         " <=50K"
        ],
        [
         "4560",
         "24",
         " Private",
         "403671",
         " Some-college",
         "10",
         " Never-married",
         " Machine-op-inspct",
         " Not-in-family",
         " White",
         " Male",
         "0",
         "0",
         "40",
         " United-States",
         " <=50K"
        ],
        [
         "4885",
         "45",
         " Self-emp-inc",
         "142719",
         " Bachelors",
         "13",
         " Married-civ-spouse",
         " Exec-managerial",
         " Husband",
         " White",
         " Male",
         "0",
         "0",
         "40",
         " United-States",
         " >50K"
        ],
        [
         "5210",
         "24",
         " Private",
         "349691",
         " Some-college",
         "10",
         " Never-married",
         " Sales",
         " Other-relative",
         " Black",
         " Female",
         "0",
         "0",
         "40",
         " United-States",
         " <=50K"
        ],
        [
         "5535",
         "25",
         " Private",
         "49092",
         " Bachelors",
         "13",
         " Never-married",
         " Other-service",
         " Own-child",
         " White",
         " Male",
         "0",
         "0",
         "40",
         " United-States",
         " <=50K"
        ],
        [
         "5860",
         "27",
         " Private",
         "101364",
         " HS-grad",
         "9",
         " Married-civ-spouse",
         " Handlers-cleaners",
         " Husband",
         " White",
         " Male",
         "0",
         "0",
         "40",
         " Mexico",
         " <=50K"
        ],
        [
         "6185",
         "33",
         " Private",
         "176711",
         " Assoc-acdm",
         "12",
         " Never-married",
         " Adm-clerical",
         " Not-in-family",
         " White",
         " Male",
         "0",
         "0",
         "50",
         " United-States",
         " <=50K"
        ],
        [
         "6510",
         "66",
         " ?",
         "168071",
         " HS-grad",
         "9",
         " Married-civ-spouse",
         " ?",
         " Husband",
         " White",
         " Male",
         "0",
         "0",
         "30",
         " United-States",
         " <=50K"
        ],
        [
         "6835",
         "39",
         " Local-gov",
         "178100",
         " Masters",
         "14",
         " Divorced",
         " Prof-specialty",
         " Unmarried",
         " White",
         " Female",
         "0",
         "0",
         "40",
         " United-States",
         " <=50K"
        ],
        [
         "7160",
         "52",
         " Private",
         "174421",
         " Assoc-acdm",
         "12",
         " Divorced",
         " Prof-specialty",
         " Unmarried",
         " White",
         " Female",
         "0",
         "0",
         "32",
         " United-States",
         " <=50K"
        ],
        [
         "7485",
         "43",
         " Private",
         "208277",
         " Masters",
         "14",
         " Married-civ-spouse",
         " Prof-specialty",
         " Wife",
         " White",
         " Female",
         "0",
         "0",
         "45",
         " United-States",
         " >50K"
        ],
        [
         "7810",
         "27",
         " Self-emp-not-inc",
         "334132",
         " Assoc-acdm",
         "12",
         " Never-married",
         " Prof-specialty",
         " Not-in-family",
         " White",
         " Female",
         "0",
         "0",
         "78",
         " United-States",
         " <=50K"
        ],
        [
         "8135",
         "23",
         " Private",
         "82998",
         " Some-college",
         "10",
         " Never-married",
         " Sales",
         " Not-in-family",
         " White",
         " Male",
         "0",
         "0",
         "30",
         " United-States",
         " <=50K"
        ],
        [
         "8460",
         "29",
         " Private",
         "393264",
         " Bachelors",
         "13",
         " Never-married",
         " Prof-specialty",
         " Not-in-family",
         " White",
         " Male",
         "0",
         "0",
         "40",
         " United-States",
         " <=50K"
        ],
        [
         "8785",
         "24",
         " Private",
         "32732",
         " HS-grad",
         "9",
         " Married-civ-spouse",
         " Craft-repair",
         " Husband",
         " White",
         " Male",
         "0",
         "0",
         "50",
         " United-States",
         " <=50K"
        ],
        [
         "9110",
         "49",
         " Private",
         "99179",
         " Bachelors",
         "13",
         " Never-married",
         " Prof-specialty",
         " Not-in-family",
         " White",
         " Female",
         "0",
         "0",
         "40",
         " United-States",
         " <=50K"
        ],
        [
         "9435",
         "45",
         " Private",
         "179428",
         " Some-college",
         "10",
         " Married-civ-spouse",
         " Transport-moving",
         " Husband",
         " White",
         " Male",
         "0",
         "0",
         "55",
         " United-States",
         " <=50K"
        ],
        [
         "9760",
         "30",
         " Private",
         "235124",
         " HS-grad",
         "9",
         " Married-civ-spouse",
         " Transport-moving",
         " Husband",
         " White",
         " Male",
         "99999",
         "0",
         "40",
         " United-States",
         " >50K"
        ],
        [
         "10085",
         "21",
         " Private",
         "164920",
         " Some-college",
         "10",
         " Never-married",
         " Other-service",
         " Own-child",
         " White",
         " Female",
         "0",
         "0",
         "40",
         " United-States",
         " <=50K"
        ],
        [
         "10410",
         "28",
         " Self-emp-not-inc",
         "211032",
         " 11th",
         "7",
         " Never-married",
         " Craft-repair",
         " Not-in-family",
         " White",
         " Male",
         "0",
         "0",
         "40",
         " Mexico",
         " <=50K"
        ],
        [
         "10735",
         "30",
         " Private",
         "173350",
         " Assoc-voc",
         "11",
         " Married-spouse-absent",
         " Adm-clerical",
         " Not-in-family",
         " White",
         " Female",
         "0",
         "0",
         "40",
         " United-States",
         " <=50K"
        ],
        [
         "11060",
         "58",
         " Local-gov",
         "368797",
         " Masters",
         "14",
         " Widowed",
         " Prof-specialty",
         " Unmarried",
         " White",
         " Male",
         "0",
         "0",
         "35",
         " United-States",
         " >50K"
        ],
        [
         "11385",
         "39",
         " Private",
         "56269",
         " Some-college",
         "10",
         " Never-married",
         " Craft-repair",
         " Own-child",
         " Black",
         " Male",
         "0",
         "0",
         "40",
         " United-States",
         " <=50K"
        ],
        [
         "11710",
         "47",
         " Self-emp-not-inc",
         "84735",
         " Masters",
         "14",
         " Married-civ-spouse",
         " Prof-specialty",
         " Wife",
         " White",
         " Female",
         "0",
         "0",
         "20",
         " United-States",
         " >50K"
        ],
        [
         "12035",
         "65",
         " Self-emp-not-inc",
         "22907",
         " 7th-8th",
         "4",
         " Married-civ-spouse",
         " Farming-fishing",
         " Husband",
         " White",
         " Male",
         "0",
         "0",
         "40",
         " United-States",
         " <=50K"
        ],
        [
         "12360",
         "64",
         " Private",
         "187601",
         " Some-college",
         "10",
         " Widowed",
         " Adm-clerical",
         " Not-in-family",
         " White",
         " Female",
         "0",
         "0",
         "40",
         " United-States",
         " <=50K"
        ],
        [
         "12685",
         "61",
         " Self-emp-not-inc",
         "176965",
         " Prof-school",
         "15",
         " Married-civ-spouse",
         " Prof-specialty",
         " Husband",
         " White",
         " Male",
         "0",
         "0",
         "50",
         " United-States",
         " >50K"
        ],
        [
         "13010",
         "39",
         " Self-emp-inc",
         "202937",
         " Masters",
         "14",
         " Married-civ-spouse",
         " Prof-specialty",
         " Wife",
         " White",
         " Female",
         "0",
         "0",
         "40",
         " United-States",
         " >50K"
        ],
        [
         "13335",
         "38",
         " Private",
         "76878",
         " 11th",
         "7",
         " Married-civ-spouse",
         " Craft-repair",
         " Husband",
         " White",
         " Male",
         "5178",
         "0",
         "40",
         " United-States",
         " >50K"
        ],
        [
         "13660",
         "46",
         " Private",
         "326857",
         " Masters",
         "14",
         " Married-civ-spouse",
         " Sales",
         " Husband",
         " White",
         " Male",
         "0",
         "2415",
         "65",
         " United-States",
         " >50K"
        ],
        [
         "13985",
         "44",
         " Private",
         "134120",
         " HS-grad",
         "9",
         " Married-civ-spouse",
         " Adm-clerical",
         " Wife",
         " White",
         " Female",
         "0",
         "0",
         "40",
         " United-States",
         " >50K"
        ],
        [
         "14310",
         "30",
         " Private",
         "261677",
         " 9th",
         "5",
         " Never-married",
         " Handlers-cleaners",
         " Unmarried",
         " Black",
         " Male",
         "0",
         "0",
         "40",
         " United-States",
         " <=50K"
        ],
        [
         "14635",
         "27",
         " State-gov",
         "280618",
         " Masters",
         "14",
         " Never-married",
         " Prof-specialty",
         " Not-in-family",
         " White",
         " Male",
         "0",
         "0",
         "40",
         " United-States",
         " <=50K"
        ],
        [
         "14960",
         "33",
         " State-gov",
         "400943",
         " Masters",
         "14",
         " Married-civ-spouse",
         " Prof-specialty",
         " Husband",
         " White",
         " Male",
         "0",
         "0",
         "50",
         " United-States",
         " >50K"
        ],
        [
         "15285",
         "55",
         " Private",
         "271710",
         " Some-college",
         "10",
         " Never-married",
         " Adm-clerical",
         " Not-in-family",
         " White",
         " Male",
         "0",
         "0",
         "45",
         " United-States",
         " <=50K"
        ],
        [
         "15610",
         "32",
         " Private",
         "203674",
         " Assoc-acdm",
         "12",
         " Divorced",
         " Prof-specialty",
         " Unmarried",
         " White",
         " Female",
         "0",
         "880",
         "36",
         " United-States",
         " <=50K"
        ],
        [
         "15935",
         "35",
         " Private",
         "115214",
         " HS-grad",
         "9",
         " Never-married",
         " Machine-op-inspct",
         " Unmarried",
         " White",
         " Male",
         "6497",
         "0",
         "65",
         " United-States",
         " <=50K"
        ]
       ],
       "shape": {
        "columns": 15,
        "rows": 101
       }
      },
      "text/html": [
       "<div>\n",
       "<style scoped>\n",
       "    .dataframe tbody tr th:only-of-type {\n",
       "        vertical-align: middle;\n",
       "    }\n",
       "\n",
       "    .dataframe tbody tr th {\n",
       "        vertical-align: top;\n",
       "    }\n",
       "\n",
       "    .dataframe thead th {\n",
       "        text-align: right;\n",
       "    }\n",
       "</style>\n",
       "<table border=\"1\" class=\"dataframe\">\n",
       "  <thead>\n",
       "    <tr style=\"text-align: right;\">\n",
       "      <th></th>\n",
       "      <th>age</th>\n",
       "      <th>workclass</th>\n",
       "      <th>final-weight</th>\n",
       "      <th>education</th>\n",
       "      <th>education-num</th>\n",
       "      <th>marital-status</th>\n",
       "      <th>occupation</th>\n",
       "      <th>relationship</th>\n",
       "      <th>race</th>\n",
       "      <th>sex</th>\n",
       "      <th>capital-gain</th>\n",
       "      <th>capital-loos</th>\n",
       "      <th>hour-per-week</th>\n",
       "      <th>native-country</th>\n",
       "      <th>income</th>\n",
       "    </tr>\n",
       "  </thead>\n",
       "  <tbody>\n",
       "    <tr>\n",
       "      <th>10</th>\n",
       "      <td>37</td>\n",
       "      <td>Private</td>\n",
       "      <td>280464</td>\n",
       "      <td>Some-college</td>\n",
       "      <td>10</td>\n",
       "      <td>Married-civ-spouse</td>\n",
       "      <td>Exec-managerial</td>\n",
       "      <td>Husband</td>\n",
       "      <td>Black</td>\n",
       "      <td>Male</td>\n",
       "      <td>0</td>\n",
       "      <td>0</td>\n",
       "      <td>80</td>\n",
       "      <td>United-States</td>\n",
       "      <td>&gt;50K</td>\n",
       "    </tr>\n",
       "    <tr>\n",
       "      <th>335</th>\n",
       "      <td>17</td>\n",
       "      <td>Private</td>\n",
       "      <td>270942</td>\n",
       "      <td>5th-6th</td>\n",
       "      <td>3</td>\n",
       "      <td>Never-married</td>\n",
       "      <td>Other-service</td>\n",
       "      <td>Other-relative</td>\n",
       "      <td>White</td>\n",
       "      <td>Male</td>\n",
       "      <td>0</td>\n",
       "      <td>0</td>\n",
       "      <td>48</td>\n",
       "      <td>Mexico</td>\n",
       "      <td>&lt;=50K</td>\n",
       "    </tr>\n",
       "    <tr>\n",
       "      <th>660</th>\n",
       "      <td>44</td>\n",
       "      <td>Self-emp-not-inc</td>\n",
       "      <td>335183</td>\n",
       "      <td>12th</td>\n",
       "      <td>8</td>\n",
       "      <td>Married-civ-spouse</td>\n",
       "      <td>Handlers-cleaners</td>\n",
       "      <td>Husband</td>\n",
       "      <td>Black</td>\n",
       "      <td>Male</td>\n",
       "      <td>0</td>\n",
       "      <td>0</td>\n",
       "      <td>40</td>\n",
       "      <td>United-States</td>\n",
       "      <td>&gt;50K</td>\n",
       "    </tr>\n",
       "    <tr>\n",
       "      <th>985</th>\n",
       "      <td>63</td>\n",
       "      <td>Private</td>\n",
       "      <td>254907</td>\n",
       "      <td>Assoc-voc</td>\n",
       "      <td>11</td>\n",
       "      <td>Divorced</td>\n",
       "      <td>Other-service</td>\n",
       "      <td>Not-in-family</td>\n",
       "      <td>White</td>\n",
       "      <td>Female</td>\n",
       "      <td>0</td>\n",
       "      <td>0</td>\n",
       "      <td>20</td>\n",
       "      <td>United-States</td>\n",
       "      <td>&lt;=50K</td>\n",
       "    </tr>\n",
       "    <tr>\n",
       "      <th>1310</th>\n",
       "      <td>45</td>\n",
       "      <td>Federal-gov</td>\n",
       "      <td>283037</td>\n",
       "      <td>Bachelors</td>\n",
       "      <td>13</td>\n",
       "      <td>Married-civ-spouse</td>\n",
       "      <td>Exec-managerial</td>\n",
       "      <td>Husband</td>\n",
       "      <td>White</td>\n",
       "      <td>Male</td>\n",
       "      <td>0</td>\n",
       "      <td>0</td>\n",
       "      <td>40</td>\n",
       "      <td>United-States</td>\n",
       "      <td>&lt;=50K</td>\n",
       "    </tr>\n",
       "    <tr>\n",
       "      <th>...</th>\n",
       "      <td>...</td>\n",
       "      <td>...</td>\n",
       "      <td>...</td>\n",
       "      <td>...</td>\n",
       "      <td>...</td>\n",
       "      <td>...</td>\n",
       "      <td>...</td>\n",
       "      <td>...</td>\n",
       "      <td>...</td>\n",
       "      <td>...</td>\n",
       "      <td>...</td>\n",
       "      <td>...</td>\n",
       "      <td>...</td>\n",
       "      <td>...</td>\n",
       "      <td>...</td>\n",
       "    </tr>\n",
       "    <tr>\n",
       "      <th>31210</th>\n",
       "      <td>35</td>\n",
       "      <td>Private</td>\n",
       "      <td>175232</td>\n",
       "      <td>HS-grad</td>\n",
       "      <td>9</td>\n",
       "      <td>Divorced</td>\n",
       "      <td>Handlers-cleaners</td>\n",
       "      <td>Other-relative</td>\n",
       "      <td>White</td>\n",
       "      <td>Male</td>\n",
       "      <td>0</td>\n",
       "      <td>0</td>\n",
       "      <td>40</td>\n",
       "      <td>United-States</td>\n",
       "      <td>&lt;=50K</td>\n",
       "    </tr>\n",
       "    <tr>\n",
       "      <th>31535</th>\n",
       "      <td>51</td>\n",
       "      <td>Self-emp-not-inc</td>\n",
       "      <td>291755</td>\n",
       "      <td>7th-8th</td>\n",
       "      <td>4</td>\n",
       "      <td>Married-civ-spouse</td>\n",
       "      <td>Exec-managerial</td>\n",
       "      <td>Husband</td>\n",
       "      <td>White</td>\n",
       "      <td>Male</td>\n",
       "      <td>0</td>\n",
       "      <td>0</td>\n",
       "      <td>42</td>\n",
       "      <td>United-States</td>\n",
       "      <td>&lt;=50K</td>\n",
       "    </tr>\n",
       "    <tr>\n",
       "      <th>31860</th>\n",
       "      <td>21</td>\n",
       "      <td>Private</td>\n",
       "      <td>224640</td>\n",
       "      <td>Some-college</td>\n",
       "      <td>10</td>\n",
       "      <td>Never-married</td>\n",
       "      <td>Sales</td>\n",
       "      <td>Own-child</td>\n",
       "      <td>White</td>\n",
       "      <td>Female</td>\n",
       "      <td>0</td>\n",
       "      <td>0</td>\n",
       "      <td>40</td>\n",
       "      <td>United-States</td>\n",
       "      <td>&lt;=50K</td>\n",
       "    </tr>\n",
       "    <tr>\n",
       "      <th>32185</th>\n",
       "      <td>52</td>\n",
       "      <td>Self-emp-not-inc</td>\n",
       "      <td>185407</td>\n",
       "      <td>Bachelors</td>\n",
       "      <td>13</td>\n",
       "      <td>Married-civ-spouse</td>\n",
       "      <td>Exec-managerial</td>\n",
       "      <td>Husband</td>\n",
       "      <td>White</td>\n",
       "      <td>Male</td>\n",
       "      <td>0</td>\n",
       "      <td>0</td>\n",
       "      <td>50</td>\n",
       "      <td>United-States</td>\n",
       "      <td>&gt;50K</td>\n",
       "    </tr>\n",
       "    <tr>\n",
       "      <th>32510</th>\n",
       "      <td>39</td>\n",
       "      <td>Private</td>\n",
       "      <td>107302</td>\n",
       "      <td>HS-grad</td>\n",
       "      <td>9</td>\n",
       "      <td>Married-civ-spouse</td>\n",
       "      <td>Prof-specialty</td>\n",
       "      <td>Husband</td>\n",
       "      <td>White</td>\n",
       "      <td>Male</td>\n",
       "      <td>0</td>\n",
       "      <td>0</td>\n",
       "      <td>45</td>\n",
       "      <td>?</td>\n",
       "      <td>&gt;50K</td>\n",
       "    </tr>\n",
       "  </tbody>\n",
       "</table>\n",
       "<p>101 rows × 15 columns</p>\n",
       "</div>"
      ],
      "text/plain": [
       "       age          workclass  final-weight      education  education-num  \\\n",
       "10      37            Private        280464   Some-college             10   \n",
       "335     17            Private        270942        5th-6th              3   \n",
       "660     44   Self-emp-not-inc        335183           12th              8   \n",
       "985     63            Private        254907      Assoc-voc             11   \n",
       "1310    45        Federal-gov        283037      Bachelors             13   \n",
       "...    ...                ...           ...            ...            ...   \n",
       "31210   35            Private        175232        HS-grad              9   \n",
       "31535   51   Self-emp-not-inc        291755        7th-8th              4   \n",
       "31860   21            Private        224640   Some-college             10   \n",
       "32185   52   Self-emp-not-inc        185407      Bachelors             13   \n",
       "32510   39            Private        107302        HS-grad              9   \n",
       "\n",
       "            marital-status          occupation     relationship    race  \\\n",
       "10      Married-civ-spouse     Exec-managerial          Husband   Black   \n",
       "335          Never-married       Other-service   Other-relative   White   \n",
       "660     Married-civ-spouse   Handlers-cleaners          Husband   Black   \n",
       "985               Divorced       Other-service    Not-in-family   White   \n",
       "1310    Married-civ-spouse     Exec-managerial          Husband   White   \n",
       "...                    ...                 ...              ...     ...   \n",
       "31210             Divorced   Handlers-cleaners   Other-relative   White   \n",
       "31535   Married-civ-spouse     Exec-managerial          Husband   White   \n",
       "31860        Never-married               Sales        Own-child   White   \n",
       "32185   Married-civ-spouse     Exec-managerial          Husband   White   \n",
       "32510   Married-civ-spouse      Prof-specialty          Husband   White   \n",
       "\n",
       "           sex  capital-gain  capital-loos  hour-per-week  native-country  \\\n",
       "10        Male             0             0             80   United-States   \n",
       "335       Male             0             0             48          Mexico   \n",
       "660       Male             0             0             40   United-States   \n",
       "985     Female             0             0             20   United-States   \n",
       "1310      Male             0             0             40   United-States   \n",
       "...        ...           ...           ...            ...             ...   \n",
       "31210     Male             0             0             40   United-States   \n",
       "31535     Male             0             0             42   United-States   \n",
       "31860   Female             0             0             40   United-States   \n",
       "32185     Male             0             0             50   United-States   \n",
       "32510     Male             0             0             45               ?   \n",
       "\n",
       "       income  \n",
       "10       >50K  \n",
       "335     <=50K  \n",
       "660      >50K  \n",
       "985     <=50K  \n",
       "1310    <=50K  \n",
       "...       ...  \n",
       "31210   <=50K  \n",
       "31535   <=50K  \n",
       "31860   <=50K  \n",
       "32185    >50K  \n",
       "32510    >50K  \n",
       "\n",
       "[101 rows x 15 columns]"
      ]
     },
     "execution_count": 124,
     "metadata": {},
     "output_type": "execute_result"
    }
   ],
   "source": [
    "def systematic_sample(data, n=100):\n",
    "    indices = np.arange(random.randint(0, len(data) // n), len(data), len(data) // 100)\n",
    "    return data.iloc[indices]\n",
    "\n",
    "\n",
    "df_sample = systematic_sample(data)\n",
    "\n",
    "df_sample"
   ]
  },
  {
   "cell_type": "markdown",
   "metadata": {},
   "source": [
    "# Cluster Sampling"
   ]
  },
  {
   "cell_type": "code",
   "execution_count": 125,
   "metadata": {},
   "outputs": [
    {
     "data": {
      "text/plain": [
       "(array([0, 1, 2, 3, 4, 5, 6, 7, 8, 9]),\n",
       " array([3257, 3257, 3257, 3257, 3257, 3257, 3257, 3257, 3257, 3248]))"
      ]
     },
     "execution_count": 125,
     "metadata": {},
     "output_type": "execute_result"
    }
   ],
   "source": [
    "groupSize = len(data) // 10\n",
    "\n",
    "groups = []\n",
    "groupId = 0\n",
    "counter = 0\n",
    "\n",
    "for _ in range(len(data)):\n",
    "    groups.append(groupId)\n",
    "    counter += 1\n",
    "    if counter > groupSize:\n",
    "        counter = 0\n",
    "        groupId += 1\n",
    "\n",
    "\n",
    "np.unique(groups, return_counts=True)"
   ]
  },
  {
   "cell_type": "code",
   "execution_count": 126,
   "metadata": {},
   "outputs": [
    {
     "data": {
      "text/plain": [
       "((32561,), (32561, 15))"
      ]
     },
     "execution_count": 126,
     "metadata": {},
     "output_type": "execute_result"
    }
   ],
   "source": [
    "np.shape(groups), data.shape"
   ]
  },
  {
   "cell_type": "code",
   "execution_count": 127,
   "metadata": {},
   "outputs": [
    {
     "data": {
      "application/vnd.microsoft.datawrangler.viewer.v0+json": {
       "columns": [
        {
         "name": "index",
         "rawType": "int64",
         "type": "integer"
        },
        {
         "name": "age",
         "rawType": "int64",
         "type": "integer"
        },
        {
         "name": "workclass",
         "rawType": "object",
         "type": "string"
        },
        {
         "name": "final-weight",
         "rawType": "int64",
         "type": "integer"
        },
        {
         "name": "education",
         "rawType": "object",
         "type": "string"
        },
        {
         "name": "education-num",
         "rawType": "int64",
         "type": "integer"
        },
        {
         "name": "marital-status",
         "rawType": "object",
         "type": "string"
        },
        {
         "name": "occupation",
         "rawType": "object",
         "type": "string"
        },
        {
         "name": "relationship",
         "rawType": "object",
         "type": "string"
        },
        {
         "name": "race",
         "rawType": "object",
         "type": "string"
        },
        {
         "name": "sex",
         "rawType": "object",
         "type": "string"
        },
        {
         "name": "capital-gain",
         "rawType": "int64",
         "type": "integer"
        },
        {
         "name": "capital-loos",
         "rawType": "int64",
         "type": "integer"
        },
        {
         "name": "hour-per-week",
         "rawType": "int64",
         "type": "integer"
        },
        {
         "name": "native-country",
         "rawType": "object",
         "type": "string"
        },
        {
         "name": "income",
         "rawType": "object",
         "type": "string"
        },
        {
         "name": "group",
         "rawType": "int64",
         "type": "integer"
        }
       ],
       "conversionMethod": "pd.DataFrame",
       "ref": "1db0a43f-b545-4d52-9cd2-21b148d5c8df",
       "rows": [
        [
         "0",
         "39",
         " State-gov",
         "77516",
         " Bachelors",
         "13",
         " Never-married",
         " Adm-clerical",
         " Not-in-family",
         " White",
         " Male",
         "2174",
         "0",
         "40",
         " United-States",
         " <=50K",
         "0"
        ],
        [
         "1",
         "50",
         " Self-emp-not-inc",
         "83311",
         " Bachelors",
         "13",
         " Married-civ-spouse",
         " Exec-managerial",
         " Husband",
         " White",
         " Male",
         "0",
         "0",
         "13",
         " United-States",
         " <=50K",
         "0"
        ],
        [
         "2",
         "38",
         " Private",
         "215646",
         " HS-grad",
         "9",
         " Divorced",
         " Handlers-cleaners",
         " Not-in-family",
         " White",
         " Male",
         "0",
         "0",
         "40",
         " United-States",
         " <=50K",
         "0"
        ],
        [
         "3",
         "53",
         " Private",
         "234721",
         " 11th",
         "7",
         " Married-civ-spouse",
         " Handlers-cleaners",
         " Husband",
         " Black",
         " Male",
         "0",
         "0",
         "40",
         " United-States",
         " <=50K",
         "0"
        ],
        [
         "4",
         "28",
         " Private",
         "338409",
         " Bachelors",
         "13",
         " Married-civ-spouse",
         " Prof-specialty",
         " Wife",
         " Black",
         " Female",
         "0",
         "0",
         "40",
         " Cuba",
         " <=50K",
         "0"
        ],
        [
         "5",
         "37",
         " Private",
         "284582",
         " Masters",
         "14",
         " Married-civ-spouse",
         " Exec-managerial",
         " Wife",
         " White",
         " Female",
         "0",
         "0",
         "40",
         " United-States",
         " <=50K",
         "0"
        ],
        [
         "6",
         "49",
         " Private",
         "160187",
         " 9th",
         "5",
         " Married-spouse-absent",
         " Other-service",
         " Not-in-family",
         " Black",
         " Female",
         "0",
         "0",
         "16",
         " Jamaica",
         " <=50K",
         "0"
        ],
        [
         "7",
         "52",
         " Self-emp-not-inc",
         "209642",
         " HS-grad",
         "9",
         " Married-civ-spouse",
         " Exec-managerial",
         " Husband",
         " White",
         " Male",
         "0",
         "0",
         "45",
         " United-States",
         " >50K",
         "0"
        ],
        [
         "8",
         "31",
         " Private",
         "45781",
         " Masters",
         "14",
         " Never-married",
         " Prof-specialty",
         " Not-in-family",
         " White",
         " Female",
         "14084",
         "0",
         "50",
         " United-States",
         " >50K",
         "0"
        ],
        [
         "9",
         "42",
         " Private",
         "159449",
         " Bachelors",
         "13",
         " Married-civ-spouse",
         " Exec-managerial",
         " Husband",
         " White",
         " Male",
         "5178",
         "0",
         "40",
         " United-States",
         " >50K",
         "0"
        ]
       ],
       "shape": {
        "columns": 16,
        "rows": 10
       }
      },
      "text/html": [
       "<div>\n",
       "<style scoped>\n",
       "    .dataframe tbody tr th:only-of-type {\n",
       "        vertical-align: middle;\n",
       "    }\n",
       "\n",
       "    .dataframe tbody tr th {\n",
       "        vertical-align: top;\n",
       "    }\n",
       "\n",
       "    .dataframe thead th {\n",
       "        text-align: right;\n",
       "    }\n",
       "</style>\n",
       "<table border=\"1\" class=\"dataframe\">\n",
       "  <thead>\n",
       "    <tr style=\"text-align: right;\">\n",
       "      <th></th>\n",
       "      <th>age</th>\n",
       "      <th>workclass</th>\n",
       "      <th>final-weight</th>\n",
       "      <th>education</th>\n",
       "      <th>education-num</th>\n",
       "      <th>marital-status</th>\n",
       "      <th>occupation</th>\n",
       "      <th>relationship</th>\n",
       "      <th>race</th>\n",
       "      <th>sex</th>\n",
       "      <th>capital-gain</th>\n",
       "      <th>capital-loos</th>\n",
       "      <th>hour-per-week</th>\n",
       "      <th>native-country</th>\n",
       "      <th>income</th>\n",
       "      <th>group</th>\n",
       "    </tr>\n",
       "  </thead>\n",
       "  <tbody>\n",
       "    <tr>\n",
       "      <th>0</th>\n",
       "      <td>39</td>\n",
       "      <td>State-gov</td>\n",
       "      <td>77516</td>\n",
       "      <td>Bachelors</td>\n",
       "      <td>13</td>\n",
       "      <td>Never-married</td>\n",
       "      <td>Adm-clerical</td>\n",
       "      <td>Not-in-family</td>\n",
       "      <td>White</td>\n",
       "      <td>Male</td>\n",
       "      <td>2174</td>\n",
       "      <td>0</td>\n",
       "      <td>40</td>\n",
       "      <td>United-States</td>\n",
       "      <td>&lt;=50K</td>\n",
       "      <td>0</td>\n",
       "    </tr>\n",
       "    <tr>\n",
       "      <th>1</th>\n",
       "      <td>50</td>\n",
       "      <td>Self-emp-not-inc</td>\n",
       "      <td>83311</td>\n",
       "      <td>Bachelors</td>\n",
       "      <td>13</td>\n",
       "      <td>Married-civ-spouse</td>\n",
       "      <td>Exec-managerial</td>\n",
       "      <td>Husband</td>\n",
       "      <td>White</td>\n",
       "      <td>Male</td>\n",
       "      <td>0</td>\n",
       "      <td>0</td>\n",
       "      <td>13</td>\n",
       "      <td>United-States</td>\n",
       "      <td>&lt;=50K</td>\n",
       "      <td>0</td>\n",
       "    </tr>\n",
       "    <tr>\n",
       "      <th>2</th>\n",
       "      <td>38</td>\n",
       "      <td>Private</td>\n",
       "      <td>215646</td>\n",
       "      <td>HS-grad</td>\n",
       "      <td>9</td>\n",
       "      <td>Divorced</td>\n",
       "      <td>Handlers-cleaners</td>\n",
       "      <td>Not-in-family</td>\n",
       "      <td>White</td>\n",
       "      <td>Male</td>\n",
       "      <td>0</td>\n",
       "      <td>0</td>\n",
       "      <td>40</td>\n",
       "      <td>United-States</td>\n",
       "      <td>&lt;=50K</td>\n",
       "      <td>0</td>\n",
       "    </tr>\n",
       "    <tr>\n",
       "      <th>3</th>\n",
       "      <td>53</td>\n",
       "      <td>Private</td>\n",
       "      <td>234721</td>\n",
       "      <td>11th</td>\n",
       "      <td>7</td>\n",
       "      <td>Married-civ-spouse</td>\n",
       "      <td>Handlers-cleaners</td>\n",
       "      <td>Husband</td>\n",
       "      <td>Black</td>\n",
       "      <td>Male</td>\n",
       "      <td>0</td>\n",
       "      <td>0</td>\n",
       "      <td>40</td>\n",
       "      <td>United-States</td>\n",
       "      <td>&lt;=50K</td>\n",
       "      <td>0</td>\n",
       "    </tr>\n",
       "    <tr>\n",
       "      <th>4</th>\n",
       "      <td>28</td>\n",
       "      <td>Private</td>\n",
       "      <td>338409</td>\n",
       "      <td>Bachelors</td>\n",
       "      <td>13</td>\n",
       "      <td>Married-civ-spouse</td>\n",
       "      <td>Prof-specialty</td>\n",
       "      <td>Wife</td>\n",
       "      <td>Black</td>\n",
       "      <td>Female</td>\n",
       "      <td>0</td>\n",
       "      <td>0</td>\n",
       "      <td>40</td>\n",
       "      <td>Cuba</td>\n",
       "      <td>&lt;=50K</td>\n",
       "      <td>0</td>\n",
       "    </tr>\n",
       "    <tr>\n",
       "      <th>5</th>\n",
       "      <td>37</td>\n",
       "      <td>Private</td>\n",
       "      <td>284582</td>\n",
       "      <td>Masters</td>\n",
       "      <td>14</td>\n",
       "      <td>Married-civ-spouse</td>\n",
       "      <td>Exec-managerial</td>\n",
       "      <td>Wife</td>\n",
       "      <td>White</td>\n",
       "      <td>Female</td>\n",
       "      <td>0</td>\n",
       "      <td>0</td>\n",
       "      <td>40</td>\n",
       "      <td>United-States</td>\n",
       "      <td>&lt;=50K</td>\n",
       "      <td>0</td>\n",
       "    </tr>\n",
       "    <tr>\n",
       "      <th>6</th>\n",
       "      <td>49</td>\n",
       "      <td>Private</td>\n",
       "      <td>160187</td>\n",
       "      <td>9th</td>\n",
       "      <td>5</td>\n",
       "      <td>Married-spouse-absent</td>\n",
       "      <td>Other-service</td>\n",
       "      <td>Not-in-family</td>\n",
       "      <td>Black</td>\n",
       "      <td>Female</td>\n",
       "      <td>0</td>\n",
       "      <td>0</td>\n",
       "      <td>16</td>\n",
       "      <td>Jamaica</td>\n",
       "      <td>&lt;=50K</td>\n",
       "      <td>0</td>\n",
       "    </tr>\n",
       "    <tr>\n",
       "      <th>7</th>\n",
       "      <td>52</td>\n",
       "      <td>Self-emp-not-inc</td>\n",
       "      <td>209642</td>\n",
       "      <td>HS-grad</td>\n",
       "      <td>9</td>\n",
       "      <td>Married-civ-spouse</td>\n",
       "      <td>Exec-managerial</td>\n",
       "      <td>Husband</td>\n",
       "      <td>White</td>\n",
       "      <td>Male</td>\n",
       "      <td>0</td>\n",
       "      <td>0</td>\n",
       "      <td>45</td>\n",
       "      <td>United-States</td>\n",
       "      <td>&gt;50K</td>\n",
       "      <td>0</td>\n",
       "    </tr>\n",
       "    <tr>\n",
       "      <th>8</th>\n",
       "      <td>31</td>\n",
       "      <td>Private</td>\n",
       "      <td>45781</td>\n",
       "      <td>Masters</td>\n",
       "      <td>14</td>\n",
       "      <td>Never-married</td>\n",
       "      <td>Prof-specialty</td>\n",
       "      <td>Not-in-family</td>\n",
       "      <td>White</td>\n",
       "      <td>Female</td>\n",
       "      <td>14084</td>\n",
       "      <td>0</td>\n",
       "      <td>50</td>\n",
       "      <td>United-States</td>\n",
       "      <td>&gt;50K</td>\n",
       "      <td>0</td>\n",
       "    </tr>\n",
       "    <tr>\n",
       "      <th>9</th>\n",
       "      <td>42</td>\n",
       "      <td>Private</td>\n",
       "      <td>159449</td>\n",
       "      <td>Bachelors</td>\n",
       "      <td>13</td>\n",
       "      <td>Married-civ-spouse</td>\n",
       "      <td>Exec-managerial</td>\n",
       "      <td>Husband</td>\n",
       "      <td>White</td>\n",
       "      <td>Male</td>\n",
       "      <td>5178</td>\n",
       "      <td>0</td>\n",
       "      <td>40</td>\n",
       "      <td>United-States</td>\n",
       "      <td>&gt;50K</td>\n",
       "      <td>0</td>\n",
       "    </tr>\n",
       "  </tbody>\n",
       "</table>\n",
       "</div>"
      ],
      "text/plain": [
       "   age          workclass  final-weight   education  education-num  \\\n",
       "0   39          State-gov         77516   Bachelors             13   \n",
       "1   50   Self-emp-not-inc         83311   Bachelors             13   \n",
       "2   38            Private        215646     HS-grad              9   \n",
       "3   53            Private        234721        11th              7   \n",
       "4   28            Private        338409   Bachelors             13   \n",
       "5   37            Private        284582     Masters             14   \n",
       "6   49            Private        160187         9th              5   \n",
       "7   52   Self-emp-not-inc        209642     HS-grad              9   \n",
       "8   31            Private         45781     Masters             14   \n",
       "9   42            Private        159449   Bachelors             13   \n",
       "\n",
       "           marital-status          occupation    relationship    race  \\\n",
       "0           Never-married        Adm-clerical   Not-in-family   White   \n",
       "1      Married-civ-spouse     Exec-managerial         Husband   White   \n",
       "2                Divorced   Handlers-cleaners   Not-in-family   White   \n",
       "3      Married-civ-spouse   Handlers-cleaners         Husband   Black   \n",
       "4      Married-civ-spouse      Prof-specialty            Wife   Black   \n",
       "5      Married-civ-spouse     Exec-managerial            Wife   White   \n",
       "6   Married-spouse-absent       Other-service   Not-in-family   Black   \n",
       "7      Married-civ-spouse     Exec-managerial         Husband   White   \n",
       "8           Never-married      Prof-specialty   Not-in-family   White   \n",
       "9      Married-civ-spouse     Exec-managerial         Husband   White   \n",
       "\n",
       "       sex  capital-gain  capital-loos  hour-per-week  native-country  income  \\\n",
       "0     Male          2174             0             40   United-States   <=50K   \n",
       "1     Male             0             0             13   United-States   <=50K   \n",
       "2     Male             0             0             40   United-States   <=50K   \n",
       "3     Male             0             0             40   United-States   <=50K   \n",
       "4   Female             0             0             40            Cuba   <=50K   \n",
       "5   Female             0             0             40   United-States   <=50K   \n",
       "6   Female             0             0             16         Jamaica   <=50K   \n",
       "7     Male             0             0             45   United-States    >50K   \n",
       "8   Female         14084             0             50   United-States    >50K   \n",
       "9     Male          5178             0             40   United-States    >50K   \n",
       "\n",
       "   group  \n",
       "0      0  \n",
       "1      0  \n",
       "2      0  \n",
       "3      0  \n",
       "4      0  \n",
       "5      0  \n",
       "6      0  \n",
       "7      0  \n",
       "8      0  \n",
       "9      0  "
      ]
     },
     "execution_count": 127,
     "metadata": {},
     "output_type": "execute_result"
    }
   ],
   "source": [
    "data[\"group\"] = groups\n",
    "\n",
    "data.head(10)"
   ]
  },
  {
   "cell_type": "code",
   "execution_count": 128,
   "metadata": {},
   "outputs": [
    {
     "data": {
      "text/plain": [
       "(3257, 16)"
      ]
     },
     "execution_count": 128,
     "metadata": {},
     "output_type": "execute_result"
    }
   ],
   "source": [
    "data_grouped = data[data[\"group\"] == random.randint(0, 9)]\n",
    "\n",
    "data_grouped.shape"
   ]
  },
  {
   "cell_type": "code",
   "execution_count": 129,
   "metadata": {},
   "outputs": [
    {
     "data": {
      "text/plain": [
       "group\n",
       "8    3257\n",
       "Name: count, dtype: int64"
      ]
     },
     "execution_count": 129,
     "metadata": {},
     "output_type": "execute_result"
    }
   ],
   "source": [
    "data_grouped[\"group\"].value_counts()"
   ]
  },
  {
   "cell_type": "code",
   "execution_count": 130,
   "metadata": {},
   "outputs": [
    {
     "data": {
      "text/plain": [
       "((326, 16),\n",
       " group\n",
       " 27    326\n",
       " Name: count, dtype: int64)"
      ]
     },
     "execution_count": 130,
     "metadata": {},
     "output_type": "execute_result"
    }
   ],
   "source": [
    "def group_sampling(data, group_count):\n",
    "    groupSize = len(data) // group_count\n",
    "    groups = []\n",
    "    groupId = 0\n",
    "    counter = 0\n",
    "\n",
    "    for _ in range(len(data)):\n",
    "        groups.append(groupId)\n",
    "        counter += 1\n",
    "        if counter > groupSize:\n",
    "            counter = 0\n",
    "            groupId += 1\n",
    "\n",
    "    data[\"group\"] = groups\n",
    "    data_grouped = data[data[\"group\"] == random.randint(0, group_count - 1)]\n",
    "    return data_grouped\n",
    "\n",
    "\n",
    "df_group_sample = group_sampling(data, 100)\n",
    "\n",
    "df_group_sample.shape, df_group_sample[\"group\"].value_counts()"
   ]
  },
  {
   "cell_type": "code",
   "execution_count": 131,
   "metadata": {},
   "outputs": [
    {
     "data": {
      "application/vnd.microsoft.datawrangler.viewer.v0+json": {
       "columns": [
        {
         "name": "index",
         "rawType": "int64",
         "type": "integer"
        },
        {
         "name": "age",
         "rawType": "int64",
         "type": "integer"
        },
        {
         "name": "workclass",
         "rawType": "object",
         "type": "string"
        },
        {
         "name": "final-weight",
         "rawType": "int64",
         "type": "integer"
        },
        {
         "name": "education",
         "rawType": "object",
         "type": "string"
        },
        {
         "name": "education-num",
         "rawType": "int64",
         "type": "integer"
        },
        {
         "name": "marital-status",
         "rawType": "object",
         "type": "string"
        },
        {
         "name": "occupation",
         "rawType": "object",
         "type": "string"
        },
        {
         "name": "relationship",
         "rawType": "object",
         "type": "string"
        },
        {
         "name": "race",
         "rawType": "object",
         "type": "string"
        },
        {
         "name": "sex",
         "rawType": "object",
         "type": "string"
        },
        {
         "name": "capital-gain",
         "rawType": "int64",
         "type": "integer"
        },
        {
         "name": "capital-loos",
         "rawType": "int64",
         "type": "integer"
        },
        {
         "name": "hour-per-week",
         "rawType": "int64",
         "type": "integer"
        },
        {
         "name": "native-country",
         "rawType": "object",
         "type": "string"
        },
        {
         "name": "income",
         "rawType": "object",
         "type": "string"
        },
        {
         "name": "group",
         "rawType": "int64",
         "type": "integer"
        }
       ],
       "conversionMethod": "pd.DataFrame",
       "ref": "a56b5630-e096-4d53-a60c-f398ad5c263f",
       "rows": [
        [
         "8802",
         "50",
         " Private",
         "180522",
         " Some-college",
         "10",
         " Never-married",
         " Handlers-cleaners",
         " Not-in-family",
         " White",
         " Male",
         "0",
         "0",
         "38",
         " United-States",
         " <=50K",
         "27"
        ],
        [
         "8803",
         "23",
         " Local-gov",
         "203353",
         " Bachelors",
         "13",
         " Never-married",
         " Exec-managerial",
         " Own-child",
         " White",
         " Female",
         "0",
         "0",
         "12",
         " United-States",
         " <=50K",
         "27"
        ],
        [
         "8804",
         "30",
         " Private",
         "87469",
         " HS-grad",
         "9",
         " Never-married",
         " Other-service",
         " Not-in-family",
         " White",
         " Male",
         "0",
         "0",
         "40",
         " United-States",
         " <=50K",
         "27"
        ],
        [
         "8805",
         "20",
         " ?",
         "216563",
         " 11th",
         "7",
         " Never-married",
         " ?",
         " Other-relative",
         " White",
         " Male",
         "0",
         "0",
         "40",
         " United-States",
         " <=50K",
         "27"
        ],
        [
         "8806",
         "90",
         " Private",
         "87372",
         " Prof-school",
         "15",
         " Married-civ-spouse",
         " Prof-specialty",
         " Husband",
         " White",
         " Male",
         "20051",
         "0",
         "72",
         " United-States",
         " >50K",
         "27"
        ]
       ],
       "shape": {
        "columns": 16,
        "rows": 5
       }
      },
      "text/html": [
       "<div>\n",
       "<style scoped>\n",
       "    .dataframe tbody tr th:only-of-type {\n",
       "        vertical-align: middle;\n",
       "    }\n",
       "\n",
       "    .dataframe tbody tr th {\n",
       "        vertical-align: top;\n",
       "    }\n",
       "\n",
       "    .dataframe thead th {\n",
       "        text-align: right;\n",
       "    }\n",
       "</style>\n",
       "<table border=\"1\" class=\"dataframe\">\n",
       "  <thead>\n",
       "    <tr style=\"text-align: right;\">\n",
       "      <th></th>\n",
       "      <th>age</th>\n",
       "      <th>workclass</th>\n",
       "      <th>final-weight</th>\n",
       "      <th>education</th>\n",
       "      <th>education-num</th>\n",
       "      <th>marital-status</th>\n",
       "      <th>occupation</th>\n",
       "      <th>relationship</th>\n",
       "      <th>race</th>\n",
       "      <th>sex</th>\n",
       "      <th>capital-gain</th>\n",
       "      <th>capital-loos</th>\n",
       "      <th>hour-per-week</th>\n",
       "      <th>native-country</th>\n",
       "      <th>income</th>\n",
       "      <th>group</th>\n",
       "    </tr>\n",
       "  </thead>\n",
       "  <tbody>\n",
       "    <tr>\n",
       "      <th>8802</th>\n",
       "      <td>50</td>\n",
       "      <td>Private</td>\n",
       "      <td>180522</td>\n",
       "      <td>Some-college</td>\n",
       "      <td>10</td>\n",
       "      <td>Never-married</td>\n",
       "      <td>Handlers-cleaners</td>\n",
       "      <td>Not-in-family</td>\n",
       "      <td>White</td>\n",
       "      <td>Male</td>\n",
       "      <td>0</td>\n",
       "      <td>0</td>\n",
       "      <td>38</td>\n",
       "      <td>United-States</td>\n",
       "      <td>&lt;=50K</td>\n",
       "      <td>27</td>\n",
       "    </tr>\n",
       "    <tr>\n",
       "      <th>8803</th>\n",
       "      <td>23</td>\n",
       "      <td>Local-gov</td>\n",
       "      <td>203353</td>\n",
       "      <td>Bachelors</td>\n",
       "      <td>13</td>\n",
       "      <td>Never-married</td>\n",
       "      <td>Exec-managerial</td>\n",
       "      <td>Own-child</td>\n",
       "      <td>White</td>\n",
       "      <td>Female</td>\n",
       "      <td>0</td>\n",
       "      <td>0</td>\n",
       "      <td>12</td>\n",
       "      <td>United-States</td>\n",
       "      <td>&lt;=50K</td>\n",
       "      <td>27</td>\n",
       "    </tr>\n",
       "    <tr>\n",
       "      <th>8804</th>\n",
       "      <td>30</td>\n",
       "      <td>Private</td>\n",
       "      <td>87469</td>\n",
       "      <td>HS-grad</td>\n",
       "      <td>9</td>\n",
       "      <td>Never-married</td>\n",
       "      <td>Other-service</td>\n",
       "      <td>Not-in-family</td>\n",
       "      <td>White</td>\n",
       "      <td>Male</td>\n",
       "      <td>0</td>\n",
       "      <td>0</td>\n",
       "      <td>40</td>\n",
       "      <td>United-States</td>\n",
       "      <td>&lt;=50K</td>\n",
       "      <td>27</td>\n",
       "    </tr>\n",
       "    <tr>\n",
       "      <th>8805</th>\n",
       "      <td>20</td>\n",
       "      <td>?</td>\n",
       "      <td>216563</td>\n",
       "      <td>11th</td>\n",
       "      <td>7</td>\n",
       "      <td>Never-married</td>\n",
       "      <td>?</td>\n",
       "      <td>Other-relative</td>\n",
       "      <td>White</td>\n",
       "      <td>Male</td>\n",
       "      <td>0</td>\n",
       "      <td>0</td>\n",
       "      <td>40</td>\n",
       "      <td>United-States</td>\n",
       "      <td>&lt;=50K</td>\n",
       "      <td>27</td>\n",
       "    </tr>\n",
       "    <tr>\n",
       "      <th>8806</th>\n",
       "      <td>90</td>\n",
       "      <td>Private</td>\n",
       "      <td>87372</td>\n",
       "      <td>Prof-school</td>\n",
       "      <td>15</td>\n",
       "      <td>Married-civ-spouse</td>\n",
       "      <td>Prof-specialty</td>\n",
       "      <td>Husband</td>\n",
       "      <td>White</td>\n",
       "      <td>Male</td>\n",
       "      <td>20051</td>\n",
       "      <td>0</td>\n",
       "      <td>72</td>\n",
       "      <td>United-States</td>\n",
       "      <td>&gt;50K</td>\n",
       "      <td>27</td>\n",
       "    </tr>\n",
       "  </tbody>\n",
       "</table>\n",
       "</div>"
      ],
      "text/plain": [
       "      age   workclass  final-weight      education  education-num  \\\n",
       "8802   50     Private        180522   Some-college             10   \n",
       "8803   23   Local-gov        203353      Bachelors             13   \n",
       "8804   30     Private         87469        HS-grad              9   \n",
       "8805   20           ?        216563           11th              7   \n",
       "8806   90     Private         87372    Prof-school             15   \n",
       "\n",
       "           marital-status          occupation     relationship    race  \\\n",
       "8802        Never-married   Handlers-cleaners    Not-in-family   White   \n",
       "8803        Never-married     Exec-managerial        Own-child   White   \n",
       "8804        Never-married       Other-service    Not-in-family   White   \n",
       "8805        Never-married                   ?   Other-relative   White   \n",
       "8806   Married-civ-spouse      Prof-specialty          Husband   White   \n",
       "\n",
       "          sex  capital-gain  capital-loos  hour-per-week  native-country  \\\n",
       "8802     Male             0             0             38   United-States   \n",
       "8803   Female             0             0             12   United-States   \n",
       "8804     Male             0             0             40   United-States   \n",
       "8805     Male             0             0             40   United-States   \n",
       "8806     Male         20051             0             72   United-States   \n",
       "\n",
       "      income  group  \n",
       "8802   <=50K     27  \n",
       "8803   <=50K     27  \n",
       "8804   <=50K     27  \n",
       "8805   <=50K     27  \n",
       "8806    >50K     27  "
      ]
     },
     "execution_count": 131,
     "metadata": {},
     "output_type": "execute_result"
    }
   ],
   "source": [
    "df_group_sample.head()"
   ]
  },
  {
   "cell_type": "markdown",
   "metadata": {},
   "source": [
    "\n",
    "# Stratified sampling"
   ]
  },
  {
   "cell_type": "code",
   "execution_count": 132,
   "metadata": {},
   "outputs": [],
   "source": [
    "from sklearn.model_selection import StratifiedShuffleSplit"
   ]
  },
  {
   "cell_type": "code",
   "execution_count": 133,
   "metadata": {},
   "outputs": [
    {
     "data": {
      "text/plain": [
       "income\n",
       "<=50K    24720\n",
       ">50K      7841\n",
       "Name: count, dtype: int64"
      ]
     },
     "execution_count": 133,
     "metadata": {},
     "output_type": "execute_result"
    }
   ],
   "source": [
    "data[\"income\"].value_counts()"
   ]
  },
  {
   "cell_type": "code",
   "execution_count": 134,
   "metadata": {},
   "outputs": [
    {
     "data": {
      "text/plain": [
       "0.2408095574460244"
      ]
     },
     "execution_count": 134,
     "metadata": {},
     "output_type": "execute_result"
    }
   ],
   "source": [
    "moreThan50k = data[data[\"income\"] == \" >50K\"].shape[0] / data.shape[0]\n",
    "\n",
    "moreThan50k"
   ]
  },
  {
   "cell_type": "code",
   "execution_count": 135,
   "metadata": {},
   "outputs": [
    {
     "data": {
      "text/plain": [
       "0.7591904425539756"
      ]
     },
     "execution_count": 135,
     "metadata": {},
     "output_type": "execute_result"
    }
   ],
   "source": [
    "lessThan50k = data[data[\"income\"] == \" <=50K\"].shape[0] / data.shape[0]\n",
    "\n",
    "lessThan50k"
   ]
  },
  {
   "cell_type": "code",
   "execution_count": 136,
   "metadata": {},
   "outputs": [
    {
     "data": {
      "text/plain": [
       "((32461, 16), (100, 16))"
      ]
     },
     "execution_count": 136,
     "metadata": {},
     "output_type": "execute_result"
    }
   ],
   "source": [
    "test_size = 100 / data.shape[0]\n",
    "\n",
    "split = StratifiedShuffleSplit(test_size=test_size)\n",
    "\n",
    "for x, y in split.split(data, data[\"income\"]):\n",
    "    strat_train = data.loc[x]\n",
    "    strat_test = data.loc[y]\n",
    "\n",
    "strat_train.shape, strat_test.shape"
   ]
  },
  {
   "cell_type": "code",
   "execution_count": 137,
   "metadata": {},
   "outputs": [
    {
     "data": {
      "text/plain": [
       "(100, 16)"
      ]
     },
     "execution_count": 137,
     "metadata": {},
     "output_type": "execute_result"
    }
   ],
   "source": [
    "def stratified_sample(data, column, value, n=100):\n",
    "    split = StratifiedShuffleSplit(n_splits=1, test_size=n / len(data), random_state=42)\n",
    "    for train_index, test_index in split.split(data, data[column] == value):\n",
    "        return data.iloc[test_index]\n",
    "\n",
    "\n",
    "df_stratified_sample = stratified_sample(data, \"income\", \" >50K\", 100)\n",
    "\n",
    "df_stratified_sample.shape"
   ]
  },
  {
   "cell_type": "code",
   "execution_count": 138,
   "metadata": {},
   "outputs": [
    {
     "data": {
      "text/plain": [
       "income\n",
       "<=50K    76\n",
       ">50K     24\n",
       "Name: count, dtype: int64"
      ]
     },
     "execution_count": 138,
     "metadata": {},
     "output_type": "execute_result"
    }
   ],
   "source": [
    "strat_test[\"income\"].value_counts()"
   ]
  },
  {
   "cell_type": "markdown",
   "metadata": {},
   "source": [
    "# Reservoir Sampling"
   ]
  },
  {
   "cell_type": "code",
   "execution_count": 139,
   "metadata": {},
   "outputs": [
    {
     "data": {
      "text/plain": [
       "(100, 16)"
      ]
     },
     "execution_count": 139,
     "metadata": {},
     "output_type": "execute_result"
    }
   ],
   "source": [
    "def reservoir_sampling(data, samples):\n",
    "    data_stream = []\n",
    "\n",
    "    for i in range(len(data)):\n",
    "        data_stream.append(i)\n",
    "\n",
    "    i = 0\n",
    "    size = len(data_stream)\n",
    "\n",
    "    reservoir = [0] * samples\n",
    "\n",
    "    for i in range(samples):\n",
    "        reservoir[i] = data_stream[i]\n",
    "\n",
    "    while i < size:\n",
    "        j = random.randrange(i + 1)\n",
    "        if j < samples:\n",
    "            reservoir[j] = data_stream[i]\n",
    "        i += 1\n",
    "\n",
    "    return data.iloc[reservoir]\n",
    "\n",
    "\n",
    "df_reservoir_sample = reservoir_sampling(data, 100)\n",
    "\n",
    "df_reservoir_sample.shape"
   ]
  },
  {
   "cell_type": "code",
   "execution_count": 140,
   "metadata": {},
   "outputs": [
    {
     "data": {
      "application/vnd.microsoft.datawrangler.viewer.v0+json": {
       "columns": [
        {
         "name": "index",
         "rawType": "int64",
         "type": "integer"
        },
        {
         "name": "age",
         "rawType": "int64",
         "type": "integer"
        },
        {
         "name": "workclass",
         "rawType": "object",
         "type": "string"
        },
        {
         "name": "final-weight",
         "rawType": "int64",
         "type": "integer"
        },
        {
         "name": "education",
         "rawType": "object",
         "type": "string"
        },
        {
         "name": "education-num",
         "rawType": "int64",
         "type": "integer"
        },
        {
         "name": "marital-status",
         "rawType": "object",
         "type": "string"
        },
        {
         "name": "occupation",
         "rawType": "object",
         "type": "string"
        },
        {
         "name": "relationship",
         "rawType": "object",
         "type": "string"
        },
        {
         "name": "race",
         "rawType": "object",
         "type": "string"
        },
        {
         "name": "sex",
         "rawType": "object",
         "type": "string"
        },
        {
         "name": "capital-gain",
         "rawType": "int64",
         "type": "integer"
        },
        {
         "name": "capital-loos",
         "rawType": "int64",
         "type": "integer"
        },
        {
         "name": "hour-per-week",
         "rawType": "int64",
         "type": "integer"
        },
        {
         "name": "native-country",
         "rawType": "object",
         "type": "string"
        },
        {
         "name": "income",
         "rawType": "object",
         "type": "string"
        },
        {
         "name": "group",
         "rawType": "int64",
         "type": "integer"
        }
       ],
       "conversionMethod": "pd.DataFrame",
       "ref": "09f93fb8-c114-46f5-95bc-33fa29265594",
       "rows": [
        [
         "14660",
         "41",
         " Private",
         "174201",
         " HS-grad",
         "9",
         " Divorced",
         " Handlers-cleaners",
         " Unmarried",
         " White",
         " Male",
         "0",
         "0",
         "40",
         " United-States",
         " <=50K",
         "44"
        ],
        [
         "26834",
         "38",
         " Private",
         "222450",
         " 5th-6th",
         "3",
         " Married-civ-spouse",
         " Machine-op-inspct",
         " Husband",
         " White",
         " Male",
         "0",
         "0",
         "40",
         " Mexico",
         " <=50K",
         "82"
        ],
        [
         "13360",
         "35",
         " Self-emp-not-inc",
         "190895",
         " Bachelors",
         "13",
         " Divorced",
         " Exec-managerial",
         " Not-in-family",
         " White",
         " Male",
         "0",
         "0",
         "25",
         " United-States",
         " <=50K",
         "40"
        ],
        [
         "19532",
         "27",
         " Private",
         "133929",
         " Bachelors",
         "13",
         " Never-married",
         " Prof-specialty",
         " Unmarried",
         " White",
         " Female",
         "0",
         "0",
         "36",
         " ?",
         " <=50K",
         "59"
        ],
        [
         "4333",
         "28",
         " Self-emp-inc",
         "115705",
         " Some-college",
         "10",
         " Never-married",
         " Exec-managerial",
         " Not-in-family",
         " White",
         " Male",
         "0",
         "0",
         "50",
         " United-States",
         " <=50K",
         "13"
        ]
       ],
       "shape": {
        "columns": 16,
        "rows": 5
       }
      },
      "text/html": [
       "<div>\n",
       "<style scoped>\n",
       "    .dataframe tbody tr th:only-of-type {\n",
       "        vertical-align: middle;\n",
       "    }\n",
       "\n",
       "    .dataframe tbody tr th {\n",
       "        vertical-align: top;\n",
       "    }\n",
       "\n",
       "    .dataframe thead th {\n",
       "        text-align: right;\n",
       "    }\n",
       "</style>\n",
       "<table border=\"1\" class=\"dataframe\">\n",
       "  <thead>\n",
       "    <tr style=\"text-align: right;\">\n",
       "      <th></th>\n",
       "      <th>age</th>\n",
       "      <th>workclass</th>\n",
       "      <th>final-weight</th>\n",
       "      <th>education</th>\n",
       "      <th>education-num</th>\n",
       "      <th>marital-status</th>\n",
       "      <th>occupation</th>\n",
       "      <th>relationship</th>\n",
       "      <th>race</th>\n",
       "      <th>sex</th>\n",
       "      <th>capital-gain</th>\n",
       "      <th>capital-loos</th>\n",
       "      <th>hour-per-week</th>\n",
       "      <th>native-country</th>\n",
       "      <th>income</th>\n",
       "      <th>group</th>\n",
       "    </tr>\n",
       "  </thead>\n",
       "  <tbody>\n",
       "    <tr>\n",
       "      <th>14660</th>\n",
       "      <td>41</td>\n",
       "      <td>Private</td>\n",
       "      <td>174201</td>\n",
       "      <td>HS-grad</td>\n",
       "      <td>9</td>\n",
       "      <td>Divorced</td>\n",
       "      <td>Handlers-cleaners</td>\n",
       "      <td>Unmarried</td>\n",
       "      <td>White</td>\n",
       "      <td>Male</td>\n",
       "      <td>0</td>\n",
       "      <td>0</td>\n",
       "      <td>40</td>\n",
       "      <td>United-States</td>\n",
       "      <td>&lt;=50K</td>\n",
       "      <td>44</td>\n",
       "    </tr>\n",
       "    <tr>\n",
       "      <th>26834</th>\n",
       "      <td>38</td>\n",
       "      <td>Private</td>\n",
       "      <td>222450</td>\n",
       "      <td>5th-6th</td>\n",
       "      <td>3</td>\n",
       "      <td>Married-civ-spouse</td>\n",
       "      <td>Machine-op-inspct</td>\n",
       "      <td>Husband</td>\n",
       "      <td>White</td>\n",
       "      <td>Male</td>\n",
       "      <td>0</td>\n",
       "      <td>0</td>\n",
       "      <td>40</td>\n",
       "      <td>Mexico</td>\n",
       "      <td>&lt;=50K</td>\n",
       "      <td>82</td>\n",
       "    </tr>\n",
       "    <tr>\n",
       "      <th>13360</th>\n",
       "      <td>35</td>\n",
       "      <td>Self-emp-not-inc</td>\n",
       "      <td>190895</td>\n",
       "      <td>Bachelors</td>\n",
       "      <td>13</td>\n",
       "      <td>Divorced</td>\n",
       "      <td>Exec-managerial</td>\n",
       "      <td>Not-in-family</td>\n",
       "      <td>White</td>\n",
       "      <td>Male</td>\n",
       "      <td>0</td>\n",
       "      <td>0</td>\n",
       "      <td>25</td>\n",
       "      <td>United-States</td>\n",
       "      <td>&lt;=50K</td>\n",
       "      <td>40</td>\n",
       "    </tr>\n",
       "    <tr>\n",
       "      <th>19532</th>\n",
       "      <td>27</td>\n",
       "      <td>Private</td>\n",
       "      <td>133929</td>\n",
       "      <td>Bachelors</td>\n",
       "      <td>13</td>\n",
       "      <td>Never-married</td>\n",
       "      <td>Prof-specialty</td>\n",
       "      <td>Unmarried</td>\n",
       "      <td>White</td>\n",
       "      <td>Female</td>\n",
       "      <td>0</td>\n",
       "      <td>0</td>\n",
       "      <td>36</td>\n",
       "      <td>?</td>\n",
       "      <td>&lt;=50K</td>\n",
       "      <td>59</td>\n",
       "    </tr>\n",
       "    <tr>\n",
       "      <th>4333</th>\n",
       "      <td>28</td>\n",
       "      <td>Self-emp-inc</td>\n",
       "      <td>115705</td>\n",
       "      <td>Some-college</td>\n",
       "      <td>10</td>\n",
       "      <td>Never-married</td>\n",
       "      <td>Exec-managerial</td>\n",
       "      <td>Not-in-family</td>\n",
       "      <td>White</td>\n",
       "      <td>Male</td>\n",
       "      <td>0</td>\n",
       "      <td>0</td>\n",
       "      <td>50</td>\n",
       "      <td>United-States</td>\n",
       "      <td>&lt;=50K</td>\n",
       "      <td>13</td>\n",
       "    </tr>\n",
       "  </tbody>\n",
       "</table>\n",
       "</div>"
      ],
      "text/plain": [
       "       age          workclass  final-weight      education  education-num  \\\n",
       "14660   41            Private        174201        HS-grad              9   \n",
       "26834   38            Private        222450        5th-6th              3   \n",
       "13360   35   Self-emp-not-inc        190895      Bachelors             13   \n",
       "19532   27            Private        133929      Bachelors             13   \n",
       "4333    28       Self-emp-inc        115705   Some-college             10   \n",
       "\n",
       "            marital-status          occupation    relationship    race  \\\n",
       "14660             Divorced   Handlers-cleaners       Unmarried   White   \n",
       "26834   Married-civ-spouse   Machine-op-inspct         Husband   White   \n",
       "13360             Divorced     Exec-managerial   Not-in-family   White   \n",
       "19532        Never-married      Prof-specialty       Unmarried   White   \n",
       "4333         Never-married     Exec-managerial   Not-in-family   White   \n",
       "\n",
       "           sex  capital-gain  capital-loos  hour-per-week  native-country  \\\n",
       "14660     Male             0             0             40   United-States   \n",
       "26834     Male             0             0             40          Mexico   \n",
       "13360     Male             0             0             25   United-States   \n",
       "19532   Female             0             0             36               ?   \n",
       "4333      Male             0             0             50   United-States   \n",
       "\n",
       "       income  group  \n",
       "14660   <=50K     44  \n",
       "26834   <=50K     82  \n",
       "13360   <=50K     40  \n",
       "19532   <=50K     59  \n",
       "4333    <=50K     13  "
      ]
     },
     "execution_count": 140,
     "metadata": {},
     "output_type": "execute_result"
    }
   ],
   "source": [
    "df_reservoir_sample.head()"
   ]
  },
  {
   "cell_type": "markdown",
   "metadata": {},
   "source": [
    "# Comparing Sampling"
   ]
  },
  {
   "cell_type": "code",
   "execution_count": 141,
   "metadata": {},
   "outputs": [
    {
     "data": {
      "text/plain": [
       "(2000, 5)"
      ]
     },
     "execution_count": 141,
     "metadata": {},
     "output_type": "execute_result"
    }
   ],
   "source": [
    "credit_data = pd.read_csv(\"data/credit_data.csv\")\n",
    "\n",
    "credit_data.shape"
   ]
  },
  {
   "cell_type": "code",
   "execution_count": 142,
   "metadata": {},
   "outputs": [
    {
     "data": {
      "application/vnd.microsoft.datawrangler.viewer.v0+json": {
       "columns": [
        {
         "name": "index",
         "rawType": "int64",
         "type": "integer"
        },
        {
         "name": "i#clientid",
         "rawType": "int64",
         "type": "integer"
        },
        {
         "name": "income",
         "rawType": "float64",
         "type": "float"
        },
        {
         "name": "age",
         "rawType": "float64",
         "type": "float"
        },
        {
         "name": "loan",
         "rawType": "float64",
         "type": "float"
        },
        {
         "name": "c#default",
         "rawType": "int64",
         "type": "integer"
        }
       ],
       "conversionMethod": "pd.DataFrame",
       "ref": "b3d69213-6286-4323-9721-4233ed9b97cc",
       "rows": [
        [
         "0",
         "1",
         "66155.9250950813",
         "59.0170150669292",
         "8106.53213128514",
         "0"
        ],
        [
         "1",
         "2",
         "34415.1539658196",
         "48.11715310486029",
         "6564.745017677379",
         "0"
        ],
        [
         "2",
         "3",
         "57317.1700630337",
         "63.10804949188599",
         "8020.953296386469",
         "0"
        ],
        [
         "3",
         "4",
         "42709.534200839706",
         "45.7519723521546",
         "6103.642260140699",
         "0"
        ],
        [
         "4",
         "5",
         "66952.68884534019",
         "18.5843359269202",
         "8770.09923520439",
         "1"
        ]
       ],
       "shape": {
        "columns": 5,
        "rows": 5
       }
      },
      "text/html": [
       "<div>\n",
       "<style scoped>\n",
       "    .dataframe tbody tr th:only-of-type {\n",
       "        vertical-align: middle;\n",
       "    }\n",
       "\n",
       "    .dataframe tbody tr th {\n",
       "        vertical-align: top;\n",
       "    }\n",
       "\n",
       "    .dataframe thead th {\n",
       "        text-align: right;\n",
       "    }\n",
       "</style>\n",
       "<table border=\"1\" class=\"dataframe\">\n",
       "  <thead>\n",
       "    <tr style=\"text-align: right;\">\n",
       "      <th></th>\n",
       "      <th>i#clientid</th>\n",
       "      <th>income</th>\n",
       "      <th>age</th>\n",
       "      <th>loan</th>\n",
       "      <th>c#default</th>\n",
       "    </tr>\n",
       "  </thead>\n",
       "  <tbody>\n",
       "    <tr>\n",
       "      <th>0</th>\n",
       "      <td>1</td>\n",
       "      <td>66155.925095</td>\n",
       "      <td>59.017015</td>\n",
       "      <td>8106.532131</td>\n",
       "      <td>0</td>\n",
       "    </tr>\n",
       "    <tr>\n",
       "      <th>1</th>\n",
       "      <td>2</td>\n",
       "      <td>34415.153966</td>\n",
       "      <td>48.117153</td>\n",
       "      <td>6564.745018</td>\n",
       "      <td>0</td>\n",
       "    </tr>\n",
       "    <tr>\n",
       "      <th>2</th>\n",
       "      <td>3</td>\n",
       "      <td>57317.170063</td>\n",
       "      <td>63.108049</td>\n",
       "      <td>8020.953296</td>\n",
       "      <td>0</td>\n",
       "    </tr>\n",
       "    <tr>\n",
       "      <th>3</th>\n",
       "      <td>4</td>\n",
       "      <td>42709.534201</td>\n",
       "      <td>45.751972</td>\n",
       "      <td>6103.642260</td>\n",
       "      <td>0</td>\n",
       "    </tr>\n",
       "    <tr>\n",
       "      <th>4</th>\n",
       "      <td>5</td>\n",
       "      <td>66952.688845</td>\n",
       "      <td>18.584336</td>\n",
       "      <td>8770.099235</td>\n",
       "      <td>1</td>\n",
       "    </tr>\n",
       "  </tbody>\n",
       "</table>\n",
       "</div>"
      ],
      "text/plain": [
       "   i#clientid        income        age         loan  c#default\n",
       "0           1  66155.925095  59.017015  8106.532131          0\n",
       "1           2  34415.153966  48.117153  6564.745018          0\n",
       "2           3  57317.170063  63.108049  8020.953296          0\n",
       "3           4  42709.534201  45.751972  6103.642260          0\n",
       "4           5  66952.688845  18.584336  8770.099235          1"
      ]
     },
     "execution_count": 142,
     "metadata": {},
     "output_type": "execute_result"
    }
   ],
   "source": [
    "credit_data.head()"
   ]
  },
  {
   "cell_type": "code",
   "execution_count": 143,
   "metadata": {},
   "outputs": [
    {
     "name": "stdout",
     "output_type": "stream",
     "text": [
      "Age mean:  40.81\n",
      "Income mean:  45331.6\n",
      "Loan mean:  4444.37\n"
     ]
    }
   ],
   "source": [
    "print(\"Age mean: \", round(credit_data[\"age\"].mean(), 2))\n",
    "print(\"Income mean: \", round(credit_data[\"income\"].mean(), 2))\n",
    "print(\"Loan mean: \", round(credit_data[\"loan\"].mean(), 2))"
   ]
  },
  {
   "cell_type": "code",
   "execution_count": 144,
   "metadata": {},
   "outputs": [
    {
     "name": "stdout",
     "output_type": "stream",
     "text": [
      "Random sample Age mean:  41.56\n",
      "Random sample Income mean:  44715.31\n",
      "Random sample Loan mean:  4305.02\n"
     ]
    }
   ],
   "source": [
    "random_sample = get_random_sample(credit_data, 500)\n",
    "\n",
    "print(\"Random sample Age mean: \", round(random_sample[\"age\"].mean(), 2))\n",
    "print(\"Random sample Income mean: \", round(random_sample[\"income\"].mean(), 2))\n",
    "print(\"Random sample Loan mean: \", round(random_sample[\"loan\"].mean(), 2))"
   ]
  },
  {
   "cell_type": "code",
   "execution_count": 145,
   "metadata": {},
   "outputs": [
    {
     "name": "stdout",
     "output_type": "stream",
     "text": [
      "Systematic sample Age mean:  41.06\n",
      "Systematic sample Income mean:  47179.04\n",
      "Systematic sample Loan mean:  5176.67\n"
     ]
    }
   ],
   "source": [
    "systematic_sample = systematic_sample(credit_data, 500)\n",
    "\n",
    "print(\"Systematic sample Age mean: \", round(systematic_sample[\"age\"].mean(), 2))\n",
    "print(\"Systematic sample Income mean: \", round(systematic_sample[\"income\"].mean(), 2))\n",
    "print(\"Systematic sample Loan mean: \", round(systematic_sample[\"loan\"].mean(), 2))"
   ]
  },
  {
   "cell_type": "code",
   "execution_count": 146,
   "metadata": {},
   "outputs": [
    {
     "name": "stdout",
     "output_type": "stream",
     "text": [
      "Cluster sample Age mean:  40.75\n",
      "Cluster sample Income mean:  45362.97\n",
      "Cluster sample Loan mean:  4330.29\n"
     ]
    }
   ],
   "source": [
    "cluster_sample = group_sampling(credit_data, 10)\n",
    "\n",
    "print(\"Cluster sample Age mean: \", round(cluster_sample[\"age\"].mean(), 2))\n",
    "print(\"Cluster sample Income mean: \", round(cluster_sample[\"income\"].mean(), 2))\n",
    "print(\"Cluster sample Loan mean: \", round(cluster_sample[\"loan\"].mean(), 2))"
   ]
  },
  {
   "cell_type": "code",
   "execution_count": 147,
   "metadata": {},
   "outputs": [
    {
     "name": "stdout",
     "output_type": "stream",
     "text": [
      "Stratified sample Age mean:  40.74\n",
      "Stratified sample Income mean:  45046.14\n",
      "Stratified sample Loan mean:  4464.07\n"
     ]
    }
   ],
   "source": [
    "stratified_sample = stratified_sample(credit_data, \"c#default\", 1, 500)\n",
    "\n",
    "print(\"Stratified sample Age mean: \", round(stratified_sample[\"age\"].mean(), 2))\n",
    "print(\"Stratified sample Income mean: \", round(stratified_sample[\"income\"].mean(), 2))\n",
    "print(\"Stratified sample Loan mean: \", round(stratified_sample[\"loan\"].mean(), 2))"
   ]
  },
  {
   "cell_type": "code",
   "execution_count": 148,
   "metadata": {},
   "outputs": [
    {
     "name": "stdout",
     "output_type": "stream",
     "text": [
      "Reservoir sample Age mean:  39.79\n",
      "Reservoir sample Income mean:  44944.83\n",
      "Reservoir sample Loan mean:  4476.46\n"
     ]
    }
   ],
   "source": [
    "reservoir_sample = reservoir_sampling(credit_data, 500)\n",
    "\n",
    "print(\"Reservoir sample Age mean: \", round(reservoir_sample[\"age\"].mean(), 2))\n",
    "print(\"Reservoir sample Income mean: \", round(reservoir_sample[\"income\"].mean(), 2))\n",
    "print(\"Reservoir sample Loan mean: \", round(reservoir_sample[\"loan\"].mean(), 2))"
   ]
  }
 ],
 "metadata": {
  "kernelspec": {
   "display_name": "base",
   "language": "python",
   "name": "python3"
  },
  "language_info": {
   "codemirror_mode": {
    "name": "ipython",
    "version": 3
   },
   "file_extension": ".py",
   "mimetype": "text/x-python",
   "name": "python",
   "nbconvert_exporter": "python",
   "pygments_lexer": "ipython3",
   "version": "3.12.2"
  }
 },
 "nbformat": 4,
 "nbformat_minor": 2
}
