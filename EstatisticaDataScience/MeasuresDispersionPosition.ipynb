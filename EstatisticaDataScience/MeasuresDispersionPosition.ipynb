{
 "cells": [
  {
   "cell_type": "code",
   "execution_count": 2,
   "metadata": {},
   "outputs": [],
   "source": [
    "import numpy as np\n",
    "import statistics\n",
    "from scipy import stats\n",
    "import math"
   ]
  },
  {
   "cell_type": "code",
   "execution_count": 3,
   "metadata": {},
   "outputs": [],
   "source": [
    "data = np.array(\n",
    "    [\n",
    "        150,\n",
    "        151,\n",
    "        152,\n",
    "        152,\n",
    "        153,\n",
    "        154,\n",
    "        155,\n",
    "        155,\n",
    "        155,\n",
    "        155,\n",
    "        156,\n",
    "        156,\n",
    "        156,\n",
    "        157,\n",
    "        158,\n",
    "        158,\n",
    "        160,\n",
    "        160,\n",
    "        160,\n",
    "        160,\n",
    "        160,\n",
    "        161,\n",
    "        161,\n",
    "        161,\n",
    "        161,\n",
    "        162,\n",
    "        163,\n",
    "        163,\n",
    "        164,\n",
    "        164,\n",
    "        164,\n",
    "        165,\n",
    "        166,\n",
    "        167,\n",
    "        168,\n",
    "        168,\n",
    "        169,\n",
    "        170,\n",
    "        172,\n",
    "        173,\n",
    "    ]\n",
    ")"
   ]
  },
  {
   "cell_type": "code",
   "execution_count": null,
   "metadata": {},
   "outputs": [
    {
     "data": {
      "text/plain": [
       "(160.375, 160.375, 160)"
      ]
     },
     "execution_count": 4,
     "metadata": {},
     "output_type": "execute_result"
    }
   ],
   "source": [
    "data.sum() / len(data), data.mean(), statistics.mean(data)"
   ]
  },
  {
   "cell_type": "code",
   "execution_count": 5,
   "metadata": {},
   "outputs": [
    {
     "data": {
      "text/plain": [
       "(160, ModeResult(mode=160, count=5))"
      ]
     },
     "execution_count": 5,
     "metadata": {},
     "output_type": "execute_result"
    }
   ],
   "source": [
    "statistics.mode(data), stats.mode(data)"
   ]
  },
  {
   "cell_type": "code",
   "execution_count": 7,
   "metadata": {},
   "outputs": [
    {
     "data": {
      "text/plain": [
       "153"
      ]
     },
     "execution_count": 7,
     "metadata": {},
     "output_type": "execute_result"
    }
   ],
   "source": [
    "odd_data = [150, 151, 152, 152, 153, 154, 155, 155, 155]\n",
    "\n",
    "position = math.ceil(len(odd_data) / 2)\n",
    "\n",
    "odd_data[position - 1]"
   ]
  },
  {
   "cell_type": "code",
   "execution_count": 9,
   "metadata": {},
   "outputs": [
    {
     "data": {
      "text/plain": [
       "160.0"
      ]
     },
     "execution_count": 9,
     "metadata": {},
     "output_type": "execute_result"
    }
   ],
   "source": [
    "position = len(data) // 2\n",
    "\n",
    "(data[position - 1] + data[position]) / 2"
   ]
  },
  {
   "cell_type": "markdown",
   "metadata": {},
   "source": [
    "### Easy way"
   ]
  },
  {
   "cell_type": "code",
   "execution_count": 11,
   "metadata": {},
   "outputs": [
    {
     "data": {
      "text/plain": [
       "(153.0, 153)"
      ]
     },
     "execution_count": 11,
     "metadata": {},
     "output_type": "execute_result"
    }
   ],
   "source": [
    "np.median(odd_data), statistics.median(odd_data)"
   ]
  },
  {
   "cell_type": "code",
   "execution_count": 12,
   "metadata": {},
   "outputs": [
    {
     "data": {
      "text/plain": [
       "(160.0, 160.0)"
      ]
     },
     "execution_count": 12,
     "metadata": {},
     "output_type": "execute_result"
    }
   ],
   "source": [
    "np.median(data), statistics.median(data)"
   ]
  },
  {
   "cell_type": "markdown",
   "metadata": {},
   "source": [
    "### Weighted Arithmetic Mean"
   ]
  },
  {
   "cell_type": "code",
   "execution_count": null,
   "metadata": {},
   "outputs": [
    {
     "data": {
      "text/plain": [
       "(5.8, 5.8, 5.8)"
      ]
     },
     "execution_count": 15,
     "metadata": {},
     "output_type": "execute_result"
    }
   ],
   "source": [
    "grades = np.array([9, 8, 7, 3])\n",
    "weights = np.array([1, 2, 3, 4])\n",
    "\n",
    "np.average(grades, weights=weights), (9 * 1 + 8 * 2 + 7 * 3 + 3 * 4) / (\n",
    "    1 + 2 + 3 + 4\n",
    "), (grades * weights).sum() / weights.sum()"
   ]
  }
 ],
 "metadata": {
  "kernelspec": {
   "display_name": "base",
   "language": "python",
   "name": "python3"
  },
  "language_info": {
   "codemirror_mode": {
    "name": "ipython",
    "version": 3
   },
   "file_extension": ".py",
   "mimetype": "text/x-python",
   "name": "python",
   "nbconvert_exporter": "python",
   "pygments_lexer": "ipython3",
   "version": "3.12.2"
  }
 },
 "nbformat": 4,
 "nbformat_minor": 2
}
