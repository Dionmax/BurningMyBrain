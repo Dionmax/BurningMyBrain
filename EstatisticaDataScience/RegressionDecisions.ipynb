{
 "cells": [
  {
   "cell_type": "code",
   "execution_count": 42,
   "metadata": {},
   "outputs": [],
   "source": [
    "import pandas as pd\n",
    "import numpy as np\n",
    "from sklearn.model_selection import train_test_split, cross_val_score, KFold\n",
    "from sklearn.naive_bayes import GaussianNB\n",
    "from sklearn.linear_model import LogisticRegression\n",
    "from sklearn.ensemble import RandomForestClassifier\n",
    "from sklearn.metrics import accuracy_score\n",
    "import scipy.stats as stats"
   ]
  },
  {
   "cell_type": "code",
   "execution_count": 28,
   "metadata": {},
   "outputs": [
    {
     "data": {
      "application/vnd.microsoft.datawrangler.viewer.v0+json": {
       "columns": [
        {
         "name": "index",
         "rawType": "int64",
         "type": "integer"
        },
        {
         "name": "i#clientid",
         "rawType": "int64",
         "type": "integer"
        },
        {
         "name": "income",
         "rawType": "float64",
         "type": "float"
        },
        {
         "name": "age",
         "rawType": "float64",
         "type": "float"
        },
        {
         "name": "loan",
         "rawType": "float64",
         "type": "float"
        },
        {
         "name": "c#default",
         "rawType": "int64",
         "type": "integer"
        }
       ],
       "conversionMethod": "pd.DataFrame",
       "ref": "f60df75a-822d-49fe-81c5-0e2ffe4aea5e",
       "rows": [
        [
         "0",
         "1",
         "66155.9250950813",
         "59.0170150669292",
         "8106.53213128514",
         "0"
        ],
        [
         "1",
         "2",
         "34415.1539658196",
         "48.11715310486029",
         "6564.745017677379",
         "0"
        ],
        [
         "2",
         "3",
         "57317.1700630337",
         "63.10804949188599",
         "8020.953296386469",
         "0"
        ],
        [
         "3",
         "4",
         "42709.534200839706",
         "45.7519723521546",
         "6103.642260140699",
         "0"
        ],
        [
         "4",
         "5",
         "66952.68884534019",
         "18.5843359269202",
         "8770.09923520439",
         "1"
        ]
       ],
       "shape": {
        "columns": 5,
        "rows": 5
       }
      },
      "text/html": [
       "<div>\n",
       "<style scoped>\n",
       "    .dataframe tbody tr th:only-of-type {\n",
       "        vertical-align: middle;\n",
       "    }\n",
       "\n",
       "    .dataframe tbody tr th {\n",
       "        vertical-align: top;\n",
       "    }\n",
       "\n",
       "    .dataframe thead th {\n",
       "        text-align: right;\n",
       "    }\n",
       "</style>\n",
       "<table border=\"1\" class=\"dataframe\">\n",
       "  <thead>\n",
       "    <tr style=\"text-align: right;\">\n",
       "      <th></th>\n",
       "      <th>i#clientid</th>\n",
       "      <th>income</th>\n",
       "      <th>age</th>\n",
       "      <th>loan</th>\n",
       "      <th>c#default</th>\n",
       "    </tr>\n",
       "  </thead>\n",
       "  <tbody>\n",
       "    <tr>\n",
       "      <th>0</th>\n",
       "      <td>1</td>\n",
       "      <td>66155.925095</td>\n",
       "      <td>59.017015</td>\n",
       "      <td>8106.532131</td>\n",
       "      <td>0</td>\n",
       "    </tr>\n",
       "    <tr>\n",
       "      <th>1</th>\n",
       "      <td>2</td>\n",
       "      <td>34415.153966</td>\n",
       "      <td>48.117153</td>\n",
       "      <td>6564.745018</td>\n",
       "      <td>0</td>\n",
       "    </tr>\n",
       "    <tr>\n",
       "      <th>2</th>\n",
       "      <td>3</td>\n",
       "      <td>57317.170063</td>\n",
       "      <td>63.108049</td>\n",
       "      <td>8020.953296</td>\n",
       "      <td>0</td>\n",
       "    </tr>\n",
       "    <tr>\n",
       "      <th>3</th>\n",
       "      <td>4</td>\n",
       "      <td>42709.534201</td>\n",
       "      <td>45.751972</td>\n",
       "      <td>6103.642260</td>\n",
       "      <td>0</td>\n",
       "    </tr>\n",
       "    <tr>\n",
       "      <th>4</th>\n",
       "      <td>5</td>\n",
       "      <td>66952.688845</td>\n",
       "      <td>18.584336</td>\n",
       "      <td>8770.099235</td>\n",
       "      <td>1</td>\n",
       "    </tr>\n",
       "  </tbody>\n",
       "</table>\n",
       "</div>"
      ],
      "text/plain": [
       "   i#clientid        income        age         loan  c#default\n",
       "0           1  66155.925095  59.017015  8106.532131          0\n",
       "1           2  34415.153966  48.117153  6564.745018          0\n",
       "2           3  57317.170063  63.108049  8020.953296          0\n",
       "3           4  42709.534201  45.751972  6103.642260          0\n",
       "4           5  66952.688845  18.584336  8770.099235          1"
      ]
     },
     "execution_count": 28,
     "metadata": {},
     "output_type": "execute_result"
    }
   ],
   "source": [
    "dataset = pd.read_csv(\"data/credit_data.csv\")\n",
    "\n",
    "dataset.head()"
   ]
  },
  {
   "cell_type": "code",
   "execution_count": 29,
   "metadata": {},
   "outputs": [
    {
     "data": {
      "text/plain": [
       "(1997, 5)"
      ]
     },
     "execution_count": 29,
     "metadata": {},
     "output_type": "execute_result"
    }
   ],
   "source": [
    "dataset.dropna(inplace=True)\n",
    "\n",
    "dataset.shape"
   ]
  },
  {
   "cell_type": "code",
   "execution_count": 30,
   "metadata": {},
   "outputs": [],
   "source": [
    "X = dataset[[\"income\", \"age\", \"loan\"]].values\n",
    "y = dataset[\"c#default\"].values"
   ]
  },
  {
   "cell_type": "code",
   "execution_count": 31,
   "metadata": {},
   "outputs": [],
   "source": [
    "results_naive_bayes = []\n",
    "results_logistic_regression = []\n",
    "results_random_forest = []\n",
    "\n",
    "for i in range(30):\n",
    "    X_train, X_test, y_train, y_test = train_test_split(\n",
    "        X, y, test_size=0.2, stratify=y, random_state=i\n",
    "    )\n",
    "\n",
    "    naive_bayes = GaussianNB()\n",
    "    naive_bayes.fit(X_train, y_train)\n",
    "    results_naive_bayes.append(accuracy_score(y_test, naive_bayes.predict(X_test)))\n",
    "\n",
    "    logistic_regression = LogisticRegression()\n",
    "    logistic_regression.fit(X_train, y_train)\n",
    "    results_logistic_regression.append(\n",
    "        accuracy_score(y_test, logistic_regression.predict(X_test))\n",
    "    )\n",
    "\n",
    "    random_forest = RandomForestClassifier()\n",
    "    random_forest.fit(X_train, y_train)\n",
    "    results_random_forest.append(accuracy_score(y_test, random_forest.predict(X_test)))"
   ]
  },
  {
   "cell_type": "markdown",
   "metadata": {},
   "source": [
    "#### Working with the results"
   ]
  },
  {
   "cell_type": "code",
   "execution_count": 32,
   "metadata": {},
   "outputs": [],
   "source": [
    "results_naive_bayes = np.array(results_naive_bayes)\n",
    "results_logistic_regression = np.array(results_logistic_regression)\n",
    "results_random_forest = np.array(results_random_forest)"
   ]
  },
  {
   "cell_type": "code",
   "execution_count": 33,
   "metadata": {},
   "outputs": [
    {
     "name": "stdout",
     "output_type": "stream",
     "text": [
      "Naive Bayes: 0.92425\n",
      "Logistic Regression: 0.9463333333333334\n",
      "Random Forest: 0.9844166666666667\n"
     ]
    }
   ],
   "source": [
    "print(f\"Naive Bayes: {np.mean(results_naive_bayes)}\")\n",
    "print(f\"Logistic Regression: {np.mean(results_logistic_regression)}\")\n",
    "print(f\"Random Forest: {np.mean(results_random_forest)}\")"
   ]
  },
  {
   "cell_type": "code",
   "execution_count": 34,
   "metadata": {},
   "outputs": [
    {
     "name": "stdout",
     "output_type": "stream",
     "text": [
      "Naive Bayes: ModeResult(mode=0.9175, count=5)\n",
      "Logistic Regression: ModeResult(mode=0.9425, count=4)\n",
      "Random Forest: ModeResult(mode=0.9875, count=9)\n"
     ]
    }
   ],
   "source": [
    "print(f\"Naive Bayes: {stats.mode(results_naive_bayes)}\")\n",
    "print(f\"Logistic Regression: {stats.mode(results_logistic_regression)}\")\n",
    "print(f\"Random Forest: {stats.mode(results_random_forest)}\")"
   ]
  },
  {
   "cell_type": "code",
   "execution_count": 35,
   "metadata": {},
   "outputs": [
    {
     "name": "stdout",
     "output_type": "stream",
     "text": [
      "Naive Bayes: 0.925\n",
      "Logistic Regression: 0.945\n",
      "Random Forest: 0.985\n"
     ]
    }
   ],
   "source": [
    "print(f\"Naive Bayes: {np.median(results_naive_bayes)}\")\n",
    "print(f\"Logistic Regression: {np.median(results_logistic_regression)}\")\n",
    "print(f\"Random Forest: {np.median(results_random_forest)}\")"
   ]
  },
  {
   "cell_type": "code",
   "execution_count": 36,
   "metadata": {},
   "outputs": [
    {
     "name": "stdout",
     "output_type": "stream",
     "text": [
      "Naive Bayes: 8.756250000000001e-05\n",
      "Logistic Regression: 9.738888888888882e-05\n",
      "Random Forest: 2.611805555555568e-05\n",
      "\n",
      "Min: 2.611805555555568e-05\n",
      "Max: 9.738888888888882e-05\n"
     ]
    }
   ],
   "source": [
    "print(f\"Naive Bayes: {np.var(results_naive_bayes)}\")\n",
    "print(f\"Logistic Regression: {np.var(results_logistic_regression)}\")\n",
    "print(f\"Random Forest: {np.var(results_random_forest)}\")\n",
    "print(\"\")\n",
    "print(\n",
    "    f\"Min: {np.min([np.var(results_naive_bayes), np.var(results_logistic_regression), np.var(results_random_forest)])}\"\n",
    ")\n",
    "print(\n",
    "    f\"Max: {np.max([np.var(results_naive_bayes), np.var(results_logistic_regression), np.var(results_random_forest)])}\"\n",
    ")"
   ]
  },
  {
   "cell_type": "code",
   "execution_count": 37,
   "metadata": {},
   "outputs": [
    {
     "name": "stdout",
     "output_type": "stream",
     "text": [
      "Naive Bayes: 0.00935748363610645\n",
      "Logistic Regression: 0.009868580895391638\n",
      "Random Forest: 0.005110582702154\n"
     ]
    }
   ],
   "source": [
    "print(f\"Naive Bayes: {np.std(results_naive_bayes)}\")\n",
    "print(f\"Logistic Regression: {np.std(results_logistic_regression)}\")\n",
    "print(f\"Random Forest: {np.std(results_random_forest)}\")"
   ]
  },
  {
   "cell_type": "code",
   "execution_count": 38,
   "metadata": {},
   "outputs": [
    {
     "name": "stdout",
     "output_type": "stream",
     "text": [
      "Naive Bayes:  1.0124407504578252\n",
      "Logistic Regression:  1.042822919555298\n",
      "Random Forest:  0.5191483317180055\n"
     ]
    }
   ],
   "source": [
    "print(f\"Naive Bayes:  {stats.variation(results_naive_bayes) * 100}\")\n",
    "print(f\"Logistic Regression:  {stats.variation(results_logistic_regression) * 100}\")\n",
    "print(f\"Random Forest:  {stats.variation(results_random_forest) * 100}\")"
   ]
  },
  {
   "cell_type": "markdown",
   "metadata": {},
   "source": [
    "### Exercise"
   ]
  },
  {
   "cell_type": "code",
   "execution_count": 39,
   "metadata": {},
   "outputs": [],
   "source": [
    "naive_bayes_cv = cross_val_score(naive_bayes, X, y, cv=10)\n",
    "logistic_regression_cv = cross_val_score(logistic_regression, X, y, cv=10)\n",
    "random_forest_cv = cross_val_score(random_forest, X, y, cv=10)"
   ]
  },
  {
   "cell_type": "code",
   "execution_count": 40,
   "metadata": {},
   "outputs": [
    {
     "name": "stdout",
     "output_type": "stream",
     "text": [
      "Naive Bayes CV: 0.9238743718592964\n",
      "Logistic Regression CV: 0.9459095477386933\n",
      "Random Forest CV: 0.9874748743718593\n"
     ]
    }
   ],
   "source": [
    "print(f\"Naive Bayes CV: {np.mean(naive_bayes_cv)}\")\n",
    "print(f\"Logistic Regression CV: {np.mean(logistic_regression_cv)}\")\n",
    "print(f\"Random Forest CV: {np.mean(random_forest_cv)}\")"
   ]
  },
  {
   "cell_type": "markdown",
   "metadata": {},
   "source": [
    "### Comparasion"
   ]
  },
  {
   "cell_type": "code",
   "execution_count": 41,
   "metadata": {},
   "outputs": [
    {
     "name": "stdout",
     "output_type": "stream",
     "text": [
      "Naive Bayes: 0.92425\n",
      "Logistic Regression: 0.9463333333333334\n",
      "Random Forest: 0.9844166666666667\n",
      "\n",
      "Naive Bayes CV: 0.9238743718592964\n",
      "Logistic Regression CV: 0.9459095477386933\n",
      "Random Forest CV: 0.9874748743718593\n"
     ]
    }
   ],
   "source": [
    "print(f\"Naive Bayes: {np.mean(results_naive_bayes)}\")\n",
    "print(f\"Logistic Regression: {np.mean(results_logistic_regression)}\")\n",
    "print(f\"Random Forest: {np.mean(results_random_forest)}\")\n",
    "print(\"\")\n",
    "print(f\"Naive Bayes CV: {np.mean(naive_bayes_cv)}\")\n",
    "print(f\"Logistic Regression CV: {np.mean(logistic_regression_cv)}\")\n",
    "print(f\"Random Forest CV: {np.mean(random_forest_cv)}\")"
   ]
  },
  {
   "cell_type": "markdown",
   "metadata": {},
   "source": [
    "#### Manual mode"
   ]
  },
  {
   "cell_type": "code",
   "execution_count": 43,
   "metadata": {},
   "outputs": [],
   "source": [
    "result_naive_bayes_cv = []\n",
    "result_logistic_regression_cv = []\n",
    "result_random_forest_cv = []\n",
    "\n",
    "for i in range(30):\n",
    "    kfold = KFold(n_splits=10, shuffle=True, random_state=i)\n",
    "\n",
    "    naive_bayes_cv = cross_val_score(naive_bayes, X, y, cv=kfold)\n",
    "    result_naive_bayes_cv.append(naive_bayes_cv.mean())\n",
    "\n",
    "    logistic_regression_cv = cross_val_score(logistic_regression, X, y, cv=kfold)\n",
    "    result_logistic_regression_cv.append(logistic_regression_cv.mean())\n",
    "\n",
    "    random_forest_cv = cross_val_score(random_forest, X, y, cv=kfold)\n",
    "    result_random_forest_cv.append(random_forest_cv.mean())\n",
    "\n",
    "result_naive_bayes_cv = np.array(result_naive_bayes_cv)\n",
    "result_logistic_regression_cv = np.array(result_logistic_regression_cv)\n",
    "result_random_forest_cv = np.array(result_random_forest_cv)"
   ]
  },
  {
   "cell_type": "code",
   "execution_count": 44,
   "metadata": {},
   "outputs": [
    {
     "name": "stdout",
     "output_type": "stream",
     "text": [
      "Naive Bayes CV: 0.08641071566366061\n",
      "Logistic Regression CV: 0.10802610833013937\n",
      "Random Forest CV: 0.17375612517782416\n"
     ]
    }
   ],
   "source": [
    "print(f\"Naive Bayes CV: {stats.variation(result_naive_bayes_cv) * 100}\")\n",
    "print(f\"Logistic Regression CV: {stats.variation(result_logistic_regression_cv) * 100}\")\n",
    "print(f\"Random Forest CV: {stats.variation(result_random_forest_cv) * 100}\")"
   ]
  }
 ],
 "metadata": {
  "kernelspec": {
   "display_name": "base",
   "language": "python",
   "name": "python3"
  },
  "language_info": {
   "codemirror_mode": {
    "name": "ipython",
    "version": 3
   },
   "file_extension": ".py",
   "mimetype": "text/x-python",
   "name": "python",
   "nbconvert_exporter": "python",
   "pygments_lexer": "ipython3",
   "version": "3.12.2"
  }
 },
 "nbformat": 4,
 "nbformat_minor": 2
}
