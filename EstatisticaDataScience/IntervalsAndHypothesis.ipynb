{
 "cells": [
  {
   "cell_type": "code",
   "execution_count": 2,
   "id": "7644e25b",
   "metadata": {},
   "outputs": [],
   "source": [
    "import numpy as np\n",
    "import pandas as pd\n",
    "from scipy import stats\n",
    "from scipy.stats import norm, t\n",
    "import seaborn as sns\n",
    "import math\n",
    "from sklearn.model_selection import cross_val_score, KFold, train_test_split\n",
    "from sklearn.preprocessing import LabelEncoder\n",
    "from sklearn.metrics import accuracy_score\n",
    "from sklearn.ensemble import RandomForestClassifier\n",
    "from sklearn.linear_model import LogisticRegression\n",
    "from sklearn.naive_bayes import GaussianNB"
   ]
  },
  {
   "cell_type": "code",
   "execution_count": 3,
   "id": "685c96ea",
   "metadata": {},
   "outputs": [],
   "source": [
    "height_data = np.array(\n",
    "    [\n",
    "        126.0,\n",
    "        129.5,\n",
    "        133.0,\n",
    "        133.0,\n",
    "        136.5,\n",
    "        136.5,\n",
    "        140.0,\n",
    "        140.0,\n",
    "        140.0,\n",
    "        140.0,\n",
    "        143.5,\n",
    "        143.5,\n",
    "        143.5,\n",
    "        143.5,\n",
    "        143.5,\n",
    "        143.5,\n",
    "        147.0,\n",
    "        147.0,\n",
    "        147.0,\n",
    "        147.0,\n",
    "        147.0,\n",
    "        147.0,\n",
    "        147.0,\n",
    "        150.5,\n",
    "        150.5,\n",
    "        150.5,\n",
    "        150.5,\n",
    "        150.5,\n",
    "        150.5,\n",
    "        150.5,\n",
    "        150.5,\n",
    "        154.0,\n",
    "        154.0,\n",
    "        154.0,\n",
    "        154.0,\n",
    "        154.0,\n",
    "        154.0,\n",
    "        154.0,\n",
    "        154.0,\n",
    "        154.0,\n",
    "        157.5,\n",
    "        157.5,\n",
    "        157.5,\n",
    "        157.5,\n",
    "        157.5,\n",
    "        157.5,\n",
    "        157.5,\n",
    "        157.5,\n",
    "        157.5,\n",
    "        157.5,\n",
    "        161.0,\n",
    "        161.0,\n",
    "        161.0,\n",
    "        161.0,\n",
    "        161.0,\n",
    "        161.0,\n",
    "        161.0,\n",
    "        161.0,\n",
    "        161.0,\n",
    "        161.0,\n",
    "        164.5,\n",
    "        164.5,\n",
    "        164.5,\n",
    "        164.5,\n",
    "        164.5,\n",
    "        164.5,\n",
    "        164.5,\n",
    "        164.5,\n",
    "        164.5,\n",
    "        168.0,\n",
    "        168.0,\n",
    "        168.0,\n",
    "        168.0,\n",
    "        168.0,\n",
    "        168.0,\n",
    "        168.0,\n",
    "        168.0,\n",
    "        171.5,\n",
    "        171.5,\n",
    "        171.5,\n",
    "        171.5,\n",
    "        171.5,\n",
    "        171.5,\n",
    "        171.5,\n",
    "        175.0,\n",
    "        175.0,\n",
    "        175.0,\n",
    "        175.0,\n",
    "        175.0,\n",
    "        175.0,\n",
    "        178.5,\n",
    "        178.5,\n",
    "        178.5,\n",
    "        178.5,\n",
    "        182.0,\n",
    "        182.0,\n",
    "        185.5,\n",
    "        185.5,\n",
    "        189.0,\n",
    "        192.5,\n",
    "    ]\n",
    ")"
   ]
  },
  {
   "cell_type": "code",
   "execution_count": 4,
   "id": "703f2ea6",
   "metadata": {},
   "outputs": [
    {
     "data": {
      "text/plain": [
       "(100, 159.25, 13.65, 0.025, 1.959963984540054)"
      ]
     },
     "execution_count": 4,
     "metadata": {},
     "output_type": "execute_result"
    }
   ],
   "source": [
    "n_height = len(height_data)\n",
    "mean_height = np.mean(height_data)\n",
    "std_height = np.std(height_data)\n",
    "alpha = 0.05 / 2\n",
    "z = norm.ppf(1 - alpha)\n",
    "\n",
    "n_height, mean_height, std_height, alpha, z"
   ]
  },
  {
   "cell_type": "code",
   "execution_count": 5,
   "id": "3b825d87",
   "metadata": {},
   "outputs": [
    {
     "data": {
      "text/plain": [
       "(156.57464916110283, 161.92535083889717)"
      ]
     },
     "execution_count": 5,
     "metadata": {},
     "output_type": "execute_result"
    }
   ],
   "source": [
    "lower_x = mean_height - z * (std_height / math.sqrt(n_height))\n",
    "\n",
    "upper_x = mean_height + z * (std_height / math.sqrt(n_height))\n",
    "\n",
    "lower_x, upper_x"
   ]
  },
  {
   "cell_type": "code",
   "execution_count": 6,
   "id": "fc6187b2",
   "metadata": {},
   "outputs": [
    {
     "data": {
      "text/plain": [
       "2.675350838897174"
      ]
     },
     "execution_count": 6,
     "metadata": {},
     "output_type": "execute_result"
    }
   ],
   "source": [
    "# Calculate the error\n",
    "error = abs(mean_height - lower_x)\n",
    "error"
   ]
  },
  {
   "cell_type": "code",
   "execution_count": 7,
   "id": "89dec42e",
   "metadata": {},
   "outputs": [
    {
     "data": {
      "text/plain": [
       "(1.3718766178288244, 1.3718766178288246)"
      ]
     },
     "execution_count": 7,
     "metadata": {},
     "output_type": "execute_result"
    }
   ],
   "source": [
    "stats.sem(height_data), std_height / math.sqrt(n_height - 1)"
   ]
  },
  {
   "cell_type": "code",
   "execution_count": 8,
   "id": "e9692a25",
   "metadata": {},
   "outputs": [
    {
     "data": {
      "text/plain": [
       "<seaborn.axisgrid.FacetGrid at 0x7fb5050a84d0>"
      ]
     },
     "execution_count": 8,
     "metadata": {},
     "output_type": "execute_result"
    },
    {
     "data": {
      "image/png": "[encoded data removed]",
      "text/plain": [
       "<Figure size 500x500 with 1 Axes>"
      ]
     },
     "metadata": {},
     "output_type": "display_data"
    }
   ],
   "source": [
    "sns.displot(height_data, kde=True)"
   ]
  },
  {
   "cell_type": "code",
   "execution_count": 9,
   "id": "0241b43a",
   "metadata": {},
   "outputs": [
    {
     "data": {
      "text/plain": [
       "((156.5611712378229, 161.9388287621771), 2.68882876217711)"
      ]
     },
     "execution_count": 9,
     "metadata": {},
     "output_type": "execute_result"
    }
   ],
   "source": [
    "interval = norm.interval(0.95, mean_height, stats.sem(height_data))\n",
    "\n",
    "error_margin = (interval[1] - interval[0]) / 2\n",
    "\n",
    "interval, error_margin"
   ]
  },
  {
   "cell_type": "code",
   "execution_count": 10,
   "id": "fdfa82c5",
   "metadata": {},
   "outputs": [
    {
     "data": {
      "text/plain": [
       "((155.71628000694295, 162.78371999305705), 3.5337199930570478)"
      ]
     },
     "execution_count": 10,
     "metadata": {},
     "output_type": "execute_result"
    }
   ],
   "source": [
    "interval = norm.interval(0.99, mean_height, stats.sem(height_data))\n",
    "\n",
    "error_margin = (interval[1] - interval[0]) / 2\n",
    "\n",
    "interval, error_margin"
   ]
  },
  {
   "cell_type": "markdown",
   "id": "7a15f36c",
   "metadata": {},
   "source": [
    "### Exercise"
   ]
  },
  {
   "cell_type": "code",
   "execution_count": 11,
   "id": "aa94123f",
   "metadata": {},
   "outputs": [
    {
     "data": {
      "text/plain": [
       "(30, 70.14025666666666, 7.899834598255137, 0.025, 1.959963984540054)"
      ]
     },
     "execution_count": 11,
     "metadata": {},
     "output_type": "execute_result"
    }
   ],
   "source": [
    "salary_data = np.array(\n",
    "    [\n",
    "        82.1191,\n",
    "        72.8014,\n",
    "        79.1266,\n",
    "        71.3552,\n",
    "        59.192,\n",
    "        79.1952,\n",
    "        56.518,\n",
    "        70.3752,\n",
    "        73.5364,\n",
    "        61.0407,\n",
    "        64.3902,\n",
    "        66.4076,\n",
    "        63.5215,\n",
    "        71.9936,\n",
    "        60.1489,\n",
    "        78.5932,\n",
    "        76.0459,\n",
    "        67.7726,\n",
    "        64.6149,\n",
    "        80.1948,\n",
    "        76.7998,\n",
    "        76.1831,\n",
    "        80.7065,\n",
    "        62.4953,\n",
    "        57.204,\n",
    "        62.5408,\n",
    "        80.0982,\n",
    "        63.287,\n",
    "        66.5826,\n",
    "        79.3674,\n",
    "    ]\n",
    ")\n",
    "\n",
    "n_salary = len(salary_data)\n",
    "mean_salary = np.mean(salary_data)\n",
    "std_salary = np.std(salary_data)\n",
    "alpha = 0.05 / 2\n",
    "z = norm.ppf(1 - alpha)\n",
    "\n",
    "n_salary, mean_salary, std_salary, alpha, z"
   ]
  },
  {
   "cell_type": "code",
   "execution_count": 12,
   "id": "e042f179",
   "metadata": {},
   "outputs": [
    {
     "data": {
      "text/plain": [
       "((67.26506308375339, 73.01545024957993), 2.875193582913269)"
      ]
     },
     "execution_count": 12,
     "metadata": {},
     "output_type": "execute_result"
    }
   ],
   "source": [
    "interval = norm.interval(0.95, mean_salary, stats.sem(salary_data))\n",
    "\n",
    "error_margin = (interval[1] - interval[0]) / 2\n",
    "\n",
    "interval, error_margin"
   ]
  },
  {
   "cell_type": "code",
   "execution_count": 13,
   "id": "acb7478b",
   "metadata": {},
   "outputs": [
    {
     "data": {
      "text/plain": [
       "((67.19040994830424, 73.09010338502908), 2.949846718362423)"
      ]
     },
     "execution_count": 13,
     "metadata": {},
     "output_type": "execute_result"
    }
   ],
   "source": [
    "interval = t.interval(0.95, n_salary - 1, mean_salary, stats.sem(salary_data, ddof=0))\n",
    "\n",
    "error_margin = (interval[1] - interval[0]) / 2\n",
    "\n",
    "interval, error_margin"
   ]
  },
  {
   "cell_type": "markdown",
   "id": "d2068a14",
   "metadata": {},
   "source": [
    "## Accuracy"
   ]
  },
  {
   "cell_type": "code",
   "execution_count": 14,
   "id": "7d3e4b7a",
   "metadata": {},
   "outputs": [
    {
     "data": {
      "application/vnd.microsoft.datawrangler.viewer.v0+json": {
       "columns": [
        {
         "name": "index",
         "rawType": "int64",
         "type": "integer"
        },
        {
         "name": "i#clientid",
         "rawType": "int64",
         "type": "integer"
        },
        {
         "name": "income",
         "rawType": "float64",
         "type": "float"
        },
        {
         "name": "age",
         "rawType": "float64",
         "type": "float"
        },
        {
         "name": "loan",
         "rawType": "float64",
         "type": "float"
        },
        {
         "name": "c#default",
         "rawType": "int64",
         "type": "integer"
        }
       ],
       "conversionMethod": "pd.DataFrame",
       "ref": "e75b4359-c612-4163-8ba3-d1ea95a9fd23",
       "rows": [
        [
         "0",
         "1",
         "66155.9250950813",
         "59.0170150669292",
         "8106.53213128514",
         "0"
        ],
        [
         "1",
         "2",
         "34415.1539658196",
         "48.11715310486029",
         "6564.745017677379",
         "0"
        ],
        [
         "2",
         "3",
         "57317.1700630337",
         "63.10804949188599",
         "8020.953296386469",
         "0"
        ],
        [
         "3",
         "4",
         "42709.534200839706",
         "45.7519723521546",
         "6103.642260140699",
         "0"
        ],
        [
         "4",
         "5",
         "66952.68884534019",
         "18.5843359269202",
         "8770.09923520439",
         "1"
        ]
       ],
       "shape": {
        "columns": 5,
        "rows": 5
       }
      },
      "text/html": [
       "<div>\n",
       "<style scoped>\n",
       "    .dataframe tbody tr th:only-of-type {\n",
       "        vertical-align: middle;\n",
       "    }\n",
       "\n",
       "    .dataframe tbody tr th {\n",
       "        vertical-align: top;\n",
       "    }\n",
       "\n",
       "    .dataframe thead th {\n",
       "        text-align: right;\n",
       "    }\n",
       "</style>\n",
       "<table border=\"1\" class=\"dataframe\">\n",
       "  <thead>\n",
       "    <tr style=\"text-align: right;\">\n",
       "      <th></th>\n",
       "      <th>i#clientid</th>\n",
       "      <th>income</th>\n",
       "      <th>age</th>\n",
       "      <th>loan</th>\n",
       "      <th>c#default</th>\n",
       "    </tr>\n",
       "  </thead>\n",
       "  <tbody>\n",
       "    <tr>\n",
       "      <th>0</th>\n",
       "      <td>1</td>\n",
       "      <td>66155.925095</td>\n",
       "      <td>59.017015</td>\n",
       "      <td>8106.532131</td>\n",
       "      <td>0</td>\n",
       "    </tr>\n",
       "    <tr>\n",
       "      <th>1</th>\n",
       "      <td>2</td>\n",
       "      <td>34415.153966</td>\n",
       "      <td>48.117153</td>\n",
       "      <td>6564.745018</td>\n",
       "      <td>0</td>\n",
       "    </tr>\n",
       "    <tr>\n",
       "      <th>2</th>\n",
       "      <td>3</td>\n",
       "      <td>57317.170063</td>\n",
       "      <td>63.108049</td>\n",
       "      <td>8020.953296</td>\n",
       "      <td>0</td>\n",
       "    </tr>\n",
       "    <tr>\n",
       "      <th>3</th>\n",
       "      <td>4</td>\n",
       "      <td>42709.534201</td>\n",
       "      <td>45.751972</td>\n",
       "      <td>6103.642260</td>\n",
       "      <td>0</td>\n",
       "    </tr>\n",
       "    <tr>\n",
       "      <th>4</th>\n",
       "      <td>5</td>\n",
       "      <td>66952.688845</td>\n",
       "      <td>18.584336</td>\n",
       "      <td>8770.099235</td>\n",
       "      <td>1</td>\n",
       "    </tr>\n",
       "  </tbody>\n",
       "</table>\n",
       "</div>"
      ],
      "text/plain": [
       "   i#clientid        income        age         loan  c#default\n",
       "0           1  66155.925095  59.017015  8106.532131          0\n",
       "1           2  34415.153966  48.117153  6564.745018          0\n",
       "2           3  57317.170063  63.108049  8020.953296          0\n",
       "3           4  42709.534201  45.751972  6103.642260          0\n",
       "4           5  66952.688845  18.584336  8770.099235          1"
      ]
     },
     "execution_count": 14,
     "metadata": {},
     "output_type": "execute_result"
    }
   ],
   "source": [
    "credit_dataset = pd.read_csv(\"data/credit_data.csv\")\n",
    "\n",
    "credit_dataset.dropna(inplace=True)\n",
    "\n",
    "credit_dataset.head()"
   ]
  },
  {
   "cell_type": "code",
   "execution_count": 15,
   "id": "3e003477",
   "metadata": {},
   "outputs": [
    {
     "data": {
      "text/plain": [
       "array([[6.61559251e+04, 5.90170151e+01, 8.10653213e+03],\n",
       "       [3.44151540e+04, 4.81171531e+01, 6.56474502e+03],\n",
       "       [5.73171701e+04, 6.31080495e+01, 8.02095330e+03],\n",
       "       ...,\n",
       "       [4.43114493e+04, 2.80171669e+01, 5.52278669e+03],\n",
       "       [4.37560566e+04, 6.39717958e+01, 1.62272260e+03],\n",
       "       [6.94365796e+04, 5.61526170e+01, 7.37883360e+03]])"
      ]
     },
     "execution_count": 15,
     "metadata": {},
     "output_type": "execute_result"
    }
   ],
   "source": [
    "X = credit_dataset.iloc[:, 1:4].values\n",
    "\n",
    "X"
   ]
  },
  {
   "cell_type": "code",
   "execution_count": 16,
   "id": "7aabb1bb",
   "metadata": {},
   "outputs": [
    {
     "data": {
      "text/plain": [
       "array([0, 0, 0, ..., 1, 0, 0])"
      ]
     },
     "execution_count": 16,
     "metadata": {},
     "output_type": "execute_result"
    }
   ],
   "source": [
    "y = np.array(credit_dataset.iloc[:, 4].values)\n",
    "\n",
    "y"
   ]
  },
  {
   "cell_type": "code",
   "execution_count": 17,
   "id": "9dc68996",
   "metadata": {},
   "outputs": [],
   "source": [
    "results_naive_bayes_cv = []\n",
    "results_naive_bayes_cv_300 = []\n",
    "results_logistic_cv = []\n",
    "results_logistic_cv_300 = []\n",
    "results_random_forest_cv = []\n",
    "results_random_forest_cv_300 = []\n",
    "\n",
    "for i in range(30):\n",
    "    kfold = KFold(n_splits=10, shuffle=True, random_state=i)\n",
    "\n",
    "    naive_bayes_model = GaussianNB()\n",
    "    scores = cross_val_score(naive_bayes_model, X, y, cv=kfold)\n",
    "    results_naive_bayes_cv_300.append(scores)\n",
    "    results_naive_bayes_cv.append(scores.mean())\n",
    "\n",
    "    logistic_model = LogisticRegression()\n",
    "    scores = cross_val_score(logistic_model, X, y, cv=kfold)\n",
    "    results_logistic_cv_300.append(scores)\n",
    "    results_logistic_cv.append(scores.mean())\n",
    "\n",
    "    random_forest_model = RandomForestClassifier()\n",
    "    scores = cross_val_score(random_forest_model, X, y, cv=kfold)\n",
    "    results_random_forest_cv_300.append(scores)\n",
    "    results_random_forest_cv.append(scores.mean())"
   ]
  },
  {
   "cell_type": "code",
   "execution_count": 18,
   "id": "5c21c62c",
   "metadata": {},
   "outputs": [
    {
     "data": {
      "text/plain": [
       "(30, (30, 10))"
      ]
     },
     "execution_count": 18,
     "metadata": {},
     "output_type": "execute_result"
    }
   ],
   "source": [
    "len(results_naive_bayes_cv), np.asarray(results_logistic_cv_300).shape"
   ]
  },
  {
   "cell_type": "code",
   "execution_count": null,
   "id": "68de7ffb",
   "metadata": {},
   "outputs": [],
   "source": [
    "results_naive_bayes_cv = np.array(results_naive_bayes_cv)\n",
    "results_naive_bayes_cv_300 = np.array(\n",
    "    np.asarray(results_naive_bayes_cv_300).reshape(-1)\n",
    ")\n",
    "results_logistic_cv = np.array(results_logistic_cv)\n",
    "results_logistic_cv_300 = np.array(np.asarray(results_logistic_cv_300).reshape(-1))\n",
    "results_random_forest_cv = np.array(results_random_forest_cv)\n",
    "results_random_forest_cv_300 = np.array(\n",
    "    np.asarray(results_random_forest_cv_300).reshape(-1)\n",
    ")"
   ]
  },
  {
   "cell_type": "code",
   "execution_count": 23,
   "id": "86cf4d50",
   "metadata": {},
   "outputs": [
    {
     "data": {
      "text/plain": [
       "<seaborn.axisgrid.FacetGrid at 0x7fb5002e26c0>"
      ]
     },
     "execution_count": 23,
     "metadata": {},
     "output_type": "execute_result"
    },
    {
     "data": {
      "image/png": "[encoded data removed]",
      "text/plain": [
       "<Figure size 500x500 with 1 Axes>"
      ]
     },
     "metadata": {},
     "output_type": "display_data"
    }
   ],
   "source": [
    "sns.displot(results_naive_bayes_cv, kde=True)"
   ]
  },
  {
   "cell_type": "code",
   "execution_count": 24,
   "id": "501aa3b4",
   "metadata": {},
   "outputs": [
    {
     "data": {
      "text/plain": [
       "<seaborn.axisgrid.FacetGrid at 0x7fb500086540>"
      ]
     },
     "execution_count": 24,
     "metadata": {},
     "output_type": "execute_result"
    },
    {
     "data": {
      "image/png": "[encoded data removed]",
      "text/plain": [
       "<Figure size 500x500 with 1 Axes>"
      ]
     },
     "metadata": {},
     "output_type": "display_data"
    }
   ],
   "source": [
    "sns.displot(results_naive_bayes_cv_300, kde=True)"
   ]
  },
  {
   "cell_type": "code",
   "execution_count": 25,
   "id": "76326988",
   "metadata": {},
   "outputs": [
    {
     "data": {
      "text/plain": [
       "<seaborn.axisgrid.FacetGrid at 0x7fb500087ad0>"
      ]
     },
     "execution_count": 25,
     "metadata": {},
     "output_type": "execute_result"
    },
    {
     "data": {
      "image/png": "[encoded data removed]",
      "text/plain": [
       "<Figure size 500x500 with 1 Axes>"
      ]
     },
     "metadata": {},
     "output_type": "display_data"
    }
   ],
   "source": [
    "sns.displot(results_logistic_cv, kde=True)"
   ]
  },
  {
   "cell_type": "code",
   "execution_count": 26,
   "id": "38f4d9ff",
   "metadata": {},
   "outputs": [
    {
     "data": {
      "text/plain": [
       "<seaborn.axisgrid.FacetGrid at 0x7fb500291df0>"
      ]
     },
     "execution_count": 26,
     "metadata": {},
     "output_type": "execute_result"
    },
    {
     "data": {
      "image/png": "[encoded data removed]",
      "text/plain": [
       "<Figure size 500x500 with 1 Axes>"
      ]
     },
     "metadata": {},
     "output_type": "display_data"
    }
   ],
   "source": [
    "sns.displot(results_logistic_cv_300, kde=True)"
   ]
  },
  {
   "cell_type": "code",
   "execution_count": 27,
   "id": "59a231a6",
   "metadata": {},
   "outputs": [
    {
     "data": {
      "text/plain": [
       "<seaborn.axisgrid.FacetGrid at 0x7fb4f2757a10>"
      ]
     },
     "execution_count": 27,
     "metadata": {},
     "output_type": "execute_result"
    },
    {
     "data": {
      "image/png": "[encoded data removed]",
      "text/plain": [
       "<Figure size 500x500 with 1 Axes>"
      ]
     },
     "metadata": {},
     "output_type": "display_data"
    }
   ],
   "source": [
    "sns.displot(results_random_forest_cv, kde=True)"
   ]
  },
  {
   "cell_type": "code",
   "execution_count": 28,
   "id": "5dca5190",
   "metadata": {},
   "outputs": [
    {
     "data": {
      "text/plain": [
       "<seaborn.axisgrid.FacetGrid at 0x7fb4f2770fb0>"
      ]
     },
     "execution_count": 28,
     "metadata": {},
     "output_type": "execute_result"
    },
    {
     "data": {
      "image/png": "[encoded data removed]",
      "text/plain": [
       "<Figure size 500x500 with 1 Axes>"
      ]
     },
     "metadata": {},
     "output_type": "display_data"
    }
   ],
   "source": [
    "sns.displot(results_random_forest_cv_300, kde=True)"
   ]
  },
  {
   "cell_type": "code",
   "execution_count": 29,
   "id": "4d9212c2",
   "metadata": {},
   "outputs": [
    {
     "data": {
      "text/plain": [
       "(0.9249359296482411, 0.9448667504187604, 0.9868968174204354)"
      ]
     },
     "execution_count": 29,
     "metadata": {},
     "output_type": "execute_result"
    }
   ],
   "source": [
    "results_naive_bayes_cv.mean(), results_logistic_cv.mean(), results_random_forest_cv.mean()"
   ]
  },
  {
   "cell_type": "code",
   "execution_count": null,
   "id": "6539a173",
   "metadata": {},
   "outputs": [
    {
     "data": {
      "text/plain": [
       "(0.08641071566366061, 0.10802610833013937, 0.10802610833013937)"
      ]
     },
     "execution_count": 30,
     "metadata": {},
     "output_type": "execute_result"
    }
   ],
   "source": [
    "stats.variation(results_naive_bayes_cv) * 100, stats.variation(\n",
    "    results_logistic_cv\n",
    ") * 100, stats.variation(results_logistic_cv) * 100"
   ]
  },
  {
   "cell_type": "markdown",
   "id": "6a7953e6",
   "metadata": {},
   "source": [
    "#### Confidence intervals"
   ]
  },
  {
   "cell_type": "markdown",
   "id": "1bc65c24",
   "metadata": {},
   "source": [
    "##### Naive bayes"
   ]
  },
  {
   "cell_type": "code",
   "execution_count": null,
   "id": "664b3fb5",
   "metadata": {},
   "outputs": [
    {
     "data": {
      "text/plain": [
       "((0.9246374871248957, 0.9252343721715865), 0.0196323782471739)"
      ]
     },
     "execution_count": 35,
     "metadata": {},
     "output_type": "execute_result"
    }
   ],
   "source": [
    "intervals_naive_bayes_t = t.interval(\n",
    "    0.95,\n",
    "    len(results_logistic_cv) - 1,\n",
    "    results_naive_bayes_cv.mean(),\n",
    "    stats.sem(results_naive_bayes_cv, ddof=0),\n",
    ")\n",
    "\n",
    "intervals_naive_bayes_t, abs(results_logistic_cv.mean() - intervals_naive_bayes_t[1])"
   ]
  },
  {
   "cell_type": "code",
   "execution_count": null,
   "id": "315f4174",
   "metadata": {},
   "outputs": [
    {
     "data": {
      "text/plain": [
       "((0.9229367297175617, 0.9269351295789205), 0.0179316208398399)"
      ]
     },
     "execution_count": 36,
     "metadata": {},
     "output_type": "execute_result"
    }
   ],
   "source": [
    "intervals_naive_bayes_n = norm.interval(\n",
    "    0.95,\n",
    "    results_naive_bayes_cv_300.mean(),\n",
    "    stats.sem(results_naive_bayes_cv_300, ddof=0),\n",
    ")\n",
    "\n",
    "intervals_naive_bayes_n, abs(\n",
    "    results_logistic_cv_300.mean() - intervals_naive_bayes_n[1]\n",
    ")"
   ]
  },
  {
   "cell_type": "markdown",
   "id": "cfadcc66",
   "metadata": {},
   "source": [
    "##### Logistic regression"
   ]
  },
  {
   "cell_type": "code",
   "execution_count": 37,
   "id": "1b72fa0e",
   "metadata": {},
   "outputs": [
    {
     "data": {
      "text/plain": [
       "((0.9444856137371328, 0.9452478871003881), 0.00038113668162764736)"
      ]
     },
     "execution_count": 37,
     "metadata": {},
     "output_type": "execute_result"
    }
   ],
   "source": [
    "intervals_logistic_t = t.interval(\n",
    "    0.95,\n",
    "    len(results_logistic_cv) - 1,\n",
    "    results_logistic_cv.mean(),\n",
    "    stats.sem(results_logistic_cv, ddof=0),\n",
    ")\n",
    "\n",
    "intervals_logistic_t, abs(results_logistic_cv.mean() - intervals_logistic_t[1])"
   ]
  },
  {
   "cell_type": "code",
   "execution_count": 38,
   "id": "912bb99b",
   "metadata": {},
   "outputs": [
    {
     "data": {
      "text/plain": [
       "((0.9431342903430324, 0.9465992104944885), 0.0017324600757280262)"
      ]
     },
     "execution_count": 38,
     "metadata": {},
     "output_type": "execute_result"
    }
   ],
   "source": [
    "intervals_logistic_n = norm.interval(\n",
    "    0.95,\n",
    "    results_logistic_cv_300.mean(),\n",
    "    stats.sem(results_logistic_cv_300, ddof=0),\n",
    ")\n",
    "\n",
    "intervals_logistic_n, abs(results_logistic_cv_300.mean() - intervals_logistic_n[1])"
   ]
  },
  {
   "cell_type": "markdown",
   "id": "434b8e34",
   "metadata": {},
   "source": [
    "##### Random Forest"
   ]
  },
  {
   "cell_type": "code",
   "execution_count": 39,
   "id": "1fed49ac",
   "metadata": {},
   "outputs": [
    {
     "data": {
      "text/plain": [
       "((0.986394625310819, 0.9873990095300519), 0.0005021921096164395)"
      ]
     },
     "execution_count": 39,
     "metadata": {},
     "output_type": "execute_result"
    }
   ],
   "source": [
    "intervals_random_forest_t = t.interval(\n",
    "    0.95,\n",
    "    len(results_random_forest_cv) - 1,\n",
    "    results_random_forest_cv.mean(),\n",
    "    stats.sem(results_random_forest_cv, ddof=0),\n",
    ")\n",
    "\n",
    "intervals_random_forest_t, abs(\n",
    "    results_random_forest_cv.mean() - intervals_random_forest_t[1]\n",
    ")"
   ]
  },
  {
   "cell_type": "code",
   "execution_count": 40,
   "id": "b1038010",
   "metadata": {},
   "outputs": [
    {
     "data": {
      "text/plain": [
       "((0.9860633836809691, 0.9877302511599022), 0.0008334337394665381)"
      ]
     },
     "execution_count": 40,
     "metadata": {},
     "output_type": "execute_result"
    }
   ],
   "source": [
    "intervals_random_forest_n = norm.interval(\n",
    "    0.95,\n",
    "    results_random_forest_cv_300.mean(),\n",
    "    stats.sem(results_random_forest_cv_300, ddof=0),\n",
    ")\n",
    "\n",
    "intervals_random_forest_n, abs(\n",
    "    results_random_forest_cv_300.mean() - intervals_random_forest_n[1]\n",
    ")"
   ]
  },
  {
   "cell_type": "code",
   "execution_count": 41,
   "id": "132bf887",
   "metadata": {},
   "outputs": [
    {
     "name": "stdout",
     "output_type": "stream",
     "text": [
      "Random Forest Classifier Accuracy: 98.649% (0.837%)\n"
     ]
    }
   ],
   "source": [
    "kfold = KFold(n_splits=10, shuffle=True)\n",
    "\n",
    "random_forest_model = RandomForestClassifier()\n",
    "\n",
    "scores = cross_val_score(random_forest_model, X, y, cv=kfold)\n",
    "\n",
    "print(\n",
    "    \"Random Forest Classifier Accuracy: %.3f%% (%.3f%%)\"\n",
    "    % (scores.mean() * 100, scores.std() * 100)\n",
    ")"
   ]
  }
 ],
 "metadata": {
  "kernelspec": {
   "display_name": "base",
   "language": "python",
   "name": "python3"
  },
  "language_info": {
   "codemirror_mode": {
    "name": "ipython",
    "version": 3
   },
   "file_extension": ".py",
   "mimetype": "text/x-python",
   "name": "python",
   "nbconvert_exporter": "python",
   "pygments_lexer": "ipython3",
   "version": "3.12.2"
  }
 },
 "nbformat": 4,
 "nbformat_minor": 5
}
