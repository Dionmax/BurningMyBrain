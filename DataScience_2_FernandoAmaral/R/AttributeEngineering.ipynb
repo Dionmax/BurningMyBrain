{
 "cells": [
  {
   "cell_type": "code",
   "execution_count": 29,
   "metadata": {
    "vscode": {
     "languageId": "r"
    }
   },
   "outputs": [],
   "source": [
    "# install.packages(\"lubridate\")\n",
    "# install.packages(\"mltools\")\n",
    "# install.packages(\"data.table\")\n",
    "\n",
    "library(lubridate)\n",
    "library(mltools)\n",
    "library(data.table)\n"
   ]
  },
  {
   "cell_type": "code",
   "execution_count": 30,
   "metadata": {
    "vscode": {
     "languageId": "r"
    }
   },
   "outputs": [
    {
     "data": {
      "text/html": [
       "<table class=\"dataframe\">\n",
       "<caption>A data.frame: 6 × 8</caption>\n",
       "<thead>\n",
       "\t<tr><th></th><th scope=col>SALDO_ATUAL</th><th scope=col>RESIDENCIADESDE</th><th scope=col>IDADE</th><th scope=col>OUTROSPLANOSPGTO</th><th scope=col>DATA</th><th scope=col>ESTADOCIVIL</th><th scope=col>PROPOSITO</th><th scope=col>CLASSE</th></tr>\n",
       "\t<tr><th></th><th scope=col>&lt;dbl&gt;</th><th scope=col>&lt;int&gt;</th><th scope=col>&lt;int&gt;</th><th scope=col>&lt;fct&gt;</th><th scope=col>&lt;fct&gt;</th><th scope=col>&lt;fct&gt;</th><th scope=col>&lt;fct&gt;</th><th scope=col>&lt;fct&gt;</th></tr>\n",
       "</thead>\n",
       "<tbody>\n",
       "\t<tr><th scope=row>1</th><td>1169</td><td>4</td><td>67</td><td>nenhum</td><td>01/01/2019</td><td>masculino solteiro</td><td>radio/tv           </td><td>bom </td></tr>\n",
       "\t<tr><th scope=row>2</th><td>5951</td><td>2</td><td>22</td><td>nenhum</td><td>01/01/2020</td><td>fem div/cas       </td><td>radio/tv           </td><td>ruim</td></tr>\n",
       "\t<tr><th scope=row>3</th><td>2096</td><td>3</td><td>49</td><td>nenhum</td><td>02/01/2020</td><td>masculino solteiro</td><td>educação           </td><td>bom </td></tr>\n",
       "\t<tr><th scope=row>4</th><td>7882</td><td>4</td><td>45</td><td>nenhum</td><td>02/01/2019</td><td>masculino solteiro</td><td>mobilia/equipamento</td><td>bom </td></tr>\n",
       "\t<tr><th scope=row>5</th><td>4870</td><td>4</td><td>53</td><td>nenhum</td><td>03/01/2018</td><td>masculino solteiro</td><td>carro novo         </td><td>ruim</td></tr>\n",
       "\t<tr><th scope=row>6</th><td>9055</td><td>4</td><td>35</td><td>nenhum</td><td>04/01/2020</td><td>masculino solteiro</td><td>educação           </td><td>bom </td></tr>\n",
       "</tbody>\n",
       "</table>\n"
      ],
      "text/latex": [
       "A data.frame: 6 × 8\n",
       "\\begin{tabular}{r|llllllll}\n",
       "  & SALDO\\_ATUAL & RESIDENCIADESDE & IDADE & OUTROSPLANOSPGTO & DATA & ESTADOCIVIL & PROPOSITO & CLASSE\\\\\n",
       "  & <dbl> & <int> & <int> & <fct> & <fct> & <fct> & <fct> & <fct>\\\\\n",
       "\\hline\n",
       "\t1 & 1169 & 4 & 67 & nenhum & 01/01/2019 & masculino solteiro & radio/tv            & bom \\\\\n",
       "\t2 & 5951 & 2 & 22 & nenhum & 01/01/2020 & fem div/cas        & radio/tv            & ruim\\\\\n",
       "\t3 & 2096 & 3 & 49 & nenhum & 02/01/2020 & masculino solteiro & educação            & bom \\\\\n",
       "\t4 & 7882 & 4 & 45 & nenhum & 02/01/2019 & masculino solteiro & mobilia/equipamento & bom \\\\\n",
       "\t5 & 4870 & 4 & 53 & nenhum & 03/01/2018 & masculino solteiro & carro novo          & ruim\\\\\n",
       "\t6 & 9055 & 4 & 35 & nenhum & 04/01/2020 & masculino solteiro & educação            & bom \\\\\n",
       "\\end{tabular}\n"
      ],
      "text/markdown": [
       "\n",
       "A data.frame: 6 × 8\n",
       "\n",
       "| <!--/--> | SALDO_ATUAL &lt;dbl&gt; | RESIDENCIADESDE &lt;int&gt; | IDADE &lt;int&gt; | OUTROSPLANOSPGTO &lt;fct&gt; | DATA &lt;fct&gt; | ESTADOCIVIL &lt;fct&gt; | PROPOSITO &lt;fct&gt; | CLASSE &lt;fct&gt; |\n",
       "|---|---|---|---|---|---|---|---|---|\n",
       "| 1 | 1169 | 4 | 67 | nenhum | 01/01/2019 | masculino solteiro | radio/tv            | bom  |\n",
       "| 2 | 5951 | 2 | 22 | nenhum | 01/01/2020 | fem div/cas        | radio/tv            | ruim |\n",
       "| 3 | 2096 | 3 | 49 | nenhum | 02/01/2020 | masculino solteiro | educação            | bom  |\n",
       "| 4 | 7882 | 4 | 45 | nenhum | 02/01/2019 | masculino solteiro | mobilia/equipamento | bom  |\n",
       "| 5 | 4870 | 4 | 53 | nenhum | 03/01/2018 | masculino solteiro | carro novo          | ruim |\n",
       "| 6 | 9055 | 4 | 35 | nenhum | 04/01/2020 | masculino solteiro | educação            | bom  |\n",
       "\n"
      ],
      "text/plain": [
       "  SALDO_ATUAL RESIDENCIADESDE IDADE OUTROSPLANOSPGTO DATA      \n",
       "1 1169        4               67    nenhum           01/01/2019\n",
       "2 5951        2               22    nenhum           01/01/2020\n",
       "3 2096        3               49    nenhum           02/01/2020\n",
       "4 7882        4               45    nenhum           02/01/2019\n",
       "5 4870        4               53    nenhum           03/01/2018\n",
       "6 9055        4               35    nenhum           04/01/2020\n",
       "  ESTADOCIVIL        PROPOSITO           CLASSE\n",
       "1 masculino solteiro radio/tv            bom   \n",
       "2 fem div/cas        radio/tv            ruim  \n",
       "3 masculino solteiro educação            bom   \n",
       "4 masculino solteiro mobilia/equipamento bom   \n",
       "5 masculino solteiro carro novo          ruim  \n",
       "6 masculino solteiro educação            bom   "
      ]
     },
     "metadata": {},
     "output_type": "display_data"
    }
   ],
   "source": [
    "dados <- read.csv(\"../data/credito4.csv\", sep = \";\", na.strings = \"\", stringsAsFactors = TRUE, encoding = \"UTF-8\")\n",
    "\n",
    "head(dados)\n"
   ]
  },
  {
   "cell_type": "code",
   "execution_count": 31,
   "metadata": {
    "vscode": {
     "languageId": "r"
    }
   },
   "outputs": [
    {
     "data": {
      "text/plain": [
       "  SALDO_ATUAL   RESIDENCIADESDE     IDADE       OUTROSPLANOSPGTO         DATA  \n",
       " Min.   :1204   Min.   :1       Min.   :20.00   banco : 2        21/12/2019:2  \n",
       " 1st Qu.:1278   1st Qu.:2       1st Qu.:27.50   nenhum:12        04/03/2019:1  \n",
       " Median :1938   Median :4       Median :35.00   stores: 1        08/01/2019:1  \n",
       " Mean   :2262   Mean   :3       Mean   :36.33                    13/01/2020:1  \n",
       " 3rd Qu.:2667   3rd Qu.:4       3rd Qu.:42.00                    13/04/2020:1  \n",
       " Max.   :4771   Max.   :4       Max.   :63.00                    17/01/2018:1  \n",
       " NA's   :7                                                       (Other)   :8  \n",
       "                 ESTADOCIVIL               PROPOSITO  CLASSE  \n",
       " fem div/cas           :3    radio/tv           :6   bom :10  \n",
       " masculino casado/viuvo:0    carro novo         :4   ruim: 5  \n",
       " masculino div/sep     :0    mobilia/equipamento:2            \n",
       " masculino solteiro    :4    carro usado        :1            \n",
       " NA's                  :8    Eletrodomésticos   :1            \n",
       "                             negócios           :1            \n",
       "                             (Other)            :0            "
      ]
     },
     "metadata": {},
     "output_type": "display_data"
    }
   ],
   "source": [
    "# Verificando a quantidade de valores NA\n",
    "summary(dados[!complete.cases(dados), ])\n"
   ]
  },
  {
   "cell_type": "markdown",
   "metadata": {},
   "source": [
    "### NA"
   ]
  },
  {
   "cell_type": "code",
   "execution_count": 32,
   "metadata": {
    "vscode": {
     "languageId": "r"
    }
   },
   "outputs": [
    {
     "data": {
      "text/plain": [
       "     Min.   1st Qu.    Median      Mean   3rd Qu.      Max.      NA's \n",
       "2.500e+02 1.371e+03 2.323e+03 2.426e+07 3.976e+03 2.154e+10         7 "
      ]
     },
     "metadata": {},
     "output_type": "display_data"
    }
   ],
   "source": [
    "summary(dados$SALDO_ATUAL)\n"
   ]
  },
  {
   "cell_type": "code",
   "execution_count": 33,
   "metadata": {
    "vscode": {
     "languageId": "r"
    }
   },
   "outputs": [
    {
     "data": {
      "text/html": [
       "2323"
      ],
      "text/latex": [
       "2323"
      ],
      "text/markdown": [
       "2323"
      ],
      "text/plain": [
       "[1] 2323"
      ]
     },
     "metadata": {},
     "output_type": "display_data"
    }
   ],
   "source": [
    "median(dados$SALDO_ATUAL, na.rm = TRUE)\n"
   ]
  },
  {
   "cell_type": "code",
   "execution_count": 34,
   "metadata": {
    "vscode": {
     "languageId": "r"
    }
   },
   "outputs": [],
   "source": [
    "# Substituindo os valores NA pela mediana\n",
    "dados$SALDO_ATUAL[is.na(dados$SALDO_ATUAL)] <- median(dados$SALDO_ATUAL, na.rm = TRUE)\n"
   ]
  },
  {
   "cell_type": "code",
   "execution_count": 35,
   "metadata": {
    "vscode": {
     "languageId": "r"
    }
   },
   "outputs": [
    {
     "data": {
      "text/html": [
       "<table class=\"dataframe\">\n",
       "<caption>A data.frame: 0 × 8</caption>\n",
       "<thead>\n",
       "\t<tr><th scope=col>SALDO_ATUAL</th><th scope=col>RESIDENCIADESDE</th><th scope=col>IDADE</th><th scope=col>OUTROSPLANOSPGTO</th><th scope=col>DATA</th><th scope=col>ESTADOCIVIL</th><th scope=col>PROPOSITO</th><th scope=col>CLASSE</th></tr>\n",
       "\t<tr><th scope=col>&lt;dbl&gt;</th><th scope=col>&lt;int&gt;</th><th scope=col>&lt;int&gt;</th><th scope=col>&lt;fct&gt;</th><th scope=col>&lt;fct&gt;</th><th scope=col>&lt;fct&gt;</th><th scope=col>&lt;fct&gt;</th><th scope=col>&lt;fct&gt;</th></tr>\n",
       "</thead>\n",
       "<tbody>\n",
       "</tbody>\n",
       "</table>\n"
      ],
      "text/latex": [
       "A data.frame: 0 × 8\n",
       "\\begin{tabular}{llllllll}\n",
       " SALDO\\_ATUAL & RESIDENCIADESDE & IDADE & OUTROSPLANOSPGTO & DATA & ESTADOCIVIL & PROPOSITO & CLASSE\\\\\n",
       " <dbl> & <int> & <int> & <fct> & <fct> & <fct> & <fct> & <fct>\\\\\n",
       "\\hline\n",
       "\\end{tabular}\n"
      ],
      "text/markdown": [
       "\n",
       "A data.frame: 0 × 8\n",
       "\n",
       "| SALDO_ATUAL &lt;dbl&gt; | RESIDENCIADESDE &lt;int&gt; | IDADE &lt;int&gt; | OUTROSPLANOSPGTO &lt;fct&gt; | DATA &lt;fct&gt; | ESTADOCIVIL &lt;fct&gt; | PROPOSITO &lt;fct&gt; | CLASSE &lt;fct&gt; |\n",
       "|---|---|---|---|---|---|---|---|\n",
       "\n"
      ],
      "text/plain": [
       "     SALDO_ATUAL RESIDENCIADESDE IDADE OUTROSPLANOSPGTO DATA ESTADOCIVIL\n",
       "     PROPOSITO CLASSE"
      ]
     },
     "metadata": {},
     "output_type": "display_data"
    }
   ],
   "source": [
    "dados[!complete.cases(dados$SALDO_ATUAL), ]\n"
   ]
  },
  {
   "cell_type": "code",
   "execution_count": 36,
   "metadata": {
    "vscode": {
     "languageId": "r"
    }
   },
   "outputs": [
    {
     "data": {
      "text/html": [
       "<style>\n",
       ".list-inline {list-style: none; margin:0; padding: 0}\n",
       ".list-inline>li {display: inline-block}\n",
       ".list-inline>li:not(:last-child)::after {content: \"\\00b7\"; padding: 0 .5ex}\n",
       "</style>\n",
       "<ol class=list-inline><li>masculino solteiro</li><li>fem div/cas</li><li>masculino div/sep</li><li>masculino casado/viuvo</li><li>&lt;NA&gt;</li></ol>\n",
       "\n",
       "<details>\n",
       "\t<summary style=display:list-item;cursor:pointer>\n",
       "\t\t<strong>Levels</strong>:\n",
       "\t</summary>\n",
       "\t<style>\n",
       "\t.list-inline {list-style: none; margin:0; padding: 0}\n",
       "\t.list-inline>li {display: inline-block}\n",
       "\t.list-inline>li:not(:last-child)::after {content: \"\\00b7\"; padding: 0 .5ex}\n",
       "\t</style>\n",
       "\t<ol class=list-inline><li>'fem div/cas'</li><li>'masculino casado/viuvo'</li><li>'masculino div/sep'</li><li>'masculino solteiro'</li></ol>\n",
       "</details>"
      ],
      "text/latex": [
       "\\begin{enumerate*}\n",
       "\\item masculino solteiro\n",
       "\\item fem div/cas\n",
       "\\item masculino div/sep\n",
       "\\item masculino casado/viuvo\n",
       "\\item <NA>\n",
       "\\end{enumerate*}\n",
       "\n",
       "\\emph{Levels}: \\begin{enumerate*}\n",
       "\\item 'fem div/cas'\n",
       "\\item 'masculino casado/viuvo'\n",
       "\\item 'masculino div/sep'\n",
       "\\item 'masculino solteiro'\n",
       "\\end{enumerate*}\n"
      ],
      "text/markdown": [
       "1. masculino solteiro\n",
       "2. fem div/cas\n",
       "3. masculino div/sep\n",
       "4. masculino casado/viuvo\n",
       "5. &lt;NA&gt;\n",
       "\n",
       "\n",
       "\n",
       "**Levels**: 1. 'fem div/cas'\n",
       "2. 'masculino casado/viuvo'\n",
       "3. 'masculino div/sep'\n",
       "4. 'masculino solteiro'\n",
       "\n",
       "\n"
      ],
      "text/plain": [
       "[1] masculino solteiro     fem div/cas            masculino div/sep     \n",
       "[4] masculino casado/viuvo <NA>                  \n",
       "4 Levels: fem div/cas masculino casado/viuvo ... masculino solteiro"
      ]
     },
     "metadata": {},
     "output_type": "display_data"
    }
   ],
   "source": [
    "unique(dados$ESTADOCIVIL)\n"
   ]
  },
  {
   "cell_type": "code",
   "execution_count": 37,
   "metadata": {
    "vscode": {
     "languageId": "r"
    }
   },
   "outputs": [
    {
     "data": {
      "text/html": [
       "<style>\n",
       ".dl-inline {width: auto; margin:0; padding: 0}\n",
       ".dl-inline>dt, .dl-inline>dd {float: none; width: auto; display: inline-block}\n",
       ".dl-inline>dt::after {content: \":\\0020\"; padding-right: .5ex}\n",
       ".dl-inline>dt:not(:first-of-type) {padding-left: .5ex}\n",
       "</style><dl class=dl-inline><dt>fem div/cas</dt><dd>308</dd><dt>masculino casado/viuvo</dt><dd>92</dd><dt>masculino div/sep</dt><dd>50</dd><dt>masculino solteiro</dt><dd>542</dd><dt>NA's</dt><dd>8</dd></dl>\n"
      ],
      "text/latex": [
       "\\begin{description*}\n",
       "\\item[fem div/cas] 308\n",
       "\\item[masculino casado/viuvo] 92\n",
       "\\item[masculino div/sep] 50\n",
       "\\item[masculino solteiro] 542\n",
       "\\item[NA's] 8\n",
       "\\end{description*}\n"
      ],
      "text/markdown": [
       "fem div/cas\n",
       ":   308masculino casado/viuvo\n",
       ":   92masculino div/sep\n",
       ":   50masculino solteiro\n",
       ":   542NA's\n",
       ":   8\n",
       "\n"
      ],
      "text/plain": [
       "           fem div/cas masculino casado/viuvo      masculino div/sep \n",
       "                   308                     92                     50 \n",
       "    masculino solteiro                   NA's \n",
       "                   542                      8 "
      ]
     },
     "metadata": {},
     "output_type": "display_data"
    }
   ],
   "source": [
    "summary(dados$ESTADOCIVIL)\n"
   ]
  },
  {
   "cell_type": "code",
   "execution_count": 38,
   "metadata": {
    "vscode": {
     "languageId": "r"
    }
   },
   "outputs": [],
   "source": [
    "# Substituindo os valores NA por \"masculino solteiro\"\n",
    "dados[is.na(dados$ESTADOCIVIL), ]$ESTADOCIVIL <- \"masculino solteiro\"\n"
   ]
  },
  {
   "cell_type": "code",
   "execution_count": 39,
   "metadata": {
    "vscode": {
     "languageId": "r"
    }
   },
   "outputs": [
    {
     "data": {
      "text/html": [
       "<table class=\"dataframe\">\n",
       "<caption>A data.frame: 0 × 8</caption>\n",
       "<thead>\n",
       "\t<tr><th scope=col>SALDO_ATUAL</th><th scope=col>RESIDENCIADESDE</th><th scope=col>IDADE</th><th scope=col>OUTROSPLANOSPGTO</th><th scope=col>DATA</th><th scope=col>ESTADOCIVIL</th><th scope=col>PROPOSITO</th><th scope=col>CLASSE</th></tr>\n",
       "\t<tr><th scope=col>&lt;dbl&gt;</th><th scope=col>&lt;int&gt;</th><th scope=col>&lt;int&gt;</th><th scope=col>&lt;fct&gt;</th><th scope=col>&lt;fct&gt;</th><th scope=col>&lt;fct&gt;</th><th scope=col>&lt;fct&gt;</th><th scope=col>&lt;fct&gt;</th></tr>\n",
       "</thead>\n",
       "<tbody>\n",
       "</tbody>\n",
       "</table>\n"
      ],
      "text/latex": [
       "A data.frame: 0 × 8\n",
       "\\begin{tabular}{llllllll}\n",
       " SALDO\\_ATUAL & RESIDENCIADESDE & IDADE & OUTROSPLANOSPGTO & DATA & ESTADOCIVIL & PROPOSITO & CLASSE\\\\\n",
       " <dbl> & <int> & <int> & <fct> & <fct> & <fct> & <fct> & <fct>\\\\\n",
       "\\hline\n",
       "\\end{tabular}\n"
      ],
      "text/markdown": [
       "\n",
       "A data.frame: 0 × 8\n",
       "\n",
       "| SALDO_ATUAL &lt;dbl&gt; | RESIDENCIADESDE &lt;int&gt; | IDADE &lt;int&gt; | OUTROSPLANOSPGTO &lt;fct&gt; | DATA &lt;fct&gt; | ESTADOCIVIL &lt;fct&gt; | PROPOSITO &lt;fct&gt; | CLASSE &lt;fct&gt; |\n",
       "|---|---|---|---|---|---|---|---|\n",
       "\n"
      ],
      "text/plain": [
       "     SALDO_ATUAL RESIDENCIADESDE IDADE OUTROSPLANOSPGTO DATA ESTADOCIVIL\n",
       "     PROPOSITO CLASSE"
      ]
     },
     "metadata": {},
     "output_type": "display_data"
    }
   ],
   "source": [
    "dados[is.na(dados$ESTADOCIVIL), ]\n"
   ]
  },
  {
   "cell_type": "markdown",
   "metadata": {},
   "source": [
    "### Outliers"
   ]
  },
  {
   "cell_type": "code",
   "execution_count": 40,
   "metadata": {
    "vscode": {
     "languageId": "r"
    }
   },
   "outputs": [
    {
     "data": {
      "text/html": [
       "685936688.982007"
      ],
      "text/latex": [
       "685936688.982007"
      ],
      "text/markdown": [
       "685936688.982007"
      ],
      "text/plain": [
       "[1] 685936689"
      ]
     },
     "metadata": {},
     "output_type": "display_data"
    }
   ],
   "source": [
    "desv <- sd(dados$SALDO_ATUAL, na.rm = TRUE)\n",
    "desv\n"
   ]
  },
  {
   "cell_type": "code",
   "execution_count": 41,
   "metadata": {
    "vscode": {
     "languageId": "r"
    }
   },
   "outputs": [
    {
     "data": {
      "text/html": [
       "<style>\n",
       ".list-inline {list-style: none; margin:0; padding: 0}\n",
       ".list-inline>li {display: inline-block}\n",
       ".list-inline>li:not(:last-child)::after {content: \"\\00b7\"; padding: 0 .5ex}\n",
       "</style>\n",
       "<ol class=list-inline><li>2541111000</li><li>21544411255</li></ol>\n"
      ],
      "text/latex": [
       "\\begin{enumerate*}\n",
       "\\item 2541111000\n",
       "\\item 21544411255\n",
       "\\end{enumerate*}\n"
      ],
      "text/markdown": [
       "1. 2541111000\n",
       "2. 21544411255\n",
       "\n",
       "\n"
      ],
      "text/plain": [
       "[1]  2541111000 21544411255"
      ]
     },
     "metadata": {},
     "output_type": "display_data"
    }
   ],
   "source": [
    "# Exibindo os valores que estão acima de 2 desvios padrão\n",
    "dados[dados$SALDO_ATUAL >= 2 * desv, ]$SALDO_ATUAL\n"
   ]
  },
  {
   "cell_type": "code",
   "execution_count": 42,
   "metadata": {
    "vscode": {
     "languageId": "r"
    }
   },
   "outputs": [],
   "source": [
    "# Substituindo os valores que estão acima de 2 desvios padrão pela mediana\n",
    "dados[dados$SALDO_ATUAL > 2 * desv, ]$SALDO_ATUAL <- median(dados$SALDO_ATUAL, na.rm = TRUE)\n"
   ]
  },
  {
   "cell_type": "code",
   "execution_count": 43,
   "metadata": {
    "vscode": {
     "languageId": "r"
    }
   },
   "outputs": [
    {
     "data": {
      "text/html": [],
      "text/latex": [],
      "text/markdown": [],
      "text/plain": [
       "numeric(0)"
      ]
     },
     "metadata": {},
     "output_type": "display_data"
    }
   ],
   "source": [
    "dados[dados$SALDO_ATUAL > 2 * desv, ]$SALDO_ATUAL\n"
   ]
  },
  {
   "cell_type": "markdown",
   "metadata": {},
   "source": [
    "### Data Binding"
   ]
  },
  {
   "cell_type": "code",
   "execution_count": 45,
   "metadata": {
    "vscode": {
     "languageId": "r"
    }
   },
   "outputs": [
    {
     "data": {
      "text/html": [
       "<style>\n",
       ".dl-inline {width: auto; margin:0; padding: 0}\n",
       ".dl-inline>dt, .dl-inline>dd {float: none; width: auto; display: inline-block}\n",
       ".dl-inline>dt::after {content: \":\\0020\"; padding-right: .5ex}\n",
       ".dl-inline>dt:not(:first-of-type) {padding-left: .5ex}\n",
       "</style><dl class=dl-inline><dt>carro novo</dt><dd>234</dd><dt>carro usado</dt><dd>103</dd><dt>educação</dt><dd>50</dd><dt>Eletrodomésticos</dt><dd>12</dd><dt>mobilia/equipamento</dt><dd>181</dd><dt>negócios</dt><dd>97</dd><dt>obras</dt><dd>22</dd><dt>outros</dt><dd>12</dd><dt>qualificação</dt><dd>9</dd><dt>radio/tv</dt><dd>280</dd></dl>\n"
      ],
      "text/latex": [
       "\\begin{description*}\n",
       "\\item[carro novo] 234\n",
       "\\item[carro usado] 103\n",
       "\\item[educação] 50\n",
       "\\item[Eletrodomésticos] 12\n",
       "\\item[mobilia/equipamento] 181\n",
       "\\item[negócios] 97\n",
       "\\item[obras] 22\n",
       "\\item[outros] 12\n",
       "\\item[qualificação] 9\n",
       "\\item[radio/tv] 280\n",
       "\\end{description*}\n"
      ],
      "text/markdown": [
       "carro novo\n",
       ":   234carro usado\n",
       ":   103educação\n",
       ":   50Eletrodomésticos\n",
       ":   12mobilia/equipamento\n",
       ":   181negócios\n",
       ":   97obras\n",
       ":   22outros\n",
       ":   12qualificação\n",
       ":   9radio/tv\n",
       ":   280\n",
       "\n"
      ],
      "text/plain": [
       "         carro novo         carro usado            educação    Eletrodomésticos \n",
       "                234                 103                  50                  12 \n",
       "mobilia/equipamento            negócios               obras              outros \n",
       "                181                  97                  22                  12 \n",
       "       qualificação            radio/tv \n",
       "                  9                 280 "
      ]
     },
     "metadata": {},
     "output_type": "display_data"
    }
   ],
   "source": [
    "summary(dados$PROPOSITO)\n"
   ]
  },
  {
   "cell_type": "code",
   "execution_count": 46,
   "metadata": {
    "vscode": {
     "languageId": "r"
    }
   },
   "outputs": [],
   "source": [
    "dados[dados$PROPOSITO == \"Eletrodomésticos\", ]$PROPOSITO <- \"outros\"\n",
    "dados[dados$PROPOSITO == \"mobilia/equipamento\", ]$PROPOSITO <- \"outros\"\n",
    "dados[dados$PROPOSITO == \"educação\", ]$PROPOSITO <- \"outros\"\n"
   ]
  },
  {
   "cell_type": "code",
   "execution_count": 47,
   "metadata": {
    "vscode": {
     "languageId": "r"
    }
   },
   "outputs": [],
   "source": [
    "# Convertendo a variável PROPOSITO para fator\n",
    "dados$PROPOSITO <- factor(dados$PROPOSITO)\n"
   ]
  },
  {
   "cell_type": "code",
   "execution_count": 48,
   "metadata": {
    "vscode": {
     "languageId": "r"
    }
   },
   "outputs": [
    {
     "data": {
      "text/html": [
       "<style>\n",
       ".dl-inline {width: auto; margin:0; padding: 0}\n",
       ".dl-inline>dt, .dl-inline>dd {float: none; width: auto; display: inline-block}\n",
       ".dl-inline>dt::after {content: \":\\0020\"; padding-right: .5ex}\n",
       ".dl-inline>dt:not(:first-of-type) {padding-left: .5ex}\n",
       "</style><dl class=dl-inline><dt>carro novo</dt><dd>234</dd><dt>carro usado</dt><dd>103</dd><dt>negócios</dt><dd>97</dd><dt>obras</dt><dd>22</dd><dt>outros</dt><dd>255</dd><dt>qualificação</dt><dd>9</dd><dt>radio/tv</dt><dd>280</dd></dl>\n"
      ],
      "text/latex": [
       "\\begin{description*}\n",
       "\\item[carro novo] 234\n",
       "\\item[carro usado] 103\n",
       "\\item[negócios] 97\n",
       "\\item[obras] 22\n",
       "\\item[outros] 255\n",
       "\\item[qualificação] 9\n",
       "\\item[radio/tv] 280\n",
       "\\end{description*}\n"
      ],
      "text/markdown": [
       "carro novo\n",
       ":   234carro usado\n",
       ":   103negócios\n",
       ":   97obras\n",
       ":   22outros\n",
       ":   255qualificação\n",
       ":   9radio/tv\n",
       ":   280\n",
       "\n"
      ],
      "text/plain": [
       "  carro novo  carro usado     negócios        obras       outros qualificação \n",
       "         234          103           97           22          255            9 \n",
       "    radio/tv \n",
       "         280 "
      ]
     },
     "metadata": {},
     "output_type": "display_data"
    }
   ],
   "source": [
    "summary(dados$PROPOSITO)\n"
   ]
  }
 ],
 "metadata": {
  "kernelspec": {
   "display_name": "R",
   "language": "R",
   "name": "ir"
  },
  "language_info": {
   "codemirror_mode": "r",
   "file_extension": ".r",
   "mimetype": "text/x-r-source",
   "name": "R",
   "pygments_lexer": "r",
   "version": "4.3.1"
  }
 },
 "nbformat": 4,
 "nbformat_minor": 2
}
